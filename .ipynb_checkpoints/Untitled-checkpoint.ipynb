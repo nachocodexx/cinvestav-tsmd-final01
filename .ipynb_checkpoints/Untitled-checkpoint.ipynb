{
 "cells": [
  {
   "cell_type": "code",
   "execution_count": 693,
   "id": "physical-disclosure",
   "metadata": {},
   "outputs": [],
   "source": [
    "import os\n",
    "import numpy as N\n",
    "import pandas as P\n",
    "import matplotlib.pyplot as M\n",
    "import seaborn as SB\n",
    "from sklearn.preprocessing import StandardScaler\n",
    "from sklearn.model_selection import train_test_split\n",
    "from sklearn.ensemble import BaggingClassifier,AdaBoostClassifier,GradientBoostingClassifier,RandomForestClassifier\n",
    "from sklearn.neighbors import KNeighborsClassifier\n",
    "from sklearn.linear_model import LogisticRegression,Perceptron\n",
    "from imblearn.over_sampling import RandomOverSampler,SMOTE,KMeansSMOTE\n",
    "from imblearn.under_sampling import RandomUnderSampler\n",
    "from sklearn.pipeline import Pipeline\n",
    "import pickle\n",
    "from collections import Counter"
   ]
  },
  {
   "cell_type": "code",
   "execution_count": 239,
   "id": "supported-payday",
   "metadata": {},
   "outputs": [],
   "source": [
    "df = P.read_csv(\"./data/data.csv\")\n",
    "df[\"TYPE\"] = df[\"TYPE\"].str.upper()\n",
    "df[\"USER_ROLE\"] = df[\"USER_ROLE\"].astype(\"category\")"
   ]
  },
  {
   "cell_type": "code",
   "execution_count": 240,
   "id": "revised-freeware",
   "metadata": {},
   "outputs": [
    {
     "name": "stdout",
     "output_type": "stream",
     "text": [
      "<class 'pandas.core.frame.DataFrame'>\n",
      "RangeIndex: 50757 entries, 0 to 50756\n",
      "Data columns (total 15 columns):\n",
      " #   Column          Non-Null Count  Dtype   \n",
      "---  ------          --------------  -----   \n",
      " 0   OPERATION_ID    50757 non-null  int64   \n",
      " 1   TYPE            50757 non-null  object  \n",
      " 2   USER_ID         50757 non-null  int64   \n",
      " 3   PRODUCTION      50757 non-null  float64 \n",
      " 4   CONSUME         50757 non-null  float64 \n",
      " 5   CONSUME_OTHERS  50757 non-null  float64 \n",
      " 6   USER_VOLUME     50757 non-null  int64   \n",
      " 7   USER_DENSITY    50757 non-null  float64 \n",
      " 8   USER_ROLE       1779 non-null   category\n",
      " 9   FILE_ID         50757 non-null  int64   \n",
      " 10  FILE_SIZE       50757 non-null  int64   \n",
      " 11  TOPIC_ID        50757 non-null  int64   \n",
      " 12  TOPIC_VOLUME    50757 non-null  int64   \n",
      " 13  TOPIC_DENSITY   50757 non-null  float64 \n",
      " 14  TOPIC_ROLE      50757 non-null  object  \n",
      "dtypes: category(1), float64(5), int64(7), object(2)\n",
      "memory usage: 5.5+ MB\n"
     ]
    }
   ],
   "source": [
    "df.info()"
   ]
  },
  {
   "cell_type": "code",
   "execution_count": 241,
   "id": "affiliated-mandate",
   "metadata": {},
   "outputs": [
    {
     "data": {
      "text/html": [
       "<div>\n",
       "<style scoped>\n",
       "    .dataframe tbody tr th:only-of-type {\n",
       "        vertical-align: middle;\n",
       "    }\n",
       "\n",
       "    .dataframe tbody tr th {\n",
       "        vertical-align: top;\n",
       "    }\n",
       "\n",
       "    .dataframe thead th {\n",
       "        text-align: right;\n",
       "    }\n",
       "</style>\n",
       "<table border=\"1\" class=\"dataframe\">\n",
       "  <thead>\n",
       "    <tr style=\"text-align: right;\">\n",
       "      <th></th>\n",
       "      <th>OPERATION_ID</th>\n",
       "      <th>USER_ID</th>\n",
       "      <th>PRODUCTION</th>\n",
       "      <th>CONSUME</th>\n",
       "      <th>CONSUME_OTHERS</th>\n",
       "      <th>USER_VOLUME</th>\n",
       "      <th>USER_DENSITY</th>\n",
       "      <th>FILE_ID</th>\n",
       "      <th>FILE_SIZE</th>\n",
       "      <th>TOPIC_ID</th>\n",
       "      <th>TOPIC_VOLUME</th>\n",
       "      <th>TOPIC_DENSITY</th>\n",
       "    </tr>\n",
       "  </thead>\n",
       "  <tbody>\n",
       "    <tr>\n",
       "      <th>count</th>\n",
       "      <td>50757.000000</td>\n",
       "      <td>5.075700e+04</td>\n",
       "      <td>50757.000000</td>\n",
       "      <td>50757.000000</td>\n",
       "      <td>50757.000000</td>\n",
       "      <td>5.075700e+04</td>\n",
       "      <td>50757.000000</td>\n",
       "      <td>50757.000000</td>\n",
       "      <td>50757.000000</td>\n",
       "      <td>50757.000000</td>\n",
       "      <td>5.075700e+04</td>\n",
       "      <td>50757.000000</td>\n",
       "    </tr>\n",
       "    <tr>\n",
       "      <th>mean</th>\n",
       "      <td>6732.547826</td>\n",
       "      <td>8.143897e+08</td>\n",
       "      <td>0.000391</td>\n",
       "      <td>0.013809</td>\n",
       "      <td>0.025569</td>\n",
       "      <td>6.822392e+03</td>\n",
       "      <td>447.983285</td>\n",
       "      <td>114.767953</td>\n",
       "      <td>5.099080</td>\n",
       "      <td>12.337884</td>\n",
       "      <td>9.595319e+06</td>\n",
       "      <td>140766.670654</td>\n",
       "    </tr>\n",
       "    <tr>\n",
       "      <th>std</th>\n",
       "      <td>5327.472492</td>\n",
       "      <td>8.346721e+08</td>\n",
       "      <td>0.002695</td>\n",
       "      <td>0.030600</td>\n",
       "      <td>0.270463</td>\n",
       "      <td>1.530099e+05</td>\n",
       "      <td>7667.915318</td>\n",
       "      <td>96.105195</td>\n",
       "      <td>1.977525</td>\n",
       "      <td>7.401670</td>\n",
       "      <td>1.225478e+07</td>\n",
       "      <td>158688.926152</td>\n",
       "    </tr>\n",
       "    <tr>\n",
       "      <th>min</th>\n",
       "      <td>1.000000</td>\n",
       "      <td>4.163000e+03</td>\n",
       "      <td>0.000000</td>\n",
       "      <td>0.000000</td>\n",
       "      <td>0.000000</td>\n",
       "      <td>0.000000e+00</td>\n",
       "      <td>0.000000</td>\n",
       "      <td>1.000000</td>\n",
       "      <td>1.000000</td>\n",
       "      <td>1.000000</td>\n",
       "      <td>7.000000e+00</td>\n",
       "      <td>5.050000</td>\n",
       "    </tr>\n",
       "    <tr>\n",
       "      <th>25%</th>\n",
       "      <td>2563.000000</td>\n",
       "      <td>1.773206e+08</td>\n",
       "      <td>0.000000</td>\n",
       "      <td>0.004206</td>\n",
       "      <td>0.000000</td>\n",
       "      <td>0.000000e+00</td>\n",
       "      <td>0.000000</td>\n",
       "      <td>43.000000</td>\n",
       "      <td>4.000000</td>\n",
       "      <td>5.000000</td>\n",
       "      <td>1.707174e+06</td>\n",
       "      <td>46620.733299</td>\n",
       "    </tr>\n",
       "    <tr>\n",
       "      <th>50%</th>\n",
       "      <td>5437.000000</td>\n",
       "      <td>3.723888e+08</td>\n",
       "      <td>0.000000</td>\n",
       "      <td>0.011120</td>\n",
       "      <td>0.000000</td>\n",
       "      <td>0.000000e+00</td>\n",
       "      <td>0.000000</td>\n",
       "      <td>83.000000</td>\n",
       "      <td>5.000000</td>\n",
       "      <td>12.000000</td>\n",
       "      <td>5.777280e+06</td>\n",
       "      <td>77027.883382</td>\n",
       "    </tr>\n",
       "    <tr>\n",
       "      <th>75%</th>\n",
       "      <td>9185.000000</td>\n",
       "      <td>1.510811e+09</td>\n",
       "      <td>0.000000</td>\n",
       "      <td>0.011120</td>\n",
       "      <td>0.000000</td>\n",
       "      <td>0.000000e+00</td>\n",
       "      <td>0.000000</td>\n",
       "      <td>174.000000</td>\n",
       "      <td>6.000000</td>\n",
       "      <td>17.000000</td>\n",
       "      <td>1.003422e+07</td>\n",
       "      <td>164303.266976</td>\n",
       "    </tr>\n",
       "    <tr>\n",
       "      <th>max</th>\n",
       "      <td>20262.000000</td>\n",
       "      <td>2.917676e+09</td>\n",
       "      <td>0.066719</td>\n",
       "      <td>0.478150</td>\n",
       "      <td>10.007784</td>\n",
       "      <td>7.740000e+06</td>\n",
       "      <td>487858.567604</td>\n",
       "      <td>353.000000</td>\n",
       "      <td>10.000000</td>\n",
       "      <td>26.000000</td>\n",
       "      <td>4.814861e+07</td>\n",
       "      <td>621071.733518</td>\n",
       "    </tr>\n",
       "  </tbody>\n",
       "</table>\n",
       "</div>"
      ],
      "text/plain": [
       "       OPERATION_ID       USER_ID    PRODUCTION       CONSUME  CONSUME_OTHERS  \\\n",
       "count  50757.000000  5.075700e+04  50757.000000  50757.000000    50757.000000   \n",
       "mean    6732.547826  8.143897e+08      0.000391      0.013809        0.025569   \n",
       "std     5327.472492  8.346721e+08      0.002695      0.030600        0.270463   \n",
       "min        1.000000  4.163000e+03      0.000000      0.000000        0.000000   \n",
       "25%     2563.000000  1.773206e+08      0.000000      0.004206        0.000000   \n",
       "50%     5437.000000  3.723888e+08      0.000000      0.011120        0.000000   \n",
       "75%     9185.000000  1.510811e+09      0.000000      0.011120        0.000000   \n",
       "max    20262.000000  2.917676e+09      0.066719      0.478150       10.007784   \n",
       "\n",
       "        USER_VOLUME   USER_DENSITY       FILE_ID     FILE_SIZE      TOPIC_ID  \\\n",
       "count  5.075700e+04   50757.000000  50757.000000  50757.000000  50757.000000   \n",
       "mean   6.822392e+03     447.983285    114.767953      5.099080     12.337884   \n",
       "std    1.530099e+05    7667.915318     96.105195      1.977525      7.401670   \n",
       "min    0.000000e+00       0.000000      1.000000      1.000000      1.000000   \n",
       "25%    0.000000e+00       0.000000     43.000000      4.000000      5.000000   \n",
       "50%    0.000000e+00       0.000000     83.000000      5.000000     12.000000   \n",
       "75%    0.000000e+00       0.000000    174.000000      6.000000     17.000000   \n",
       "max    7.740000e+06  487858.567604    353.000000     10.000000     26.000000   \n",
       "\n",
       "       TOPIC_VOLUME  TOPIC_DENSITY  \n",
       "count  5.075700e+04   50757.000000  \n",
       "mean   9.595319e+06  140766.670654  \n",
       "std    1.225478e+07  158688.926152  \n",
       "min    7.000000e+00       5.050000  \n",
       "25%    1.707174e+06   46620.733299  \n",
       "50%    5.777280e+06   77027.883382  \n",
       "75%    1.003422e+07  164303.266976  \n",
       "max    4.814861e+07  621071.733518  "
      ]
     },
     "execution_count": 241,
     "metadata": {},
     "output_type": "execute_result"
    }
   ],
   "source": [
    "df.describe()"
   ]
  },
  {
   "cell_type": "code",
   "execution_count": 242,
   "id": "raising-instrument",
   "metadata": {},
   "outputs": [
    {
     "data": {
      "text/html": [
       "<div>\n",
       "<style scoped>\n",
       "    .dataframe tbody tr th:only-of-type {\n",
       "        vertical-align: middle;\n",
       "    }\n",
       "\n",
       "    .dataframe tbody tr th {\n",
       "        vertical-align: top;\n",
       "    }\n",
       "\n",
       "    .dataframe thead th {\n",
       "        text-align: right;\n",
       "    }\n",
       "</style>\n",
       "<table border=\"1\" class=\"dataframe\">\n",
       "  <thead>\n",
       "    <tr style=\"text-align: right;\">\n",
       "      <th></th>\n",
       "      <th>OPERATION_ID</th>\n",
       "      <th>TYPE</th>\n",
       "      <th>USER_ID</th>\n",
       "      <th>PRODUCTION</th>\n",
       "      <th>CONSUME</th>\n",
       "      <th>CONSUME_OTHERS</th>\n",
       "      <th>USER_VOLUME</th>\n",
       "      <th>USER_DENSITY</th>\n",
       "      <th>USER_ROLE</th>\n",
       "      <th>FILE_ID</th>\n",
       "      <th>FILE_SIZE</th>\n",
       "      <th>TOPIC_ID</th>\n",
       "      <th>TOPIC_VOLUME</th>\n",
       "      <th>TOPIC_DENSITY</th>\n",
       "      <th>TOPIC_ROLE</th>\n",
       "    </tr>\n",
       "  </thead>\n",
       "  <tbody>\n",
       "    <tr>\n",
       "      <th>0</th>\n",
       "      <td>1</td>\n",
       "      <td>DOWNLOAD</td>\n",
       "      <td>43114731</td>\n",
       "      <td>0.01112</td>\n",
       "      <td>0.000000</td>\n",
       "      <td>0.233515</td>\n",
       "      <td>1764</td>\n",
       "      <td>9.966667</td>\n",
       "      <td>Gamma</td>\n",
       "      <td>100</td>\n",
       "      <td>4</td>\n",
       "      <td>17</td>\n",
       "      <td>5167328</td>\n",
       "      <td>47838.233327</td>\n",
       "      <td>Alpha</td>\n",
       "    </tr>\n",
       "    <tr>\n",
       "      <th>1</th>\n",
       "      <td>2</td>\n",
       "      <td>DOWNLOAD</td>\n",
       "      <td>1405534545</td>\n",
       "      <td>0.00000</td>\n",
       "      <td>0.022240</td>\n",
       "      <td>0.000000</td>\n",
       "      <td>0</td>\n",
       "      <td>0.000000</td>\n",
       "      <td>NaN</td>\n",
       "      <td>100</td>\n",
       "      <td>4</td>\n",
       "      <td>17</td>\n",
       "      <td>5167328</td>\n",
       "      <td>47838.233327</td>\n",
       "      <td>Alpha</td>\n",
       "    </tr>\n",
       "    <tr>\n",
       "      <th>2</th>\n",
       "      <td>2</td>\n",
       "      <td>DOWNLOAD</td>\n",
       "      <td>1405534545</td>\n",
       "      <td>0.00000</td>\n",
       "      <td>0.022240</td>\n",
       "      <td>0.000000</td>\n",
       "      <td>0</td>\n",
       "      <td>0.000000</td>\n",
       "      <td>NaN</td>\n",
       "      <td>100</td>\n",
       "      <td>4</td>\n",
       "      <td>17</td>\n",
       "      <td>5167328</td>\n",
       "      <td>47838.233327</td>\n",
       "      <td>Alpha</td>\n",
       "    </tr>\n",
       "    <tr>\n",
       "      <th>3</th>\n",
       "      <td>3</td>\n",
       "      <td>DOWNLOAD</td>\n",
       "      <td>640881322</td>\n",
       "      <td>0.00000</td>\n",
       "      <td>0.011120</td>\n",
       "      <td>0.000000</td>\n",
       "      <td>0</td>\n",
       "      <td>0.000000</td>\n",
       "      <td>NaN</td>\n",
       "      <td>100</td>\n",
       "      <td>4</td>\n",
       "      <td>17</td>\n",
       "      <td>5167328</td>\n",
       "      <td>47838.233327</td>\n",
       "      <td>Alpha</td>\n",
       "    </tr>\n",
       "    <tr>\n",
       "      <th>4</th>\n",
       "      <td>4</td>\n",
       "      <td>DOWNLOAD</td>\n",
       "      <td>1416963334</td>\n",
       "      <td>0.00000</td>\n",
       "      <td>0.011120</td>\n",
       "      <td>0.000000</td>\n",
       "      <td>0</td>\n",
       "      <td>0.000000</td>\n",
       "      <td>NaN</td>\n",
       "      <td>100</td>\n",
       "      <td>4</td>\n",
       "      <td>17</td>\n",
       "      <td>5167328</td>\n",
       "      <td>47838.233327</td>\n",
       "      <td>Alpha</td>\n",
       "    </tr>\n",
       "    <tr>\n",
       "      <th>5</th>\n",
       "      <td>5</td>\n",
       "      <td>DOWNLOAD</td>\n",
       "      <td>2189419908</td>\n",
       "      <td>0.00000</td>\n",
       "      <td>0.033359</td>\n",
       "      <td>0.000000</td>\n",
       "      <td>0</td>\n",
       "      <td>0.000000</td>\n",
       "      <td>NaN</td>\n",
       "      <td>100</td>\n",
       "      <td>4</td>\n",
       "      <td>17</td>\n",
       "      <td>5167328</td>\n",
       "      <td>47838.233327</td>\n",
       "      <td>Alpha</td>\n",
       "    </tr>\n",
       "    <tr>\n",
       "      <th>6</th>\n",
       "      <td>5</td>\n",
       "      <td>DOWNLOAD</td>\n",
       "      <td>2189419908</td>\n",
       "      <td>0.00000</td>\n",
       "      <td>0.033359</td>\n",
       "      <td>0.000000</td>\n",
       "      <td>0</td>\n",
       "      <td>0.000000</td>\n",
       "      <td>NaN</td>\n",
       "      <td>100</td>\n",
       "      <td>4</td>\n",
       "      <td>17</td>\n",
       "      <td>5167328</td>\n",
       "      <td>47838.233327</td>\n",
       "      <td>Alpha</td>\n",
       "    </tr>\n",
       "    <tr>\n",
       "      <th>7</th>\n",
       "      <td>5</td>\n",
       "      <td>DOWNLOAD</td>\n",
       "      <td>2189419908</td>\n",
       "      <td>0.00000</td>\n",
       "      <td>0.033359</td>\n",
       "      <td>0.000000</td>\n",
       "      <td>0</td>\n",
       "      <td>0.000000</td>\n",
       "      <td>NaN</td>\n",
       "      <td>100</td>\n",
       "      <td>4</td>\n",
       "      <td>17</td>\n",
       "      <td>5167328</td>\n",
       "      <td>47838.233327</td>\n",
       "      <td>Alpha</td>\n",
       "    </tr>\n",
       "    <tr>\n",
       "      <th>8</th>\n",
       "      <td>6</td>\n",
       "      <td>DOWNLOAD</td>\n",
       "      <td>1664876423</td>\n",
       "      <td>0.00000</td>\n",
       "      <td>0.011120</td>\n",
       "      <td>0.000000</td>\n",
       "      <td>0</td>\n",
       "      <td>0.000000</td>\n",
       "      <td>NaN</td>\n",
       "      <td>100</td>\n",
       "      <td>4</td>\n",
       "      <td>17</td>\n",
       "      <td>5167328</td>\n",
       "      <td>47838.233327</td>\n",
       "      <td>Alpha</td>\n",
       "    </tr>\n",
       "    <tr>\n",
       "      <th>9</th>\n",
       "      <td>7</td>\n",
       "      <td>DOWNLOAD</td>\n",
       "      <td>242461431</td>\n",
       "      <td>0.00000</td>\n",
       "      <td>0.011120</td>\n",
       "      <td>0.000000</td>\n",
       "      <td>0</td>\n",
       "      <td>0.000000</td>\n",
       "      <td>NaN</td>\n",
       "      <td>100</td>\n",
       "      <td>4</td>\n",
       "      <td>17</td>\n",
       "      <td>5167328</td>\n",
       "      <td>47838.233327</td>\n",
       "      <td>Alpha</td>\n",
       "    </tr>\n",
       "  </tbody>\n",
       "</table>\n",
       "</div>"
      ],
      "text/plain": [
       "   OPERATION_ID      TYPE     USER_ID  PRODUCTION   CONSUME  CONSUME_OTHERS  \\\n",
       "0             1  DOWNLOAD    43114731     0.01112  0.000000        0.233515   \n",
       "1             2  DOWNLOAD  1405534545     0.00000  0.022240        0.000000   \n",
       "2             2  DOWNLOAD  1405534545     0.00000  0.022240        0.000000   \n",
       "3             3  DOWNLOAD   640881322     0.00000  0.011120        0.000000   \n",
       "4             4  DOWNLOAD  1416963334     0.00000  0.011120        0.000000   \n",
       "5             5  DOWNLOAD  2189419908     0.00000  0.033359        0.000000   \n",
       "6             5  DOWNLOAD  2189419908     0.00000  0.033359        0.000000   \n",
       "7             5  DOWNLOAD  2189419908     0.00000  0.033359        0.000000   \n",
       "8             6  DOWNLOAD  1664876423     0.00000  0.011120        0.000000   \n",
       "9             7  DOWNLOAD   242461431     0.00000  0.011120        0.000000   \n",
       "\n",
       "   USER_VOLUME  USER_DENSITY USER_ROLE  FILE_ID  FILE_SIZE  TOPIC_ID  \\\n",
       "0         1764      9.966667     Gamma      100          4        17   \n",
       "1            0      0.000000       NaN      100          4        17   \n",
       "2            0      0.000000       NaN      100          4        17   \n",
       "3            0      0.000000       NaN      100          4        17   \n",
       "4            0      0.000000       NaN      100          4        17   \n",
       "5            0      0.000000       NaN      100          4        17   \n",
       "6            0      0.000000       NaN      100          4        17   \n",
       "7            0      0.000000       NaN      100          4        17   \n",
       "8            0      0.000000       NaN      100          4        17   \n",
       "9            0      0.000000       NaN      100          4        17   \n",
       "\n",
       "   TOPIC_VOLUME  TOPIC_DENSITY TOPIC_ROLE  \n",
       "0       5167328   47838.233327      Alpha  \n",
       "1       5167328   47838.233327      Alpha  \n",
       "2       5167328   47838.233327      Alpha  \n",
       "3       5167328   47838.233327      Alpha  \n",
       "4       5167328   47838.233327      Alpha  \n",
       "5       5167328   47838.233327      Alpha  \n",
       "6       5167328   47838.233327      Alpha  \n",
       "7       5167328   47838.233327      Alpha  \n",
       "8       5167328   47838.233327      Alpha  \n",
       "9       5167328   47838.233327      Alpha  "
      ]
     },
     "execution_count": 242,
     "metadata": {},
     "output_type": "execute_result"
    }
   ],
   "source": [
    "df.head(10)"
   ]
  },
  {
   "cell_type": "code",
   "execution_count": null,
   "id": "extra-terrorist",
   "metadata": {},
   "outputs": [],
   "source": []
  },
  {
   "cell_type": "markdown",
   "id": "vulnerable-street",
   "metadata": {},
   "source": [
    "# Producers"
   ]
  },
  {
   "cell_type": "code",
   "execution_count": 243,
   "id": "black-glory",
   "metadata": {},
   "outputs": [
    {
     "data": {
      "text/html": [
       "<div>\n",
       "<style scoped>\n",
       "    .dataframe tbody tr th:only-of-type {\n",
       "        vertical-align: middle;\n",
       "    }\n",
       "\n",
       "    .dataframe tbody tr th {\n",
       "        vertical-align: top;\n",
       "    }\n",
       "\n",
       "    .dataframe thead th {\n",
       "        text-align: right;\n",
       "    }\n",
       "</style>\n",
       "<table border=\"1\" class=\"dataframe\">\n",
       "  <thead>\n",
       "    <tr style=\"text-align: right;\">\n",
       "      <th></th>\n",
       "      <th>PRODUCTION</th>\n",
       "      <th>CONSUME</th>\n",
       "      <th>CONSUME_OTHERS</th>\n",
       "      <th>USER_VOLUME</th>\n",
       "      <th>USER_DENSITY</th>\n",
       "      <th>USER_ROLE</th>\n",
       "    </tr>\n",
       "  </thead>\n",
       "  <tbody>\n",
       "    <tr>\n",
       "      <th>8993</th>\n",
       "      <td>0.01112</td>\n",
       "      <td>0.00000</td>\n",
       "      <td>0.233515</td>\n",
       "      <td>1764</td>\n",
       "      <td>9.966667</td>\n",
       "      <td>Gamma</td>\n",
       "    </tr>\n",
       "    <tr>\n",
       "      <th>9015</th>\n",
       "      <td>0.01112</td>\n",
       "      <td>0.00000</td>\n",
       "      <td>0.378072</td>\n",
       "      <td>4624</td>\n",
       "      <td>28.850000</td>\n",
       "      <td>Gamma</td>\n",
       "    </tr>\n",
       "    <tr>\n",
       "      <th>9055</th>\n",
       "      <td>0.02224</td>\n",
       "      <td>0.00000</td>\n",
       "      <td>2.001557</td>\n",
       "      <td>97200</td>\n",
       "      <td>11407.200006</td>\n",
       "      <td>Gamma</td>\n",
       "    </tr>\n",
       "    <tr>\n",
       "      <th>9056</th>\n",
       "      <td>0.02224</td>\n",
       "      <td>0.00000</td>\n",
       "      <td>2.001557</td>\n",
       "      <td>97200</td>\n",
       "      <td>11407.200006</td>\n",
       "      <td>Gamma</td>\n",
       "    </tr>\n",
       "    <tr>\n",
       "      <th>9094</th>\n",
       "      <td>0.02224</td>\n",
       "      <td>0.00000</td>\n",
       "      <td>3.335928</td>\n",
       "      <td>450000</td>\n",
       "      <td>18561.783296</td>\n",
       "      <td>Beta</td>\n",
       "    </tr>\n",
       "    <tr>\n",
       "      <th>...</th>\n",
       "      <td>...</td>\n",
       "      <td>...</td>\n",
       "      <td>...</td>\n",
       "      <td>...</td>\n",
       "      <td>...</td>\n",
       "      <td>...</td>\n",
       "    </tr>\n",
       "    <tr>\n",
       "      <th>50058</th>\n",
       "      <td>0.01112</td>\n",
       "      <td>0.00000</td>\n",
       "      <td>1.667964</td>\n",
       "      <td>112500</td>\n",
       "      <td>9755.133298</td>\n",
       "      <td>Gamma</td>\n",
       "    </tr>\n",
       "    <tr>\n",
       "      <th>50207</th>\n",
       "      <td>0.01112</td>\n",
       "      <td>0.00000</td>\n",
       "      <td>1.667964</td>\n",
       "      <td>135000</td>\n",
       "      <td>11792.016643</td>\n",
       "      <td>Alpha</td>\n",
       "    </tr>\n",
       "    <tr>\n",
       "      <th>50355</th>\n",
       "      <td>0.01112</td>\n",
       "      <td>0.00000</td>\n",
       "      <td>1.656844</td>\n",
       "      <td>133206</td>\n",
       "      <td>15091.433395</td>\n",
       "      <td>Beta</td>\n",
       "    </tr>\n",
       "    <tr>\n",
       "      <th>50647</th>\n",
       "      <td>0.01112</td>\n",
       "      <td>0.01112</td>\n",
       "      <td>0.033359</td>\n",
       "      <td>27</td>\n",
       "      <td>175.533327</td>\n",
       "      <td>Gamma</td>\n",
       "    </tr>\n",
       "    <tr>\n",
       "      <th>50651</th>\n",
       "      <td>0.01112</td>\n",
       "      <td>0.00000</td>\n",
       "      <td>1.200934</td>\n",
       "      <td>46656</td>\n",
       "      <td>5859.916686</td>\n",
       "      <td>Gamma</td>\n",
       "    </tr>\n",
       "  </tbody>\n",
       "</table>\n",
       "<p>581 rows × 6 columns</p>\n",
       "</div>"
      ],
      "text/plain": [
       "       PRODUCTION  CONSUME  CONSUME_OTHERS  USER_VOLUME  USER_DENSITY  \\\n",
       "8993      0.01112  0.00000        0.233515         1764      9.966667   \n",
       "9015      0.01112  0.00000        0.378072         4624     28.850000   \n",
       "9055      0.02224  0.00000        2.001557        97200  11407.200006   \n",
       "9056      0.02224  0.00000        2.001557        97200  11407.200006   \n",
       "9094      0.02224  0.00000        3.335928       450000  18561.783296   \n",
       "...           ...      ...             ...          ...           ...   \n",
       "50058     0.01112  0.00000        1.667964       112500   9755.133298   \n",
       "50207     0.01112  0.00000        1.667964       135000  11792.016643   \n",
       "50355     0.01112  0.00000        1.656844       133206  15091.433395   \n",
       "50647     0.01112  0.01112        0.033359           27    175.533327   \n",
       "50651     0.01112  0.00000        1.200934        46656   5859.916686   \n",
       "\n",
       "      USER_ROLE  \n",
       "8993      Gamma  \n",
       "9015      Gamma  \n",
       "9055      Gamma  \n",
       "9056      Gamma  \n",
       "9094       Beta  \n",
       "...         ...  \n",
       "50058     Gamma  \n",
       "50207     Alpha  \n",
       "50355      Beta  \n",
       "50647     Gamma  \n",
       "50651     Gamma  \n",
       "\n",
       "[581 rows x 6 columns]"
      ]
     },
     "execution_count": 243,
     "metadata": {},
     "output_type": "execute_result"
    }
   ],
   "source": [
    "DEFAULT_COLUMNS = [\"PRODUCTION\",\"CONSUME\",\"CONSUME_OTHERS\",\"USER_VOLUME\",\"USER_DENSITY\",\"USER_ROLE\"]\n",
    "PRODUCERS_DF    = df[df[\"TYPE\"]==\"UPLOAD\"]\n",
    "PRODUCERS_ROLES = PRODUCERS_DF[\"USER_ROLE\"]\n",
    "PRODUCERS       = PRODUCERS_DF[DEFAULT_COLUMNS]\n",
    "PRODUCERS"
   ]
  },
  {
   "cell_type": "code",
   "execution_count": 244,
   "id": "insured-avatar",
   "metadata": {},
   "outputs": [
    {
     "data": {
      "text/plain": [
       "<seaborn.axisgrid.PairGrid at 0x7f65583e0a30>"
      ]
     },
     "execution_count": 244,
     "metadata": {},
     "output_type": "execute_result"
    },
    {
     "data": {
      "image/png": "[encoded data removed]",
      "text/plain": [
       "<Figure size 975.25x900 with 30 Axes>"
      ]
     },
     "metadata": {
      "needs_background": "light"
     },
     "output_type": "display_data"
    }
   ],
   "source": [
    "g = SB.PairGrid(PRODUCERS,hue=\"USER_ROLE\")\n",
    "g.map_diag(SB.histplot)\n",
    "g.map_offdiag(SB.scatterplot)\n",
    "g.add_legend()"
   ]
  },
  {
   "cell_type": "code",
   "execution_count": 245,
   "id": "unlimited-phase",
   "metadata": {},
   "outputs": [
    {
     "data": {
      "image/png": "[encoded data removed]",
      "text/plain": [
       "<Figure size 432x288 with 2 Axes>"
      ]
     },
     "metadata": {
      "needs_background": "light"
     },
     "output_type": "display_data"
    }
   ],
   "source": [
    "correlation = PRODUCERS.corr()\n",
    "ax= SB.heatmap(\n",
    "    correlation,\n",
    "    vmin=-1,vmax=1,center=0,\n",
    "    square =True\n",
    ")\n",
    "ax.set_xticklabels(\n",
    "    ax.get_xticklabels(),\n",
    "    rotation=45,\n",
    "    horizontalalignment='right'\n",
    ");"
   ]
  },
  {
   "cell_type": "markdown",
   "id": "velvet-patent",
   "metadata": {},
   "source": [
    "#### Split data into random train and test subsets"
   ]
  },
  {
   "cell_type": "code",
   "execution_count": 246,
   "id": "generic-light",
   "metadata": {},
   "outputs": [
    {
     "data": {
      "text/plain": [
       "<AxesSubplot:xlabel='USER_VOLUME', ylabel='USER_DENSITY'>"
      ]
     },
     "execution_count": 246,
     "metadata": {},
     "output_type": "execute_result"
    },
    {
     "data": {
      "image/png": "[encoded data removed]",
      "text/plain": [
       "<Figure size 432x288 with 1 Axes>"
      ]
     },
     "metadata": {
      "needs_background": "light"
     },
     "output_type": "display_data"
    }
   ],
   "source": [
    "CLEAN_PRODUCERS = PRODUCERS[[\"USER_VOLUME\",\"USER_DENSITY\"]]\n",
    "SB.scatterplot(data=CLEAN_PRODUCERS,x=\"USER_VOLUME\",y=\"USER_DENSITY\")"
   ]
  },
  {
   "cell_type": "code",
   "execution_count": 570,
   "id": "norman-valuation",
   "metadata": {},
   "outputs": [],
   "source": [
    "X_train0,X_test0,y_train0,y_test0 = train_test_split(CLEAN_PRODUCERS,PRODUCERS_ROLES,test_size=0.3)"
   ]
  },
  {
   "cell_type": "code",
   "execution_count": 248,
   "id": "thorough-volume",
   "metadata": {},
   "outputs": [
    {
     "data": {
      "text/plain": [
       "0.9142857142857143"
      ]
     },
     "execution_count": 248,
     "metadata": {},
     "output_type": "execute_result"
    }
   ],
   "source": [
    "knn_clf  = KNeighborsClassifier()\n",
    "knn_clf.fit(X_train0,y_train0)\n",
    "score=knn_clf.score(X_test0,y_test0)\n",
    "score"
   ]
  },
  {
   "cell_type": "code",
   "execution_count": 249,
   "id": "terminal-bicycle",
   "metadata": {},
   "outputs": [],
   "source": [
    "bagging = BaggingClassifier(KNeighborsClassifier(),max_samples=0.5, max_features=0.5)"
   ]
  },
  {
   "cell_type": "code",
   "execution_count": 250,
   "id": "rough-mauritius",
   "metadata": {},
   "outputs": [
    {
     "data": {
      "text/plain": [
       "BaggingClassifier(base_estimator=KNeighborsClassifier(), max_features=0.5,\n",
       "                  max_samples=0.5)"
      ]
     },
     "execution_count": 250,
     "metadata": {},
     "output_type": "execute_result"
    }
   ],
   "source": [
    "bagging.fit(X_train0,y_train0)"
   ]
  },
  {
   "cell_type": "code",
   "execution_count": 251,
   "id": "geographic-combine",
   "metadata": {},
   "outputs": [
    {
     "data": {
      "text/plain": [
       "0.9314285714285714"
      ]
     },
     "execution_count": 251,
     "metadata": {},
     "output_type": "execute_result"
    }
   ],
   "source": [
    "score0 = bagging.score(X_test0,y_test0)\n",
    "score0"
   ]
  },
  {
   "cell_type": "code",
   "execution_count": 252,
   "id": "interested-longer",
   "metadata": {},
   "outputs": [],
   "source": [
    "ALPHA_DF = PRODUCERS_DF[PRODUCERS_DF[\"USER_ROLE\"]==\"Alpha\"]\n",
    "BETA_DF  = PRODUCERS_DF[PRODUCERS_DF[\"USER_ROLE\"]==\"Beta\"]\n",
    "GAMMA_DF = PRODUCERS_DF[PRODUCERS_DF[\"USER_ROLE\"]==\"Gamma\"]"
   ]
  },
  {
   "cell_type": "code",
   "execution_count": 253,
   "id": "informational-transition",
   "metadata": {},
   "outputs": [
    {
     "data": {
      "text/html": [
       "<div>\n",
       "<style scoped>\n",
       "    .dataframe tbody tr th:only-of-type {\n",
       "        vertical-align: middle;\n",
       "    }\n",
       "\n",
       "    .dataframe tbody tr th {\n",
       "        vertical-align: top;\n",
       "    }\n",
       "\n",
       "    .dataframe thead th {\n",
       "        text-align: right;\n",
       "    }\n",
       "</style>\n",
       "<table border=\"1\" class=\"dataframe\">\n",
       "  <thead>\n",
       "    <tr style=\"text-align: right;\">\n",
       "      <th></th>\n",
       "      <th>USER_ROLE</th>\n",
       "      <th>COUNT</th>\n",
       "    </tr>\n",
       "  </thead>\n",
       "  <tbody>\n",
       "    <tr>\n",
       "      <th>0</th>\n",
       "      <td>Alpha</td>\n",
       "      <td>95</td>\n",
       "    </tr>\n",
       "    <tr>\n",
       "      <th>1</th>\n",
       "      <td>Beta</td>\n",
       "      <td>77</td>\n",
       "    </tr>\n",
       "    <tr>\n",
       "      <th>2</th>\n",
       "      <td>Gamma</td>\n",
       "      <td>409</td>\n",
       "    </tr>\n",
       "  </tbody>\n",
       "</table>\n",
       "</div>"
      ],
      "text/plain": [
       "  USER_ROLE  COUNT\n",
       "0     Alpha     95\n",
       "1      Beta     77\n",
       "2     Gamma    409"
      ]
     },
     "execution_count": 253,
     "metadata": {},
     "output_type": "execute_result"
    }
   ],
   "source": [
    "classes_counter0 = sorted(Counter(PRODUCERS_DF[\"USER_ROLE\"] ).items())\n",
    "classes_counter0\n",
    "role_counter_df0 = P.DataFrame(classes_counter0,columns=[\"USER_ROLE\",\"COUNT\"])\n",
    "role_counter_df0\n"
   ]
  },
  {
   "cell_type": "markdown",
   "id": "reserved-encoding",
   "metadata": {},
   "source": [
    "#### Feature selections"
   ]
  },
  {
   "cell_type": "code",
   "execution_count": 442,
   "id": "instrumental-universal",
   "metadata": {},
   "outputs": [
    {
     "data": {
      "text/plain": [
       "((581, 2), (581,))"
      ]
     },
     "execution_count": 442,
     "metadata": {},
     "output_type": "execute_result"
    }
   ],
   "source": [
    "scaler = StandardScaler()\n",
    "USEFUL_COLUMNS =[\"USER_VOLUME\",\"USER_DENSITY\"]\n",
    "X_DF           = PRODUCERS[USEFUL_COLUMNS]\n",
    "SX_DF          = P.DataFrame(scaler.fit_transform(X_DF.values),columns=[\"USER_VOLUME\",\"USER_DENSITY\"])\n",
    "Y_DF           = PRODUCERS[\"USER_ROLE\"]\n",
    "X_DF.shape,Y_DF.shape"
   ]
  },
  {
   "cell_type": "code",
   "execution_count": 443,
   "id": "french-challenge",
   "metadata": {},
   "outputs": [
    {
     "data": {
      "text/html": [
       "<div>\n",
       "<style scoped>\n",
       "    .dataframe tbody tr th:only-of-type {\n",
       "        vertical-align: middle;\n",
       "    }\n",
       "\n",
       "    .dataframe tbody tr th {\n",
       "        vertical-align: top;\n",
       "    }\n",
       "\n",
       "    .dataframe thead th {\n",
       "        text-align: right;\n",
       "    }\n",
       "</style>\n",
       "<table border=\"1\" class=\"dataframe\">\n",
       "  <thead>\n",
       "    <tr style=\"text-align: right;\">\n",
       "      <th></th>\n",
       "      <th>USER_VOLUME</th>\n",
       "      <th>USER_DENSITY</th>\n",
       "      <th>USER_ROLE</th>\n",
       "    </tr>\n",
       "  </thead>\n",
       "  <tbody>\n",
       "    <tr>\n",
       "      <th>0</th>\n",
       "      <td>-0.348748</td>\n",
       "      <td>-0.367348</td>\n",
       "      <td>Gamma</td>\n",
       "    </tr>\n",
       "    <tr>\n",
       "      <th>1</th>\n",
       "      <td>-0.346490</td>\n",
       "      <td>-0.367058</td>\n",
       "      <td>Gamma</td>\n",
       "    </tr>\n",
       "    <tr>\n",
       "      <th>2</th>\n",
       "      <td>-0.273404</td>\n",
       "      <td>-0.192163</td>\n",
       "      <td>Gamma</td>\n",
       "    </tr>\n",
       "    <tr>\n",
       "      <th>3</th>\n",
       "      <td>-0.273404</td>\n",
       "      <td>-0.192163</td>\n",
       "      <td>Gamma</td>\n",
       "    </tr>\n",
       "    <tr>\n",
       "      <th>4</th>\n",
       "      <td>0.005123</td>\n",
       "      <td>-0.082192</td>\n",
       "      <td>Beta</td>\n",
       "    </tr>\n",
       "    <tr>\n",
       "      <th>...</th>\n",
       "      <td>...</td>\n",
       "      <td>...</td>\n",
       "      <td>...</td>\n",
       "    </tr>\n",
       "    <tr>\n",
       "      <th>576</th>\n",
       "      <td>-0.261325</td>\n",
       "      <td>-0.217557</td>\n",
       "      <td>Gamma</td>\n",
       "    </tr>\n",
       "    <tr>\n",
       "      <th>577</th>\n",
       "      <td>-0.243562</td>\n",
       "      <td>-0.186249</td>\n",
       "      <td>Alpha</td>\n",
       "    </tr>\n",
       "    <tr>\n",
       "      <th>578</th>\n",
       "      <td>-0.244978</td>\n",
       "      <td>-0.135534</td>\n",
       "      <td>Beta</td>\n",
       "    </tr>\n",
       "    <tr>\n",
       "      <th>579</th>\n",
       "      <td>-0.350120</td>\n",
       "      <td>-0.364804</td>\n",
       "      <td>Gamma</td>\n",
       "    </tr>\n",
       "    <tr>\n",
       "      <th>580</th>\n",
       "      <td>-0.313307</td>\n",
       "      <td>-0.277430</td>\n",
       "      <td>Gamma</td>\n",
       "    </tr>\n",
       "  </tbody>\n",
       "</table>\n",
       "<p>581 rows × 3 columns</p>\n",
       "</div>"
      ],
      "text/plain": [
       "     USER_VOLUME  USER_DENSITY USER_ROLE\n",
       "0      -0.348748     -0.367348     Gamma\n",
       "1      -0.346490     -0.367058     Gamma\n",
       "2      -0.273404     -0.192163     Gamma\n",
       "3      -0.273404     -0.192163     Gamma\n",
       "4       0.005123     -0.082192      Beta\n",
       "..           ...           ...       ...\n",
       "576    -0.261325     -0.217557     Gamma\n",
       "577    -0.243562     -0.186249     Alpha\n",
       "578    -0.244978     -0.135534      Beta\n",
       "579    -0.350120     -0.364804     Gamma\n",
       "580    -0.313307     -0.277430     Gamma\n",
       "\n",
       "[581 rows x 3 columns]"
      ]
     },
     "execution_count": 443,
     "metadata": {},
     "output_type": "execute_result"
    }
   ],
   "source": [
    "ROLES = PRODUCERS[\"USER_ROLE\"].reset_index(drop=True)\n",
    "SX_DF = P.concat([SX_DF,ROLES],axis=1)"
   ]
  },
  {
   "cell_type": "code",
   "execution_count": 444,
   "id": "creative-costume",
   "metadata": {},
   "outputs": [
    {
     "data": {
      "text/plain": [
       "<AxesSubplot:xlabel='USER_DENSITY', ylabel='USER_VOLUME'>"
      ]
     },
     "execution_count": 444,
     "metadata": {},
     "output_type": "execute_result"
    },
    {
     "data": {
      "image/png": "[encoded data removed]",
      "text/plain": [
       "<Figure size 432x288 with 1 Axes>"
      ]
     },
     "metadata": {
      "needs_background": "light"
     },
     "output_type": "display_data"
    }
   ],
   "source": [
    "# SB.scatterplot(data=PRODUCERS_DF,x=\"USER_DENSITY\",y=\"USER_VOLUME\",hue=\"USER_ROLE\")\n",
    "SB.scatterplot(data=SX_DF,x=\"USER_DENSITY\",y=\"USER_VOLUME\",hue=\"USER_ROLE\")"
   ]
  },
  {
   "cell_type": "markdown",
   "id": "curious-dakota",
   "metadata": {},
   "source": [
    "## Imbalanced classification problem"
   ]
  },
  {
   "cell_type": "code",
   "execution_count": 256,
   "id": "verified-currency",
   "metadata": {},
   "outputs": [
    {
     "data": {
      "text/plain": [
       "<AxesSubplot:xlabel='USER_ROLE', ylabel='COUNT'>"
      ]
     },
     "execution_count": 256,
     "metadata": {},
     "output_type": "execute_result"
    },
    {
     "data": {
      "image/png": "[encoded data removed]",
      "text/plain": [
       "<Figure size 432x288 with 1 Axes>"
      ]
     },
     "metadata": {
      "needs_background": "light"
     },
     "output_type": "display_data"
    }
   ],
   "source": [
    "SB.barplot(data=role_counter_df0,x=\"USER_ROLE\",y=\"COUNT\")"
   ]
  },
  {
   "cell_type": "markdown",
   "id": "overall-little",
   "metadata": {},
   "source": [
    "#### #1 Random Under-sampling"
   ]
  },
  {
   "cell_type": "code",
   "execution_count": 257,
   "id": "sensitive-courtesy",
   "metadata": {},
   "outputs": [],
   "source": [
    "undersample = RandomUnderSampler(random_state=12312412)\n",
    "X_resampled1 , y_resampled1 = undersample.fit_resample(X_DF.values,Y_DF.values)"
   ]
  },
  {
   "cell_type": "code",
   "execution_count": 258,
   "id": "valid-adoption",
   "metadata": {},
   "outputs": [],
   "source": [
    "classes_counter1 = sorted(Counter(y_resampled1).items())\n",
    "role_counter_df1 = P.DataFrame(classes_counter1,columns=[\"USER_ROLE\",\"COUNT\"])"
   ]
  },
  {
   "cell_type": "code",
   "execution_count": 259,
   "id": "bulgarian-australia",
   "metadata": {},
   "outputs": [
    {
     "data": {
      "text/plain": [
       "<AxesSubplot:xlabel='USER_ROLE', ylabel='COUNT'>"
      ]
     },
     "execution_count": 259,
     "metadata": {},
     "output_type": "execute_result"
    },
    {
     "data": {
      "image/png": "[encoded data removed]",
      "text/plain": [
       "<Figure size 432x288 with 1 Axes>"
      ]
     },
     "metadata": {
      "needs_background": "light"
     },
     "output_type": "display_data"
    }
   ],
   "source": [
    "SB.barplot(data=role_counter_df1,x=\"USER_ROLE\",y=\"COUNT\")"
   ]
  },
  {
   "cell_type": "code",
   "execution_count": 260,
   "id": "lyric-stand",
   "metadata": {},
   "outputs": [
    {
     "data": {
      "text/plain": [
       "[('Alpha', 77), ('Beta', 77), ('Gamma', 77)]"
      ]
     },
     "execution_count": 260,
     "metadata": {},
     "output_type": "execute_result"
    }
   ],
   "source": [
    "classes_counter1"
   ]
  },
  {
   "cell_type": "markdown",
   "id": "difficult-prescription",
   "metadata": {},
   "source": [
    "#### #2 Random Over-sampling"
   ]
  },
  {
   "cell_type": "code",
   "execution_count": 261,
   "id": "recent-coverage",
   "metadata": {},
   "outputs": [],
   "source": [
    "oversample = RandomOverSampler(random_state=123123)\n",
    "X_resampled2 , y_resampled2 = oversample.fit_resample(X_DF.values,Y_DF.values)"
   ]
  },
  {
   "cell_type": "code",
   "execution_count": 262,
   "id": "improved-optimization",
   "metadata": {},
   "outputs": [],
   "source": [
    "classes_counter2 = sorted(Counter(y_resampled2).items())\n",
    "role_counter_df2 = P.DataFrame(classes_counter2,columns=[\"USER_ROLE\",\"COUNT\"])"
   ]
  },
  {
   "cell_type": "code",
   "execution_count": 263,
   "id": "violent-serial",
   "metadata": {},
   "outputs": [
    {
     "data": {
      "text/plain": [
       "<AxesSubplot:xlabel='USER_ROLE', ylabel='COUNT'>"
      ]
     },
     "execution_count": 263,
     "metadata": {},
     "output_type": "execute_result"
    },
    {
     "data": {
      "image/png": "[encoded data removed]",
      "text/plain": [
       "<Figure size 432x288 with 1 Axes>"
      ]
     },
     "metadata": {
      "needs_background": "light"
     },
     "output_type": "display_data"
    }
   ],
   "source": [
    "SB.barplot(data=role_counter_df2,x=\"USER_ROLE\",y=\"COUNT\")"
   ]
  },
  {
   "cell_type": "code",
   "execution_count": 214,
   "id": "illegal-supply",
   "metadata": {},
   "outputs": [
    {
     "data": {
      "text/plain": [
       "[('Alpha', 409), ('Beta', 409), ('Gamma', 409)]"
      ]
     },
     "execution_count": 214,
     "metadata": {},
     "output_type": "execute_result"
    }
   ],
   "source": [
    "classes_counter"
   ]
  },
  {
   "cell_type": "markdown",
   "id": "european-captain",
   "metadata": {},
   "source": [
    "#### SMOTE"
   ]
  },
  {
   "cell_type": "code",
   "execution_count": 469,
   "id": "secure-genius",
   "metadata": {},
   "outputs": [],
   "source": [
    "# sm = SMOTE(random_state=42)\n",
    "sm = KMeansSMOTE(random_state=42)\n",
    "X_resampled3, y_resampled3 = sm.fit_resample(X_DF.values, Y_DF.values)"
   ]
  },
  {
   "cell_type": "code",
   "execution_count": 579,
   "id": "tropical-exception",
   "metadata": {},
   "outputs": [],
   "source": [
    "sm0 = KMeansSMOTE(random_state=41232)\n",
    "XX = SX_DF.iloc[:,:2]\n",
    "YY = SX_DF.iloc[:,2]\n",
    "X_resampled4, y_resampled4 = sm.fit_resample(XX, YY.values)\n",
    "X_resampled5, y_resampled5 = sm.fit_resample(X_DF.values, Y_DF.values)"
   ]
  },
  {
   "cell_type": "code",
   "execution_count": 265,
   "id": "approved-plate",
   "metadata": {},
   "outputs": [],
   "source": [
    "classes_counter3 = sorted(Counter(y_resampled).items())\n",
    "role_counter_df3 = P.DataFrame(classes_counter3,columns=[\"USER_ROLE\",\"COUNT\"])"
   ]
  },
  {
   "cell_type": "code",
   "execution_count": 266,
   "id": "nearby-public",
   "metadata": {},
   "outputs": [
    {
     "data": {
      "text/plain": [
       "<AxesSubplot:xlabel='USER_ROLE', ylabel='COUNT'>"
      ]
     },
     "execution_count": 266,
     "metadata": {},
     "output_type": "execute_result"
    },
    {
     "data": {
      "image/png": "[encoded data removed]",
      "text/plain": [
       "<Figure size 432x288 with 1 Axes>"
      ]
     },
     "metadata": {
      "needs_background": "light"
     },
     "output_type": "display_data"
    }
   ],
   "source": [
    "SB.barplot(data=role_counter_df2,x=\"USER_ROLE\",y=\"COUNT\")"
   ]
  },
  {
   "cell_type": "code",
   "execution_count": 267,
   "id": "written-peripheral",
   "metadata": {},
   "outputs": [
    {
     "name": "stdout",
     "output_type": "stream",
     "text": [
      "(1229, 3)\n"
     ]
    },
    {
     "data": {
      "text/plain": [
       "<AxesSubplot:xlabel='USER_DENSITY', ylabel='USER_VOLUME'>"
      ]
     },
     "execution_count": 267,
     "metadata": {},
     "output_type": "execute_result"
    },
    {
     "data": {
      "image/png": "[encoded data removed]",
      "text/plain": [
       "<Figure size 432x288 with 1 Axes>"
      ]
     },
     "metadata": {
      "needs_background": "light"
     },
     "output_type": "display_data"
    }
   ],
   "source": [
    "data = P.DataFrame(\n",
    "    {\n",
    "        \"USER_VOLUME\":X_resampled3[:,0],\n",
    "        \"USER_DENSITY\":X_resampled3[:,1],\n",
    "        \"USER_ROLE\": y_resampled3 \n",
    "    }\n",
    ")\n",
    "print(data.shape)\n",
    "SB.scatterplot(data=data,x=\"USER_DENSITY\",y=\"USER_VOLUME\",hue=\"USER_ROLE\")"
   ]
  },
  {
   "cell_type": "markdown",
   "id": "integrated-richards",
   "metadata": {},
   "source": [
    "## Classification"
   ]
  },
  {
   "cell_type": "code",
   "execution_count": 592,
   "id": "underlying-physiology",
   "metadata": {},
   "outputs": [],
   "source": [
    "scaler_train = StandardScaler()\n",
    "scaler_test = StandardScaler()\n",
    "X_train1,X_test1,y_train1,y_test1 = train_test_split(X_resampled1,y_resampled1,test_size=0.2)\n",
    "X_train2,X_test2,y_train2,y_test2 = train_test_split(X_resampled2,y_resampled2,test_size=0.2)\n",
    "X_train3,X_test3,y_train3,y_test3 = train_test_split(X_resampled3,y_resampled3,test_size=0.2)\n",
    "X_train4,X_test4,y_train4,y_test4 = train_test_split(X_resampled4,y_resampled4,test_size=0.2)\n",
    "X_train5,X_test5,y_train5,y_test5 = train_test_split(X_resampled5,y_resampled5,test_size=0.2)\n",
    "# X\n",
    "# ________________________________________________\n",
    "X_trains= [\n",
    "    X_train0,\n",
    "    X_train1,\n",
    "    X_train2,\n",
    "    X_train3,\n",
    "    X_train4,\n",
    "    scaler_train.fit_transform(X_train5)\n",
    "]\n",
    "y_trains= [\n",
    "    y_train0,\n",
    "    y_train1,\n",
    "    y_train2,\n",
    "    y_train3,\n",
    "    y_train4,\n",
    "    y_train5\n",
    "]\n",
    "X_tests= [\n",
    "    X_test0,\n",
    "    X_test1,\n",
    "    X_test2,\n",
    "    X_test3,\n",
    "    X_test4,\n",
    "    scaler_test.fit_transform(X_test5)\n",
    "]\n",
    "y_tests= [\n",
    "    y_test0,\n",
    "    y_test1,\n",
    "    y_test2,\n",
    "    y_test3,\n",
    "    y_test4,\n",
    "    y_test5\n",
    "]"
   ]
  },
  {
   "cell_type": "code",
   "execution_count": 602,
   "id": "thirty-chapel",
   "metadata": {},
   "outputs": [],
   "source": [
    "typeModels = [\"DEFAULT\",\"UNDER-S\",\"OVER-S\",\"SMOTE\",\"SMOTE-S\",\"SMOTE-SS\"]"
   ]
  },
  {
   "cell_type": "code",
   "execution_count": 624,
   "id": "heard-directory",
   "metadata": {},
   "outputs": [
    {
     "data": {
      "text/html": [
       "<div>\n",
       "<style scoped>\n",
       "    .dataframe tbody tr th:only-of-type {\n",
       "        vertical-align: middle;\n",
       "    }\n",
       "\n",
       "    .dataframe tbody tr th {\n",
       "        vertical-align: top;\n",
       "    }\n",
       "\n",
       "    .dataframe thead th {\n",
       "        text-align: right;\n",
       "    }\n",
       "</style>\n",
       "<table border=\"1\" class=\"dataframe\">\n",
       "  <thead>\n",
       "    <tr style=\"text-align: right;\">\n",
       "      <th></th>\n",
       "      <th>MODEL</th>\n",
       "      <th>SCORE</th>\n",
       "    </tr>\n",
       "  </thead>\n",
       "  <tbody>\n",
       "    <tr>\n",
       "      <th>0</th>\n",
       "      <td>LR_DEFAULT</td>\n",
       "      <td>0.588571</td>\n",
       "    </tr>\n",
       "    <tr>\n",
       "      <th>1</th>\n",
       "      <td>LR_UNDER-S</td>\n",
       "      <td>0.446809</td>\n",
       "    </tr>\n",
       "    <tr>\n",
       "      <th>2</th>\n",
       "      <td>LR_OVER-S</td>\n",
       "      <td>0.471545</td>\n",
       "    </tr>\n",
       "    <tr>\n",
       "      <th>3</th>\n",
       "      <td>LR_SMOTE</td>\n",
       "      <td>0.581301</td>\n",
       "    </tr>\n",
       "    <tr>\n",
       "      <th>4</th>\n",
       "      <td>LR_SMOTE-S</td>\n",
       "      <td>0.922764</td>\n",
       "    </tr>\n",
       "    <tr>\n",
       "      <th>5</th>\n",
       "      <td>LR_SMOTE-SS</td>\n",
       "      <td>0.955285</td>\n",
       "    </tr>\n",
       "  </tbody>\n",
       "</table>\n",
       "</div>"
      ],
      "text/plain": [
       "         MODEL     SCORE\n",
       "0   LR_DEFAULT  0.588571\n",
       "1   LR_UNDER-S  0.446809\n",
       "2    LR_OVER-S  0.471545\n",
       "3     LR_SMOTE  0.581301\n",
       "4   LR_SMOTE-S  0.922764\n",
       "5  LR_SMOTE-SS  0.955285"
      ]
     },
     "execution_count": 624,
     "metadata": {},
     "output_type": "execute_result"
    }
   ],
   "source": [
    "scores0 = []\n",
    "for i,(X_train,y_train,X_test,y_test) in enumerate(zip(X_trains,y_trains,X_tests,y_tests)):\n",
    "    clf   = LogisticRegression()\n",
    "    clf.fit(X_train,y_train)\n",
    "    score = (\"LR_{}\".format(typeModels[i]),clf.score(X_test,y_test))\n",
    "    scores0.append(score)\n",
    "scores0 = P.DataFrame(scores0,columns=[\"MODEL\",\"SCORE\"])\n",
    "scores0"
   ]
  },
  {
   "cell_type": "code",
   "execution_count": 628,
   "id": "hawaiian-trauma",
   "metadata": {},
   "outputs": [
    {
     "data": {
      "text/plain": [
       "<AxesSubplot:xlabel='MODEL', ylabel='SCORE'>"
      ]
     },
     "execution_count": 628,
     "metadata": {},
     "output_type": "execute_result"
    },
    {
     "data": {
      "image/png": "[encoded data removed]",
      "text/plain": [
       "<Figure size 720x504 with 1 Axes>"
      ]
     },
     "metadata": {
      "needs_background": "light"
     },
     "output_type": "display_data"
    }
   ],
   "source": [
    "_,ax= M.subplots(figsize=(10,7))\n",
    "SB.barplot(data=scores0,x=\"MODEL\",y=\"SCORE\",ax=ax)"
   ]
  },
  {
   "cell_type": "code",
   "execution_count": 623,
   "id": "attempted-collapse",
   "metadata": {},
   "outputs": [
    {
     "data": {
      "text/html": [
       "<div>\n",
       "<style scoped>\n",
       "    .dataframe tbody tr th:only-of-type {\n",
       "        vertical-align: middle;\n",
       "    }\n",
       "\n",
       "    .dataframe tbody tr th {\n",
       "        vertical-align: top;\n",
       "    }\n",
       "\n",
       "    .dataframe thead th {\n",
       "        text-align: right;\n",
       "    }\n",
       "</style>\n",
       "<table border=\"1\" class=\"dataframe\">\n",
       "  <thead>\n",
       "    <tr style=\"text-align: right;\">\n",
       "      <th></th>\n",
       "      <th>MODEL</th>\n",
       "      <th>SCORE</th>\n",
       "    </tr>\n",
       "  </thead>\n",
       "  <tbody>\n",
       "    <tr>\n",
       "      <th>0</th>\n",
       "      <td>BGC_DEFAULT</td>\n",
       "      <td>0.588571</td>\n",
       "    </tr>\n",
       "    <tr>\n",
       "      <th>1</th>\n",
       "      <td>BGC_UNDER-S</td>\n",
       "      <td>0.446809</td>\n",
       "    </tr>\n",
       "    <tr>\n",
       "      <th>2</th>\n",
       "      <td>BGC_OVER-S</td>\n",
       "      <td>0.471545</td>\n",
       "    </tr>\n",
       "    <tr>\n",
       "      <th>3</th>\n",
       "      <td>BGC_SMOTE</td>\n",
       "      <td>0.597561</td>\n",
       "    </tr>\n",
       "    <tr>\n",
       "      <th>4</th>\n",
       "      <td>BGC_SMOTE-S</td>\n",
       "      <td>0.930894</td>\n",
       "    </tr>\n",
       "    <tr>\n",
       "      <th>5</th>\n",
       "      <td>BGC_SMOTE-SS</td>\n",
       "      <td>0.955285</td>\n",
       "    </tr>\n",
       "  </tbody>\n",
       "</table>\n",
       "</div>"
      ],
      "text/plain": [
       "          MODEL     SCORE\n",
       "0   BGC_DEFAULT  0.588571\n",
       "1   BGC_UNDER-S  0.446809\n",
       "2    BGC_OVER-S  0.471545\n",
       "3     BGC_SMOTE  0.597561\n",
       "4   BGC_SMOTE-S  0.930894\n",
       "5  BGC_SMOTE-SS  0.955285"
      ]
     },
     "execution_count": 623,
     "metadata": {},
     "output_type": "execute_result"
    }
   ],
   "source": [
    "scores1 = []\n",
    "for i,(X_train,y_train,X_test,y_test) in enumerate(zip(X_trains,y_trains,X_tests,y_tests)):\n",
    "    clf = BaggingClassifier(base_estimator=LogisticRegression(),n_estimators=10, random_state=0)\n",
    "    clf.fit(X_train,y_train)\n",
    "    score = (\"BGC_{}\".format( typeModels[i] ),clf.score(X_test,y_test))\n",
    "    scores1.append(score)\n",
    "scores1 = P.DataFrame(scores1,columns=[\"MODEL\",\"SCORE\"])\n",
    "scores1"
   ]
  },
  {
   "cell_type": "code",
   "execution_count": 627,
   "id": "patient-michigan",
   "metadata": {},
   "outputs": [
    {
     "data": {
      "text/plain": [
       "<AxesSubplot:xlabel='MODEL', ylabel='SCORE'>"
      ]
     },
     "execution_count": 627,
     "metadata": {},
     "output_type": "execute_result"
    },
    {
     "data": {
      "image/png": "[encoded data removed]",
      "text/plain": [
       "<Figure size 720x504 with 1 Axes>"
      ]
     },
     "metadata": {
      "needs_background": "light"
     },
     "output_type": "display_data"
    }
   ],
   "source": [
    "_,ax= M.subplots(figsize=(10,7))\n",
    "SB.barplot(data=scores1,x=\"MODEL\",y=\"SCORE\",ax=ax)"
   ]
  },
  {
   "cell_type": "code",
   "execution_count": 622,
   "id": "leading-stock",
   "metadata": {},
   "outputs": [
    {
     "data": {
      "text/html": [
       "<div>\n",
       "<style scoped>\n",
       "    .dataframe tbody tr th:only-of-type {\n",
       "        vertical-align: middle;\n",
       "    }\n",
       "\n",
       "    .dataframe tbody tr th {\n",
       "        vertical-align: top;\n",
       "    }\n",
       "\n",
       "    .dataframe thead th {\n",
       "        text-align: right;\n",
       "    }\n",
       "</style>\n",
       "<table border=\"1\" class=\"dataframe\">\n",
       "  <thead>\n",
       "    <tr style=\"text-align: right;\">\n",
       "      <th></th>\n",
       "      <th>MODEL</th>\n",
       "      <th>SCORE</th>\n",
       "    </tr>\n",
       "  </thead>\n",
       "  <tbody>\n",
       "    <tr>\n",
       "      <th>0</th>\n",
       "      <td>ADAC_DEFAULT</td>\n",
       "      <td>0.942857</td>\n",
       "    </tr>\n",
       "    <tr>\n",
       "      <th>1</th>\n",
       "      <td>ADAC_UNDER-S</td>\n",
       "      <td>0.829787</td>\n",
       "    </tr>\n",
       "    <tr>\n",
       "      <th>2</th>\n",
       "      <td>ADAC_OVER-S</td>\n",
       "      <td>0.760163</td>\n",
       "    </tr>\n",
       "    <tr>\n",
       "      <th>3</th>\n",
       "      <td>ADAC_SMOTE</td>\n",
       "      <td>0.821138</td>\n",
       "    </tr>\n",
       "    <tr>\n",
       "      <th>4</th>\n",
       "      <td>ADAC_SMOTE-S</td>\n",
       "      <td>0.662602</td>\n",
       "    </tr>\n",
       "    <tr>\n",
       "      <th>5</th>\n",
       "      <td>ADAC_SMOTE-SS</td>\n",
       "      <td>0.682927</td>\n",
       "    </tr>\n",
       "  </tbody>\n",
       "</table>\n",
       "</div>"
      ],
      "text/plain": [
       "           MODEL     SCORE\n",
       "0   ADAC_DEFAULT  0.942857\n",
       "1   ADAC_UNDER-S  0.829787\n",
       "2    ADAC_OVER-S  0.760163\n",
       "3     ADAC_SMOTE  0.821138\n",
       "4   ADAC_SMOTE-S  0.662602\n",
       "5  ADAC_SMOTE-SS  0.682927"
      ]
     },
     "execution_count": 622,
     "metadata": {},
     "output_type": "execute_result"
    }
   ],
   "source": [
    "scores2 = []\n",
    "for i,(X_train,y_train,X_test,y_test) in enumerate(zip(X_trains,y_trains,X_tests,y_tests)):\n",
    "    clf = AdaBoostClassifier(n_estimators=10, random_state=0)\n",
    "    clf.fit(X_train,y_train)\n",
    "    score = (\"ADAC_{}\".format( typeModels[i]),clf.score(X_test,y_test))\n",
    "    scores2.append(score)\n",
    "    \n",
    "scores2 = P.DataFrame(scores2,columns=[\"MODEL\",\"SCORE\"])\n",
    "scores2"
   ]
  },
  {
   "cell_type": "code",
   "execution_count": 626,
   "id": "loving-munich",
   "metadata": {},
   "outputs": [
    {
     "data": {
      "text/plain": [
       "<AxesSubplot:xlabel='MODEL', ylabel='SCORE'>"
      ]
     },
     "execution_count": 626,
     "metadata": {},
     "output_type": "execute_result"
    },
    {
     "data": {
      "image/png": "[encoded data removed]",
      "text/plain": [
       "<Figure size 720x504 with 1 Axes>"
      ]
     },
     "metadata": {
      "needs_background": "light"
     },
     "output_type": "display_data"
    }
   ],
   "source": [
    "_,ax= M.subplots(figsize=(10,7))\n",
    "SB.barplot(data=scores2,x=\"MODEL\",y=\"SCORE\",ax=ax)"
   ]
  },
  {
   "cell_type": "code",
   "execution_count": 621,
   "id": "dirty-animation",
   "metadata": {},
   "outputs": [
    {
     "data": {
      "text/html": [
       "<div>\n",
       "<style scoped>\n",
       "    .dataframe tbody tr th:only-of-type {\n",
       "        vertical-align: middle;\n",
       "    }\n",
       "\n",
       "    .dataframe tbody tr th {\n",
       "        vertical-align: top;\n",
       "    }\n",
       "\n",
       "    .dataframe thead th {\n",
       "        text-align: right;\n",
       "    }\n",
       "</style>\n",
       "<table border=\"1\" class=\"dataframe\">\n",
       "  <thead>\n",
       "    <tr style=\"text-align: right;\">\n",
       "      <th></th>\n",
       "      <th>MODEL</th>\n",
       "      <th>SCORE</th>\n",
       "    </tr>\n",
       "  </thead>\n",
       "  <tbody>\n",
       "    <tr>\n",
       "      <th>0</th>\n",
       "      <td>GBC_DEFAULT</td>\n",
       "      <td>0.960000</td>\n",
       "    </tr>\n",
       "    <tr>\n",
       "      <th>1</th>\n",
       "      <td>GBC_UNDER-S</td>\n",
       "      <td>0.936170</td>\n",
       "    </tr>\n",
       "    <tr>\n",
       "      <th>2</th>\n",
       "      <td>GBC_OVER-S</td>\n",
       "      <td>0.963415</td>\n",
       "    </tr>\n",
       "    <tr>\n",
       "      <th>3</th>\n",
       "      <td>GBC_SMOTE</td>\n",
       "      <td>0.963415</td>\n",
       "    </tr>\n",
       "    <tr>\n",
       "      <th>4</th>\n",
       "      <td>GBC_SMOTE-S</td>\n",
       "      <td>0.987805</td>\n",
       "    </tr>\n",
       "    <tr>\n",
       "      <th>5</th>\n",
       "      <td>GBC_SMOTE-SS</td>\n",
       "      <td>0.878049</td>\n",
       "    </tr>\n",
       "  </tbody>\n",
       "</table>\n",
       "</div>"
      ],
      "text/plain": [
       "          MODEL     SCORE\n",
       "0   GBC_DEFAULT  0.960000\n",
       "1   GBC_UNDER-S  0.936170\n",
       "2    GBC_OVER-S  0.963415\n",
       "3     GBC_SMOTE  0.963415\n",
       "4   GBC_SMOTE-S  0.987805\n",
       "5  GBC_SMOTE-SS  0.878049"
      ]
     },
     "execution_count": 621,
     "metadata": {},
     "output_type": "execute_result"
    }
   ],
   "source": [
    "scores3=[]\n",
    "for i,(X_train,y_train,X_test,y_test) in enumerate(zip(X_trains,y_trains,X_tests,y_tests)):\n",
    "    clf = GradientBoostingClassifier(n_estimators=10, random_state=0)\n",
    "    clf.fit(X_train,y_train)\n",
    "    score = (\"GBC_{}\".format(typeModels[i]),clf.score(X_test,y_test))\n",
    "    scores3.append(score)\n",
    "scores3 = P.DataFrame(scores3,columns=[\"MODEL\",\"SCORE\"])\n",
    "scores3"
   ]
  },
  {
   "cell_type": "code",
   "execution_count": 625,
   "id": "judicial-volunteer",
   "metadata": {},
   "outputs": [
    {
     "data": {
      "text/plain": [
       "<AxesSubplot:xlabel='MODEL', ylabel='SCORE'>"
      ]
     },
     "execution_count": 625,
     "metadata": {},
     "output_type": "execute_result"
    },
    {
     "data": {
      "image/png": "[encoded data removed]",
      "text/plain": [
       "<Figure size 720x504 with 1 Axes>"
      ]
     },
     "metadata": {
      "needs_background": "light"
     },
     "output_type": "display_data"
    }
   ],
   "source": [
    "_,ax= M.subplots(figsize=(10,7))\n",
    "SB.barplot(data=scores3,x=\"MODEL\",y=\"SCORE\",ax=ax)"
   ]
  },
  {
   "cell_type": "code",
   "execution_count": 617,
   "id": "honest-trick",
   "metadata": {},
   "outputs": [
    {
     "data": {
      "text/html": [
       "<div>\n",
       "<style scoped>\n",
       "    .dataframe tbody tr th:only-of-type {\n",
       "        vertical-align: middle;\n",
       "    }\n",
       "\n",
       "    .dataframe tbody tr th {\n",
       "        vertical-align: top;\n",
       "    }\n",
       "\n",
       "    .dataframe thead th {\n",
       "        text-align: right;\n",
       "    }\n",
       "</style>\n",
       "<table border=\"1\" class=\"dataframe\">\n",
       "  <thead>\n",
       "    <tr style=\"text-align: right;\">\n",
       "      <th></th>\n",
       "      <th>MODEL</th>\n",
       "      <th>SCORE</th>\n",
       "    </tr>\n",
       "  </thead>\n",
       "  <tbody>\n",
       "    <tr>\n",
       "      <th>0</th>\n",
       "      <td>RFC_DEFAULT</td>\n",
       "      <td>0.982857</td>\n",
       "    </tr>\n",
       "    <tr>\n",
       "      <th>1</th>\n",
       "      <td>RFC_UNDER-S</td>\n",
       "      <td>0.957447</td>\n",
       "    </tr>\n",
       "    <tr>\n",
       "      <th>2</th>\n",
       "      <td>RFC_OVER-S</td>\n",
       "      <td>0.995935</td>\n",
       "    </tr>\n",
       "    <tr>\n",
       "      <th>3</th>\n",
       "      <td>RFC_SMOTE</td>\n",
       "      <td>0.979675</td>\n",
       "    </tr>\n",
       "    <tr>\n",
       "      <th>4</th>\n",
       "      <td>RFC_SMOTE-S</td>\n",
       "      <td>0.991870</td>\n",
       "    </tr>\n",
       "    <tr>\n",
       "      <th>5</th>\n",
       "      <td>RFC_SMOTE-SS</td>\n",
       "      <td>0.898374</td>\n",
       "    </tr>\n",
       "  </tbody>\n",
       "</table>\n",
       "</div>"
      ],
      "text/plain": [
       "          MODEL     SCORE\n",
       "0   RFC_DEFAULT  0.982857\n",
       "1   RFC_UNDER-S  0.957447\n",
       "2    RFC_OVER-S  0.995935\n",
       "3     RFC_SMOTE  0.979675\n",
       "4   RFC_SMOTE-S  0.991870\n",
       "5  RFC_SMOTE-SS  0.898374"
      ]
     },
     "execution_count": 617,
     "metadata": {},
     "output_type": "execute_result"
    }
   ],
   "source": [
    "scores4=[]\n",
    "for i,(X_train,y_train,X_test,y_test) in enumerate(zip(X_trains,y_trains,X_tests,y_tests)):\n",
    "    clf = RandomForestClassifier(n_estimators=10, random_state=0)\n",
    "    clf.fit(X_train,y_train)\n",
    "    score = (\"RFC_{}\".format(typeModels[i]),clf.score(X_test,y_test))\n",
    "    scores4.append(score)\n",
    "scores4 = P.DataFrame(scores4,columns=[\"MODEL\",\"SCORE\"])\n",
    "scores4"
   ]
  },
  {
   "cell_type": "code",
   "execution_count": 620,
   "id": "absolute-knitting",
   "metadata": {},
   "outputs": [
    {
     "data": {
      "text/plain": [
       "<AxesSubplot:xlabel='MODEL', ylabel='SCORE'>"
      ]
     },
     "execution_count": 620,
     "metadata": {},
     "output_type": "execute_result"
    },
    {
     "data": {
      "image/png": "[encoded data removed]",
      "text/plain": [
       "<Figure size 720x504 with 1 Axes>"
      ]
     },
     "metadata": {
      "needs_background": "light"
     },
     "output_type": "display_data"
    }
   ],
   "source": [
    "_,ax= M.subplots(figsize=(10,7))\n",
    "SB.barplot(data=scores4,x=\"MODEL\",y=\"SCORE\",ax=ax)"
   ]
  },
  {
   "cell_type": "markdown",
   "id": "animated-employment",
   "metadata": {},
   "source": [
    "## Utils"
   ]
  },
  {
   "cell_type": "code",
   "execution_count": 630,
   "id": "processed-thirty",
   "metadata": {},
   "outputs": [
    {
     "data": {
      "text/html": [
       "<div>\n",
       "<style scoped>\n",
       "    .dataframe tbody tr th:only-of-type {\n",
       "        vertical-align: middle;\n",
       "    }\n",
       "\n",
       "    .dataframe tbody tr th {\n",
       "        vertical-align: top;\n",
       "    }\n",
       "\n",
       "    .dataframe thead th {\n",
       "        text-align: right;\n",
       "    }\n",
       "</style>\n",
       "<table border=\"1\" class=\"dataframe\">\n",
       "  <thead>\n",
       "    <tr style=\"text-align: right;\">\n",
       "      <th></th>\n",
       "      <th>MODEL_NAME</th>\n",
       "      <th>PROBABILITY</th>\n",
       "      <th>PREDICTION</th>\n",
       "    </tr>\n",
       "  </thead>\n",
       "  <tbody>\n",
       "    <tr>\n",
       "      <th>0</th>\n",
       "      <td>MODEL-0</td>\n",
       "      <td>0.0</td>\n",
       "      <td>GAMMA</td>\n",
       "    </tr>\n",
       "    <tr>\n",
       "      <th>1</th>\n",
       "      <td>MODEL-0</td>\n",
       "      <td>0.4</td>\n",
       "      <td>BETA</td>\n",
       "    </tr>\n",
       "    <tr>\n",
       "      <th>2</th>\n",
       "      <td>MODEL-0</td>\n",
       "      <td>0.6</td>\n",
       "      <td>ALPHA</td>\n",
       "    </tr>\n",
       "    <tr>\n",
       "      <th>3</th>\n",
       "      <td>MODEL-1</td>\n",
       "      <td>0.2</td>\n",
       "      <td>GAMMA</td>\n",
       "    </tr>\n",
       "    <tr>\n",
       "      <th>4</th>\n",
       "      <td>MODEL-1</td>\n",
       "      <td>0.1</td>\n",
       "      <td>BETA</td>\n",
       "    </tr>\n",
       "    <tr>\n",
       "      <th>5</th>\n",
       "      <td>MODEL-1</td>\n",
       "      <td>0.7</td>\n",
       "      <td>ALPHA</td>\n",
       "    </tr>\n",
       "  </tbody>\n",
       "</table>\n",
       "</div>"
      ],
      "text/plain": [
       "  MODEL_NAME  PROBABILITY PREDICTION\n",
       "0    MODEL-0          0.0      GAMMA\n",
       "1    MODEL-0          0.4       BETA\n",
       "2    MODEL-0          0.6      ALPHA\n",
       "3    MODEL-1          0.2      GAMMA\n",
       "4    MODEL-1          0.1       BETA\n",
       "5    MODEL-1          0.7      ALPHA"
      ]
     },
     "execution_count": 630,
     "metadata": {},
     "output_type": "execute_result"
    }
   ],
   "source": [
    "model0       =[\"MODEL-0\",\"MODEL-0\",\"MODEL-0\"]\n",
    "model0_proba = [0,.4,.6]\n",
    "model0_pred  = [\"GAMMA\",\"BETA\",\"ALPHA\"]\n",
    "# \n",
    "model1       =[\"MODEL-1\",\"MODEL-1\",\"MODEL-1\"]\n",
    "model1_proba = [.2,.1,.7]\n",
    "model1_pred  = [\"GAMMA\",\"BETA\",\"ALPHA\"]\n",
    "P.DataFrame({\n",
    "    \"MODEL_NAME\":model0+model1,\n",
    "    \"PROBABILITY\":model0_proba+model1_proba,\n",
    "    \"PREDICTION\":model0_pred+model1_pred\n",
    "})"
   ]
  },
  {
   "cell_type": "code",
   "execution_count": 646,
   "id": "treated-battle",
   "metadata": {},
   "outputs": [],
   "source": [
    "# y_train5"
   ]
  },
  {
   "cell_type": "code",
   "execution_count": 650,
   "id": "designing-biodiversity",
   "metadata": {},
   "outputs": [],
   "source": [
    "pipeline0 = Pipeline([\n",
    "    (\"scaler\",StandardScaler()),\n",
    "    (\"clf\",LogisticRegression())\n",
    "])\n",
    "pipeline1 = Pipeline([\n",
    "    (\"scaler\",StandardScaler()),\n",
    "    (\"clf\",BaggingClassifier(base_estimator=LogisticRegression(),n_estimators=10, random_state=0))\n",
    "])\n",
    "pipeline2 = Pipeline([\n",
    "    (\"scaler\",StandardScaler()),\n",
    "    (\"clf\",AdaBoostClassifier(n_estimators=10, random_state=0))\n",
    "])\n",
    "pipeline3 = Pipeline([\n",
    "    (\"scaler\",StandardScaler()),\n",
    "    (\"clf\",GradientBoostingClassifier(n_estimators=10, random_state=0))\n",
    "])\n",
    "pipeline4 = Pipeline([\n",
    "    (\"scaler\",StandardScaler()),\n",
    "    (\"clf\",RandomForestClassifier(n_estimators=10, random_state=0))\n",
    "])\n",
    "pipelines = [pipeline0,pipeline1,pipeline2,pipeline3,pipeline4]"
   ]
  },
  {
   "cell_type": "code",
   "execution_count": 651,
   "id": "political-cache",
   "metadata": {},
   "outputs": [],
   "source": [
    "for pipeline in pipelines:\n",
    "    pipeline.fit(X_train5,y_train5)"
   ]
  },
  {
   "cell_type": "code",
   "execution_count": 692,
   "id": "republican-empty",
   "metadata": {},
   "outputs": [],
   "source": [
    "model_names = [\"LOGISTIC\",\"BAGGING\",\"ADA\",\"GRADIENT\",\"RANDOM_F\"]\n",
    "for filename,pipeline in zip(model_names,pipelines):\n",
    "    pickle.dump(pipeline,open(\"./UI/models/{}.sav\".format(filename), \"wb\") )\n",
    "# pickle.dump(clf5, open(\"./UI/models/ADAC_3.sav\", 'wb'))"
   ]
  },
  {
   "cell_type": "code",
   "execution_count": 696,
   "id": "motivated-fever",
   "metadata": {},
   "outputs": [
    {
     "data": {
      "text/plain": [
       "{'LOGISTIC': Pipeline(steps=[('scaler', StandardScaler()), ('clf', LogisticRegression())]),\n",
       " 'RANDOM_F': Pipeline(steps=[('scaler', StandardScaler()),\n",
       "                 ('clf',\n",
       "                  RandomForestClassifier(n_estimators=10, random_state=0))]),\n",
       " 'ADA': Pipeline(steps=[('scaler', StandardScaler()),\n",
       "                 ('clf', AdaBoostClassifier(n_estimators=10, random_state=0))]),\n",
       " 'GRADIENT': Pipeline(steps=[('scaler', StandardScaler()),\n",
       "                 ('clf',\n",
       "                  GradientBoostingClassifier(n_estimators=10, random_state=0))]),\n",
       " 'BAGGING': Pipeline(steps=[('scaler', StandardScaler()),\n",
       "                 ('clf',\n",
       "                  BaggingClassifier(base_estimator=LogisticRegression(),\n",
       "                                    random_state=0))])}"
      ]
     },
     "execution_count": 696,
     "metadata": {},
     "output_type": "execute_result"
    }
   ],
   "source": [
    "models  = os.listdir(\"./UI/models\")\n",
    "MODELS = {}\n",
    "for model in models:\n",
    "    modelName = model.split(\".\")[0]\n",
    "    MODELS[modelName] = None\n",
    "    pipeline = pickle.load(open(\"./UI/models/{}\".format(model),\"rb\" ))\n",
    "    MODELS[modelName]=pipeline\n",
    "MODELS\n",
    "# models"
   ]
  },
  {
   "cell_type": "code",
   "execution_count": 698,
   "id": "second-refund",
   "metadata": {},
   "outputs": [
    {
     "name": "stdout",
     "output_type": "stream",
     "text": [
      "[[1 1]]\n"
     ]
    },
    {
     "data": {
      "text/html": [
       "<div>\n",
       "<style scoped>\n",
       "    .dataframe tbody tr th:only-of-type {\n",
       "        vertical-align: middle;\n",
       "    }\n",
       "\n",
       "    .dataframe tbody tr th {\n",
       "        vertical-align: top;\n",
       "    }\n",
       "\n",
       "    .dataframe thead th {\n",
       "        text-align: right;\n",
       "    }\n",
       "</style>\n",
       "<table border=\"1\" class=\"dataframe\">\n",
       "  <thead>\n",
       "    <tr style=\"text-align: right;\">\n",
       "      <th></th>\n",
       "      <th>MODEL_NAME</th>\n",
       "      <th>PROBABILITY</th>\n",
       "      <th>PREDICTION</th>\n",
       "    </tr>\n",
       "  </thead>\n",
       "  <tbody>\n",
       "    <tr>\n",
       "      <th>0</th>\n",
       "      <td>BAGGING</td>\n",
       "      <td>7.570439e-02</td>\n",
       "      <td>Alpha</td>\n",
       "    </tr>\n",
       "    <tr>\n",
       "      <th>1</th>\n",
       "      <td>BAGGING</td>\n",
       "      <td>2.401960e-04</td>\n",
       "      <td>Beta</td>\n",
       "    </tr>\n",
       "    <tr>\n",
       "      <th>2</th>\n",
       "      <td>BAGGING</td>\n",
       "      <td>9.240554e-01</td>\n",
       "      <td>Gamma</td>\n",
       "    </tr>\n",
       "    <tr>\n",
       "      <th>0</th>\n",
       "      <td>GRADIENT</td>\n",
       "      <td>9.951799e-02</td>\n",
       "      <td>Alpha</td>\n",
       "    </tr>\n",
       "    <tr>\n",
       "      <th>1</th>\n",
       "      <td>GRADIENT</td>\n",
       "      <td>1.023352e-01</td>\n",
       "      <td>Beta</td>\n",
       "    </tr>\n",
       "    <tr>\n",
       "      <th>2</th>\n",
       "      <td>GRADIENT</td>\n",
       "      <td>7.981468e-01</td>\n",
       "      <td>Gamma</td>\n",
       "    </tr>\n",
       "    <tr>\n",
       "      <th>0</th>\n",
       "      <td>ADA</td>\n",
       "      <td>6.846176e-03</td>\n",
       "      <td>Alpha</td>\n",
       "    </tr>\n",
       "    <tr>\n",
       "      <th>1</th>\n",
       "      <td>ADA</td>\n",
       "      <td>2.483660e-07</td>\n",
       "      <td>Beta</td>\n",
       "    </tr>\n",
       "    <tr>\n",
       "      <th>2</th>\n",
       "      <td>ADA</td>\n",
       "      <td>9.931536e-01</td>\n",
       "      <td>Gamma</td>\n",
       "    </tr>\n",
       "    <tr>\n",
       "      <th>0</th>\n",
       "      <td>RANDOM_F</td>\n",
       "      <td>0.000000e+00</td>\n",
       "      <td>Alpha</td>\n",
       "    </tr>\n",
       "    <tr>\n",
       "      <th>1</th>\n",
       "      <td>RANDOM_F</td>\n",
       "      <td>0.000000e+00</td>\n",
       "      <td>Beta</td>\n",
       "    </tr>\n",
       "    <tr>\n",
       "      <th>2</th>\n",
       "      <td>RANDOM_F</td>\n",
       "      <td>1.000000e+00</td>\n",
       "      <td>Gamma</td>\n",
       "    </tr>\n",
       "    <tr>\n",
       "      <th>0</th>\n",
       "      <td>LOGISTIC</td>\n",
       "      <td>7.322617e-02</td>\n",
       "      <td>Alpha</td>\n",
       "    </tr>\n",
       "    <tr>\n",
       "      <th>1</th>\n",
       "      <td>LOGISTIC</td>\n",
       "      <td>3.099100e-04</td>\n",
       "      <td>Beta</td>\n",
       "    </tr>\n",
       "    <tr>\n",
       "      <th>2</th>\n",
       "      <td>LOGISTIC</td>\n",
       "      <td>9.264639e-01</td>\n",
       "      <td>Gamma</td>\n",
       "    </tr>\n",
       "  </tbody>\n",
       "</table>\n",
       "</div>"
      ],
      "text/plain": [
       "  MODEL_NAME   PROBABILITY PREDICTION\n",
       "0    BAGGING  7.570439e-02      Alpha\n",
       "1    BAGGING  2.401960e-04       Beta\n",
       "2    BAGGING  9.240554e-01      Gamma\n",
       "0   GRADIENT  9.951799e-02      Alpha\n",
       "1   GRADIENT  1.023352e-01       Beta\n",
       "2   GRADIENT  7.981468e-01      Gamma\n",
       "0        ADA  6.846176e-03      Alpha\n",
       "1        ADA  2.483660e-07       Beta\n",
       "2        ADA  9.931536e-01      Gamma\n",
       "0   RANDOM_F  0.000000e+00      Alpha\n",
       "1   RANDOM_F  0.000000e+00       Beta\n",
       "2   RANDOM_F  1.000000e+00      Gamma\n",
       "0   LOGISTIC  7.322617e-02      Alpha\n",
       "1   LOGISTIC  3.099100e-04       Beta\n",
       "2   LOGISTIC  9.264639e-01      Gamma"
      ]
     },
     "execution_count": 698,
     "metadata": {},
     "output_type": "execute_result"
    }
   ],
   "source": [
    "x =N.array([[1,1]])\n",
    "def getData(**kwargs):\n",
    "    x       = kwargs.get(\"x\",N.array([[0,0]]) )\n",
    "    print(x)\n",
    "    test_df = P.DataFrame()\n",
    "    for i,pipeline in MODELS.items():\n",
    "        classes    = pipeline.classes_ \n",
    "        modelName  = [\"{}\".format(i)]*len(classes)\n",
    "        proba      = pipeline.predict_proba(x)[0]\n",
    "        tmp_df    = P.DataFrame(\n",
    "            {\n",
    "                \"MODEL_NAME\":modelName,\n",
    "                \"PROBABILITY\": proba,\n",
    "                \"PREDICTION\":classes\n",
    "            }\n",
    "        )\n",
    "        test_df = P.concat([tmp_df,test_df])\n",
    "    return test_df\n",
    "getData(x=x)\n",
    "# test_df\n",
    "\n",
    "    \n",
    "    "
   ]
  },
  {
   "cell_type": "code",
   "execution_count": 653,
   "id": "olympic-oklahoma",
   "metadata": {},
   "outputs": [
    {
     "name": "stdout",
     "output_type": "stream",
     "text": [
      "0.9634146341463414\n",
      "0.9634146341463414\n",
      "0.8048780487804879\n",
      "0.983739837398374\n",
      "0.991869918699187\n"
     ]
    }
   ],
   "source": [
    "for pipeline in pipelines:\n",
    "    score = pipeline.score(X_test5,y_test5)\n",
    "    print(score)"
   ]
  },
  {
   "cell_type": "code",
   "execution_count": 388,
   "id": "cellular-mediterranean",
   "metadata": {},
   "outputs": [],
   "source": [
    "scores = P.DataFrame([score1,score2,score3,score4,score5,score6,score7],columns=[\"MODEL\",\"SCORE\"])\n",
    "# scores"
   ]
  },
  {
   "cell_type": "code",
   "execution_count": 389,
   "id": "another-pulse",
   "metadata": {},
   "outputs": [
    {
     "data": {
      "text/plain": [
       "<AxesSubplot:xlabel='MODEL', ylabel='SCORE'>"
      ]
     },
     "execution_count": 389,
     "metadata": {},
     "output_type": "execute_result"
    },
    {
     "data": {
      "image/png": "[encoded data removed]",
      "text/plain": [
       "<Figure size 432x288 with 1 Axes>"
      ]
     },
     "metadata": {
      "needs_background": "light"
     },
     "output_type": "display_data"
    }
   ],
   "source": [
    "SB.barplot(data=scores,x=\"MODEL\",y=\"SCORE\")"
   ]
  },
  {
   "cell_type": "code",
   "execution_count": 407,
   "id": "numerous-thriller",
   "metadata": {},
   "outputs": [
    {
     "data": {
      "text/plain": [
       "array([[3.33494134e-02, 5.43170808e-05, 9.66596270e-01]])"
      ]
     },
     "execution_count": 407,
     "metadata": {},
     "output_type": "execute_result"
    }
   ],
   "source": [
    "x = N.array([[1.0,2.0]])\n",
    "clf5.predict_proba(x)"
   ]
  },
  {
   "cell_type": "code",
   "execution_count": 395,
   "id": "looking-appendix",
   "metadata": {},
   "outputs": [],
   "source": [
    "pickle.dump(clf5, open(\"./UI/models/ADAC_3.sav\", 'wb'))"
   ]
  },
  {
   "cell_type": "code",
   "execution_count": 242,
   "id": "changing-christopher",
   "metadata": {},
   "outputs": [
    {
     "data": {
      "text/plain": [
       "<AxesSubplot:xlabel='USER_DENSITY', ylabel='Density'>"
      ]
     },
     "execution_count": 242,
     "metadata": {},
     "output_type": "execute_result"
    },
    {
     "data": {
      "image/png": "[encoded data removed]",
      "text/plain": [
       "<Figure size 432x288 with 1 Axes>"
      ]
     },
     "metadata": {
      "needs_background": "light"
     },
     "output_type": "display_data"
    }
   ],
   "source": [
    "SB.kdeplot(data=PRODUCERS,x=\"USER_DENSITY\")\n",
    "# SB.kdeplot(data=PRODUCERS,x=\"USER_VOLUME\")"
   ]
  },
  {
   "cell_type": "code",
   "execution_count": 143,
   "id": "confirmed-finding",
   "metadata": {},
   "outputs": [
    {
     "data": {
      "text/plain": [
       "(array([      7870,      65800,      95982,     116480,     138723,\n",
       "            146992,     157925,     165018,     181431,     253028,\n",
       "            599410,     620226,     767976,     787132,     816371,\n",
       "            986542,    1014516,    1118221,    1130055,    1160067,\n",
       "           1258618,    1450621,    1565565,    1574083,    1878832,\n",
       "           1906837,    1921298,    1996363,    2015506,    2397494,\n",
       "           2450320,    2720271,    2898021,    3052048,    3416684,\n",
       "           3442433,    3849553,    4042283,    4140744,    4616106,\n",
       "           4721025,    4803655,    5087794,    5405651,    5514235,\n",
       "           6590609,    6620212,    6849281,    6860189,    8789137,\n",
       "           9187952,    9473172,    9675477,    9777455,   10581097,\n",
       "          11145219,   11206038,   11285087,   11360919,   11522830,\n",
       "          11762801,   12456888,   12485872,   12602307,   12900868,\n",
       "          12995776,   14155630,   14598218,   15503147,   16516077,\n",
       "          16653526,   16926557,   17104316,   17789355,   18719531,\n",
       "          18918467,   19769622,   21418335,   21652557,   23678829,\n",
       "          23793248,   25096719,   26669533,   28902942,   29421778,\n",
       "          29809055,   29849632,   30976373,   31320010,   32337339,\n",
       "          33123285,   34870044,   36045182,   36170336,   37312375,\n",
       "          37510126,   39329697,   39444431,   40238620,   41981804,\n",
       "          43512986,   44902119,   48804988,   50804348,   54315777,\n",
       "         104887415,  144605776,  144646783,  144751146,  145821237,\n",
       "         173560420,  174143945,  178377460,  178522459,  179801071,\n",
       "         181306552,  182144062,  184692323,  186904952,  187619120,\n",
       "         187797298,  189379530,  191780822,  192271144,  193288192,\n",
       "         193991323,  195270438,  195976455,  197656340,  198016434,\n",
       "         199230400,  200743279,  202453899,  208560325,  209363741,\n",
       "         212411978,  217867189,  220885929,  230447982,  232463295,\n",
       "         241997151,  247944034,  251478729,  255974367,  259220806,\n",
       "         264042583,  267150258,  270099873,  276192188,  280526827,\n",
       "         282843766,  288951729,  290023231,  297139370,  301763305,\n",
       "         314790477,  326118493,  326765160,  337872647,  350781937,\n",
       "         361386289,  386277730,  435909874,  462812351,  474640424,\n",
       "         475652177,  491917617,  511234658,  511681663,  519360384,\n",
       "         519941099,  527660389,  528002193,  528817151,  550072490,\n",
       "         550563120,  600168571,  611906850,  615435612,  636462485,\n",
       "         648832327,  664015240,  742756569,  775740654,  828854686,\n",
       "         901987650,  928716745,  986959732, 1056975626, 1110719435,\n",
       "        1187423599, 1189085124, 1269033626, 1444265401, 1450620409,\n",
       "        1463412041, 1482175840, 1484713846, 1487923224, 1521781441,\n",
       "        1527511289, 1544389063, 1545137312, 1576246743, 1578859187,\n",
       "        1601920308, 1619356484, 1624593034, 1632038167, 1652014018,\n",
       "        1690074597, 1703863925, 1742460701, 1746185888, 1758777116,\n",
       "        1785849650, 1818892636, 1925734333, 2010578211, 2084606212,\n",
       "        2175920487, 2205301520, 2243532154, 2249273665, 2252052890,\n",
       "        2255160176, 2266314608, 2299493736, 2300108650, 2306821321,\n",
       "        2308620132, 2346415096, 2349894421, 2357503665]),\n",
       " array([1, 1, 1, 1, 1, 1, 1, 2, 1, 1, 1, 1, 1, 4, 2, 1, 1, 1, 1, 1, 1, 3,\n",
       "        2, 8, 1, 2, 1, 3, 1, 1, 1, 1, 1, 2, 2, 1, 1, 1, 3, 1, 1, 1, 1, 1,\n",
       "        1, 2, 1, 1, 1, 1, 3, 1, 1, 1, 1, 1, 3, 2, 2, 1, 2, 3, 1, 1, 1, 2,\n",
       "        1, 1, 1, 1, 1, 3, 1, 1, 1, 1, 4, 2, 1, 1, 1, 1, 1, 1, 2, 1, 1, 1,\n",
       "        1, 6, 1, 2, 1, 1, 1, 1, 1, 1, 1, 2, 1, 2, 1, 1, 1, 3, 1, 2, 1, 1,\n",
       "        2, 1, 1, 3, 1, 3, 1, 2, 1, 2, 1, 1, 1, 1, 4, 1, 2, 1, 1, 1, 1, 3,\n",
       "        1, 2, 1, 1, 1, 3, 1, 1, 1, 4, 2, 1, 8, 1, 1, 1, 3, 3, 1, 1, 2, 2,\n",
       "        2, 2, 1, 1, 2, 3, 1, 1, 1, 1, 4, 1, 1, 1, 1, 2, 1, 1, 2, 1, 1, 1,\n",
       "        3, 1, 1, 1, 1, 1, 3, 1, 1, 1, 1, 1, 1, 1, 1, 1, 1, 1, 2, 1, 1, 2,\n",
       "        1, 1, 2, 1, 3, 2, 1, 1, 1, 2, 2, 2, 1, 3, 1, 2, 1, 2, 1, 1, 1, 3,\n",
       "        2, 1, 2, 1, 3, 1, 1, 1, 1, 1, 1, 1, 3, 1]))"
      ]
     },
     "execution_count": 143,
     "metadata": {},
     "output_type": "execute_result"
    }
   ],
   "source": [
    "N.unique(PRODUCERS[\"USER_ID\"],return_counts=True)"
   ]
  },
  {
   "cell_type": "code",
   "execution_count": 146,
   "id": "painted-continent",
   "metadata": {},
   "outputs": [
    {
     "data": {
      "text/plain": [
       "(array([      7870,      65800,      95982,     116480,     138723,\n",
       "            146992,     157925,     165018,     181431,     253028,\n",
       "            599410,     620226,     767976,     787132,     816371,\n",
       "            986542,    1014516,    1118221,    1130055,    1160067,\n",
       "           1258618,    1450621,    1565565,    1574083,    1878832,\n",
       "           1906837,    1921298,    1996363,    2015506,    2397494,\n",
       "           2450320,    2720271,    2898021,    3052048,    3416684,\n",
       "           3442433,    3849553,    4042283,    4140744,    4616106,\n",
       "           4721025,    4803655,    5087794,    5405651,    5514235,\n",
       "           6590609,    6620212,    6849281,    6860189,    8789137,\n",
       "           9187952,    9473172,    9675477,    9777455,   10581097,\n",
       "          11145219,   11206038,   11285087,   11360919,   11522830,\n",
       "          11762801,   12456888,   12485872,   12602307,   12900868,\n",
       "          12995776,   14155630,   14598218,   15503147,   16516077,\n",
       "          16653526,   16926557,   17104316,   17789355,   18719531,\n",
       "          18918467,   19769622,   21418335,   21652557,   23678829,\n",
       "          23793248,   25096719,   26669533,   28902942,   29421778,\n",
       "          29809055,   29849632,   30976373,   31320010,   32337339,\n",
       "          33123285,   34870044,   36045182,   36170336,   37312375,\n",
       "          37510126,   39329697,   39444431,   40238620,   41981804,\n",
       "          43512986,   44902119,   48804988,   50804348,   54315777,\n",
       "         104887415,  144605776,  144646783,  144751146,  145821237,\n",
       "         173560420,  174143945,  178377460,  178522459,  179801071,\n",
       "         181306552,  182144062,  184692323,  186904952,  187619120,\n",
       "         187797298,  189379530,  191780822,  192271144,  193288192,\n",
       "         193991323,  195270438,  195976455,  197656340,  198016434,\n",
       "         199230400,  200743279,  202453899,  208560325,  209363741,\n",
       "         212411978,  217867189,  220885929,  230447982,  232463295,\n",
       "         241997151,  247944034,  251478729,  255974367,  259220806,\n",
       "         264042583,  267150258,  270099873,  276192188,  280526827,\n",
       "         282843766,  288951729,  290023231,  297139370,  301763305,\n",
       "         314790477,  326118493,  326765160,  337872647,  350781937,\n",
       "         361386289,  386277730,  435909874,  462812351,  474640424,\n",
       "         475652177,  491917617,  511234658,  511681663,  519360384,\n",
       "         519941099,  527660389,  528002193,  528817151,  550072490,\n",
       "         550563120,  600168571,  611906850,  615435612,  636462485,\n",
       "         648832327,  664015240,  742756569,  775740654,  828854686,\n",
       "         901987650,  928716745,  986959732, 1056975626, 1110719435,\n",
       "        1187423599, 1189085124, 1269033626, 1444265401, 1450620409,\n",
       "        1463412041, 1482175840, 1484713846, 1487923224, 1521781441,\n",
       "        1527511289, 1544389063, 1545137312, 1576246743, 1578859187,\n",
       "        1601920308, 1619356484, 1624593034, 1632038167, 1652014018,\n",
       "        1690074597, 1703863925, 1742460701, 1746185888, 1758777116,\n",
       "        1785849650, 1818892636, 1925734333, 2010578211, 2084606212,\n",
       "        2175920487, 2205301520, 2243532154, 2249273665, 2252052890,\n",
       "        2255160176, 2266314608, 2299493736, 2300108650, 2306821321,\n",
       "        2308620132, 2346415096, 2349894421, 2357503665]),\n",
       " array([1, 1, 1, 1, 1, 1, 1, 1, 1, 1, 1, 1, 1, 1, 1, 1, 1, 1, 1, 1, 1, 1,\n",
       "        1, 1, 1, 1, 1, 1, 1, 1, 1, 1, 1, 1, 1, 1, 1, 1, 1, 1, 1, 1, 1, 1,\n",
       "        1, 1, 1, 1, 1, 1, 1, 1, 1, 1, 1, 1, 1, 1, 1, 1, 1, 1, 1, 1, 1, 1,\n",
       "        1, 1, 1, 1, 1, 1, 1, 1, 1, 1, 1, 1, 1, 1, 1, 1, 1, 1, 1, 1, 1, 1,\n",
       "        1, 1, 1, 1, 1, 1, 1, 1, 1, 1, 1, 1, 1, 1, 1, 1, 1, 1, 1, 1, 1, 1,\n",
       "        1, 1, 1, 1, 1, 1, 1, 1, 1, 1, 1, 1, 1, 1, 1, 1, 1, 1, 1, 1, 1, 1,\n",
       "        1, 1, 1, 1, 1, 1, 1, 1, 1, 1, 1, 1, 1, 1, 1, 1, 1, 1, 1, 1, 1, 1,\n",
       "        1, 1, 1, 1, 1, 1, 1, 1, 1, 1, 1, 1, 1, 1, 1, 1, 1, 1, 1, 1, 1, 1,\n",
       "        1, 1, 1, 1, 1, 1, 1, 1, 1, 1, 1, 1, 1, 1, 1, 1, 1, 1, 1, 1, 1, 1,\n",
       "        1, 1, 1, 1, 1, 1, 1, 1, 1, 1, 1, 1, 1, 1, 1, 1, 1, 1, 1, 1, 1, 1,\n",
       "        1, 1, 1, 1, 1, 1, 1, 1, 1, 1, 1, 1, 1, 1]))"
      ]
     },
     "execution_count": 146,
     "metadata": {},
     "output_type": "execute_result"
    }
   ],
   "source": [
    "NEW_PRODUCERS = PRODUCERS.drop_duplicates([\"USER_ID\"])\n",
    "N.unique(NEW_PRODUCERS[\"USER_ID\"],return_counts=True)"
   ]
  },
  {
   "cell_type": "code",
   "execution_count": 156,
   "id": "assisted-franchise",
   "metadata": {},
   "outputs": [
    {
     "data": {
      "text/plain": [
       "100.0"
      ]
     },
     "execution_count": 156,
     "metadata": {},
     "output_type": "execute_result"
    }
   ],
   "source": [
    "# NEW_PRODUCERS[\"CONSUME_OTHERS\"].sum()\n",
    "(NEW_PRODUCERS[\"PRODUCTION\"]+NEW_PRODUCERS[\"CONSUME_OTHERS\"]).sum()"
   ]
  },
  {
   "cell_type": "markdown",
   "id": "whole-resistance",
   "metadata": {},
   "source": [
    "# Consumers"
   ]
  },
  {
   "cell_type": "code",
   "execution_count": 6,
   "id": "congressional-grade",
   "metadata": {},
   "outputs": [],
   "source": [
    "CONSUMERS = df[df[\"TYPE\"]==\"DOWNLOAD\"]"
   ]
  },
  {
   "cell_type": "code",
   "execution_count": 10,
   "id": "freelance-beijing",
   "metadata": {},
   "outputs": [],
   "source": [
    "CONSUMERS_DF = CONSUMERS.drop_duplicates([\"USER_ID\"])"
   ]
  },
  {
   "cell_type": "code",
   "execution_count": 31,
   "id": "adverse-vaccine",
   "metadata": {},
   "outputs": [],
   "source": [
    "classes_counter = [\n",
    "    N.unique(PRODUCERS_DF[\"USER_ID\"]).shape[0],\n",
    "    N.unique(CONSUMERS_DF[\"USER_ID\"]).shape[0]\n",
    "]\n",
    "classes_counter_df = P.DataFrame(\n",
    " {\n",
    "     \"count\":classes_counter,\n",
    "     \"role\":[\"PRODUCER\",\"CONSUMER\"]\n",
    " }\n",
    ") "
   ]
  },
  {
   "cell_type": "code",
   "execution_count": null,
   "id": "worst-netscape",
   "metadata": {},
   "outputs": [],
   "source": []
  },
  {
   "cell_type": "code",
   "execution_count": 34,
   "id": "driven-honey",
   "metadata": {},
   "outputs": [
    {
     "data": {
      "text/plain": [
       "<AxesSubplot:xlabel='role', ylabel='count'>"
      ]
     },
     "execution_count": 34,
     "metadata": {},
     "output_type": "execute_result"
    },
    {
     "data": {
      "image/png": "[encoded data removed]",
      "text/plain": [
       "<Figure size 432x288 with 1 Axes>"
      ]
     },
     "metadata": {
      "needs_background": "light"
     },
     "output_type": "display_data"
    }
   ],
   "source": [
    "SB.barplot(data=classes_counter_df,x=\"role\",y=\"count\")"
   ]
  },
  {
   "cell_type": "code",
   "execution_count": null,
   "id": "labeled-latvia",
   "metadata": {},
   "outputs": [],
   "source": []
  }
 ],
 "metadata": {
  "kernelspec": {
   "display_name": "Python 3",
   "language": "python",
   "name": "python3"
  },
  "language_info": {
   "codemirror_mode": {
    "name": "ipython",
    "version": 3
   },
   "file_extension": ".py",
   "mimetype": "text/x-python",
   "name": "python",
   "nbconvert_exporter": "python",
   "pygments_lexer": "ipython3",
   "version": "3.8.10"
  }
 },
 "nbformat": 4,
 "nbformat_minor": 5
}
