{
 "cells": [
  {
   "cell_type": "code",
   "execution_count": 1,
   "id": "physical-disclosure",
   "metadata": {},
   "outputs": [],
   "source": [
    "import numpy as N\n",
    "import pandas as P\n",
    "import matplotlib.pyplot as M\n",
    "import seaborn as SB\n",
    "from sklearn.model_selection import train_test_split\n",
    "from sklearn.ensemble import BaggingClassifier\n",
    "from sklearn.neighbors import KNeighborsClassifier"
   ]
  },
  {
   "cell_type": "code",
   "execution_count": 2,
   "id": "supported-payday",
   "metadata": {},
   "outputs": [],
   "source": [
    "df = P.read_csv(\"./data/data.csv\")\n",
    "df[\"TYPE\"] = df[\"TYPE\"].str.upper()"
   ]
  },
  {
   "cell_type": "code",
   "execution_count": 3,
   "id": "revised-freeware",
   "metadata": {},
   "outputs": [
    {
     "name": "stdout",
     "output_type": "stream",
     "text": [
      "<class 'pandas.core.frame.DataFrame'>\n",
      "RangeIndex: 50757 entries, 0 to 50756\n",
      "Data columns (total 15 columns):\n",
      " #   Column          Non-Null Count  Dtype  \n",
      "---  ------          --------------  -----  \n",
      " 0   OPERATION_ID    50757 non-null  int64  \n",
      " 1   TYPE            50757 non-null  object \n",
      " 2   USER_ID         50757 non-null  int64  \n",
      " 3   PRODUCTION      50757 non-null  float64\n",
      " 4   CONSUME         50757 non-null  float64\n",
      " 5   CONSUME_OTHERS  50757 non-null  float64\n",
      " 6   USER_VOLUME     50757 non-null  int64  \n",
      " 7   USER_DENSITY    50757 non-null  float64\n",
      " 8   USER_ROLE       1779 non-null   object \n",
      " 9   FILE_ID         50757 non-null  int64  \n",
      " 10  FILE_SIZE       50757 non-null  int64  \n",
      " 11  TOPIC_ID        50757 non-null  int64  \n",
      " 12  TOPIC_VOLUME    50757 non-null  int64  \n",
      " 13  TOPIC_DENSITY   50757 non-null  float64\n",
      " 14  TOPIC_ROLE      50757 non-null  object \n",
      "dtypes: float64(5), int64(7), object(3)\n",
      "memory usage: 5.8+ MB\n"
     ]
    }
   ],
   "source": [
    "df.info()"
   ]
  },
  {
   "cell_type": "code",
   "execution_count": 4,
   "id": "affiliated-mandate",
   "metadata": {},
   "outputs": [
    {
     "data": {
      "text/html": [
       "<div>\n",
       "<style scoped>\n",
       "    .dataframe tbody tr th:only-of-type {\n",
       "        vertical-align: middle;\n",
       "    }\n",
       "\n",
       "    .dataframe tbody tr th {\n",
       "        vertical-align: top;\n",
       "    }\n",
       "\n",
       "    .dataframe thead th {\n",
       "        text-align: right;\n",
       "    }\n",
       "</style>\n",
       "<table border=\"1\" class=\"dataframe\">\n",
       "  <thead>\n",
       "    <tr style=\"text-align: right;\">\n",
       "      <th></th>\n",
       "      <th>OPERATION_ID</th>\n",
       "      <th>USER_ID</th>\n",
       "      <th>PRODUCTION</th>\n",
       "      <th>CONSUME</th>\n",
       "      <th>CONSUME_OTHERS</th>\n",
       "      <th>USER_VOLUME</th>\n",
       "      <th>USER_DENSITY</th>\n",
       "      <th>FILE_ID</th>\n",
       "      <th>FILE_SIZE</th>\n",
       "      <th>TOPIC_ID</th>\n",
       "      <th>TOPIC_VOLUME</th>\n",
       "      <th>TOPIC_DENSITY</th>\n",
       "    </tr>\n",
       "  </thead>\n",
       "  <tbody>\n",
       "    <tr>\n",
       "      <th>count</th>\n",
       "      <td>50757.000000</td>\n",
       "      <td>5.075700e+04</td>\n",
       "      <td>50757.000000</td>\n",
       "      <td>50757.000000</td>\n",
       "      <td>50757.000000</td>\n",
       "      <td>5.075700e+04</td>\n",
       "      <td>50757.000000</td>\n",
       "      <td>50757.000000</td>\n",
       "      <td>50757.000000</td>\n",
       "      <td>50757.000000</td>\n",
       "      <td>5.075700e+04</td>\n",
       "      <td>50757.000000</td>\n",
       "    </tr>\n",
       "    <tr>\n",
       "      <th>mean</th>\n",
       "      <td>6732.547826</td>\n",
       "      <td>8.143897e+08</td>\n",
       "      <td>0.000391</td>\n",
       "      <td>0.013809</td>\n",
       "      <td>0.025569</td>\n",
       "      <td>6.822392e+03</td>\n",
       "      <td>447.983285</td>\n",
       "      <td>114.767953</td>\n",
       "      <td>5.099080</td>\n",
       "      <td>12.337884</td>\n",
       "      <td>9.595319e+06</td>\n",
       "      <td>140766.670654</td>\n",
       "    </tr>\n",
       "    <tr>\n",
       "      <th>std</th>\n",
       "      <td>5327.472492</td>\n",
       "      <td>8.346721e+08</td>\n",
       "      <td>0.002695</td>\n",
       "      <td>0.030600</td>\n",
       "      <td>0.270463</td>\n",
       "      <td>1.530099e+05</td>\n",
       "      <td>7667.915318</td>\n",
       "      <td>96.105195</td>\n",
       "      <td>1.977525</td>\n",
       "      <td>7.401670</td>\n",
       "      <td>1.225478e+07</td>\n",
       "      <td>158688.926152</td>\n",
       "    </tr>\n",
       "    <tr>\n",
       "      <th>min</th>\n",
       "      <td>1.000000</td>\n",
       "      <td>4.163000e+03</td>\n",
       "      <td>0.000000</td>\n",
       "      <td>0.000000</td>\n",
       "      <td>0.000000</td>\n",
       "      <td>0.000000e+00</td>\n",
       "      <td>0.000000</td>\n",
       "      <td>1.000000</td>\n",
       "      <td>1.000000</td>\n",
       "      <td>1.000000</td>\n",
       "      <td>7.000000e+00</td>\n",
       "      <td>5.050000</td>\n",
       "    </tr>\n",
       "    <tr>\n",
       "      <th>25%</th>\n",
       "      <td>2563.000000</td>\n",
       "      <td>1.773206e+08</td>\n",
       "      <td>0.000000</td>\n",
       "      <td>0.004206</td>\n",
       "      <td>0.000000</td>\n",
       "      <td>0.000000e+00</td>\n",
       "      <td>0.000000</td>\n",
       "      <td>43.000000</td>\n",
       "      <td>4.000000</td>\n",
       "      <td>5.000000</td>\n",
       "      <td>1.707174e+06</td>\n",
       "      <td>46620.733299</td>\n",
       "    </tr>\n",
       "    <tr>\n",
       "      <th>50%</th>\n",
       "      <td>5437.000000</td>\n",
       "      <td>3.723888e+08</td>\n",
       "      <td>0.000000</td>\n",
       "      <td>0.011120</td>\n",
       "      <td>0.000000</td>\n",
       "      <td>0.000000e+00</td>\n",
       "      <td>0.000000</td>\n",
       "      <td>83.000000</td>\n",
       "      <td>5.000000</td>\n",
       "      <td>12.000000</td>\n",
       "      <td>5.777280e+06</td>\n",
       "      <td>77027.883382</td>\n",
       "    </tr>\n",
       "    <tr>\n",
       "      <th>75%</th>\n",
       "      <td>9185.000000</td>\n",
       "      <td>1.510811e+09</td>\n",
       "      <td>0.000000</td>\n",
       "      <td>0.011120</td>\n",
       "      <td>0.000000</td>\n",
       "      <td>0.000000e+00</td>\n",
       "      <td>0.000000</td>\n",
       "      <td>174.000000</td>\n",
       "      <td>6.000000</td>\n",
       "      <td>17.000000</td>\n",
       "      <td>1.003422e+07</td>\n",
       "      <td>164303.266976</td>\n",
       "    </tr>\n",
       "    <tr>\n",
       "      <th>max</th>\n",
       "      <td>20262.000000</td>\n",
       "      <td>2.917676e+09</td>\n",
       "      <td>0.066719</td>\n",
       "      <td>0.478150</td>\n",
       "      <td>10.007784</td>\n",
       "      <td>7.740000e+06</td>\n",
       "      <td>487858.567604</td>\n",
       "      <td>353.000000</td>\n",
       "      <td>10.000000</td>\n",
       "      <td>26.000000</td>\n",
       "      <td>4.814861e+07</td>\n",
       "      <td>621071.733518</td>\n",
       "    </tr>\n",
       "  </tbody>\n",
       "</table>\n",
       "</div>"
      ],
      "text/plain": [
       "       OPERATION_ID       USER_ID    PRODUCTION       CONSUME  CONSUME_OTHERS  \\\n",
       "count  50757.000000  5.075700e+04  50757.000000  50757.000000    50757.000000   \n",
       "mean    6732.547826  8.143897e+08      0.000391      0.013809        0.025569   \n",
       "std     5327.472492  8.346721e+08      0.002695      0.030600        0.270463   \n",
       "min        1.000000  4.163000e+03      0.000000      0.000000        0.000000   \n",
       "25%     2563.000000  1.773206e+08      0.000000      0.004206        0.000000   \n",
       "50%     5437.000000  3.723888e+08      0.000000      0.011120        0.000000   \n",
       "75%     9185.000000  1.510811e+09      0.000000      0.011120        0.000000   \n",
       "max    20262.000000  2.917676e+09      0.066719      0.478150       10.007784   \n",
       "\n",
       "        USER_VOLUME   USER_DENSITY       FILE_ID     FILE_SIZE      TOPIC_ID  \\\n",
       "count  5.075700e+04   50757.000000  50757.000000  50757.000000  50757.000000   \n",
       "mean   6.822392e+03     447.983285    114.767953      5.099080     12.337884   \n",
       "std    1.530099e+05    7667.915318     96.105195      1.977525      7.401670   \n",
       "min    0.000000e+00       0.000000      1.000000      1.000000      1.000000   \n",
       "25%    0.000000e+00       0.000000     43.000000      4.000000      5.000000   \n",
       "50%    0.000000e+00       0.000000     83.000000      5.000000     12.000000   \n",
       "75%    0.000000e+00       0.000000    174.000000      6.000000     17.000000   \n",
       "max    7.740000e+06  487858.567604    353.000000     10.000000     26.000000   \n",
       "\n",
       "       TOPIC_VOLUME  TOPIC_DENSITY  \n",
       "count  5.075700e+04   50757.000000  \n",
       "mean   9.595319e+06  140766.670654  \n",
       "std    1.225478e+07  158688.926152  \n",
       "min    7.000000e+00       5.050000  \n",
       "25%    1.707174e+06   46620.733299  \n",
       "50%    5.777280e+06   77027.883382  \n",
       "75%    1.003422e+07  164303.266976  \n",
       "max    4.814861e+07  621071.733518  "
      ]
     },
     "execution_count": 4,
     "metadata": {},
     "output_type": "execute_result"
    }
   ],
   "source": [
    "df.describe()"
   ]
  },
  {
   "cell_type": "code",
   "execution_count": 5,
   "id": "raising-instrument",
   "metadata": {},
   "outputs": [
    {
     "data": {
      "text/html": [
       "<div>\n",
       "<style scoped>\n",
       "    .dataframe tbody tr th:only-of-type {\n",
       "        vertical-align: middle;\n",
       "    }\n",
       "\n",
       "    .dataframe tbody tr th {\n",
       "        vertical-align: top;\n",
       "    }\n",
       "\n",
       "    .dataframe thead th {\n",
       "        text-align: right;\n",
       "    }\n",
       "</style>\n",
       "<table border=\"1\" class=\"dataframe\">\n",
       "  <thead>\n",
       "    <tr style=\"text-align: right;\">\n",
       "      <th></th>\n",
       "      <th>OPERATION_ID</th>\n",
       "      <th>TYPE</th>\n",
       "      <th>USER_ID</th>\n",
       "      <th>PRODUCTION</th>\n",
       "      <th>CONSUME</th>\n",
       "      <th>CONSUME_OTHERS</th>\n",
       "      <th>USER_VOLUME</th>\n",
       "      <th>USER_DENSITY</th>\n",
       "      <th>USER_ROLE</th>\n",
       "      <th>FILE_ID</th>\n",
       "      <th>FILE_SIZE</th>\n",
       "      <th>TOPIC_ID</th>\n",
       "      <th>TOPIC_VOLUME</th>\n",
       "      <th>TOPIC_DENSITY</th>\n",
       "      <th>TOPIC_ROLE</th>\n",
       "    </tr>\n",
       "  </thead>\n",
       "  <tbody>\n",
       "    <tr>\n",
       "      <th>0</th>\n",
       "      <td>1</td>\n",
       "      <td>DOWNLOAD</td>\n",
       "      <td>43114731</td>\n",
       "      <td>0.01112</td>\n",
       "      <td>0.000000</td>\n",
       "      <td>0.233515</td>\n",
       "      <td>1764</td>\n",
       "      <td>9.966667</td>\n",
       "      <td>Gamma</td>\n",
       "      <td>100</td>\n",
       "      <td>4</td>\n",
       "      <td>17</td>\n",
       "      <td>5167328</td>\n",
       "      <td>47838.233327</td>\n",
       "      <td>Alpha</td>\n",
       "    </tr>\n",
       "    <tr>\n",
       "      <th>1</th>\n",
       "      <td>2</td>\n",
       "      <td>DOWNLOAD</td>\n",
       "      <td>1405534545</td>\n",
       "      <td>0.00000</td>\n",
       "      <td>0.022240</td>\n",
       "      <td>0.000000</td>\n",
       "      <td>0</td>\n",
       "      <td>0.000000</td>\n",
       "      <td>NaN</td>\n",
       "      <td>100</td>\n",
       "      <td>4</td>\n",
       "      <td>17</td>\n",
       "      <td>5167328</td>\n",
       "      <td>47838.233327</td>\n",
       "      <td>Alpha</td>\n",
       "    </tr>\n",
       "    <tr>\n",
       "      <th>2</th>\n",
       "      <td>2</td>\n",
       "      <td>DOWNLOAD</td>\n",
       "      <td>1405534545</td>\n",
       "      <td>0.00000</td>\n",
       "      <td>0.022240</td>\n",
       "      <td>0.000000</td>\n",
       "      <td>0</td>\n",
       "      <td>0.000000</td>\n",
       "      <td>NaN</td>\n",
       "      <td>100</td>\n",
       "      <td>4</td>\n",
       "      <td>17</td>\n",
       "      <td>5167328</td>\n",
       "      <td>47838.233327</td>\n",
       "      <td>Alpha</td>\n",
       "    </tr>\n",
       "    <tr>\n",
       "      <th>3</th>\n",
       "      <td>3</td>\n",
       "      <td>DOWNLOAD</td>\n",
       "      <td>640881322</td>\n",
       "      <td>0.00000</td>\n",
       "      <td>0.011120</td>\n",
       "      <td>0.000000</td>\n",
       "      <td>0</td>\n",
       "      <td>0.000000</td>\n",
       "      <td>NaN</td>\n",
       "      <td>100</td>\n",
       "      <td>4</td>\n",
       "      <td>17</td>\n",
       "      <td>5167328</td>\n",
       "      <td>47838.233327</td>\n",
       "      <td>Alpha</td>\n",
       "    </tr>\n",
       "    <tr>\n",
       "      <th>4</th>\n",
       "      <td>4</td>\n",
       "      <td>DOWNLOAD</td>\n",
       "      <td>1416963334</td>\n",
       "      <td>0.00000</td>\n",
       "      <td>0.011120</td>\n",
       "      <td>0.000000</td>\n",
       "      <td>0</td>\n",
       "      <td>0.000000</td>\n",
       "      <td>NaN</td>\n",
       "      <td>100</td>\n",
       "      <td>4</td>\n",
       "      <td>17</td>\n",
       "      <td>5167328</td>\n",
       "      <td>47838.233327</td>\n",
       "      <td>Alpha</td>\n",
       "    </tr>\n",
       "    <tr>\n",
       "      <th>5</th>\n",
       "      <td>5</td>\n",
       "      <td>DOWNLOAD</td>\n",
       "      <td>2189419908</td>\n",
       "      <td>0.00000</td>\n",
       "      <td>0.033359</td>\n",
       "      <td>0.000000</td>\n",
       "      <td>0</td>\n",
       "      <td>0.000000</td>\n",
       "      <td>NaN</td>\n",
       "      <td>100</td>\n",
       "      <td>4</td>\n",
       "      <td>17</td>\n",
       "      <td>5167328</td>\n",
       "      <td>47838.233327</td>\n",
       "      <td>Alpha</td>\n",
       "    </tr>\n",
       "    <tr>\n",
       "      <th>6</th>\n",
       "      <td>5</td>\n",
       "      <td>DOWNLOAD</td>\n",
       "      <td>2189419908</td>\n",
       "      <td>0.00000</td>\n",
       "      <td>0.033359</td>\n",
       "      <td>0.000000</td>\n",
       "      <td>0</td>\n",
       "      <td>0.000000</td>\n",
       "      <td>NaN</td>\n",
       "      <td>100</td>\n",
       "      <td>4</td>\n",
       "      <td>17</td>\n",
       "      <td>5167328</td>\n",
       "      <td>47838.233327</td>\n",
       "      <td>Alpha</td>\n",
       "    </tr>\n",
       "    <tr>\n",
       "      <th>7</th>\n",
       "      <td>5</td>\n",
       "      <td>DOWNLOAD</td>\n",
       "      <td>2189419908</td>\n",
       "      <td>0.00000</td>\n",
       "      <td>0.033359</td>\n",
       "      <td>0.000000</td>\n",
       "      <td>0</td>\n",
       "      <td>0.000000</td>\n",
       "      <td>NaN</td>\n",
       "      <td>100</td>\n",
       "      <td>4</td>\n",
       "      <td>17</td>\n",
       "      <td>5167328</td>\n",
       "      <td>47838.233327</td>\n",
       "      <td>Alpha</td>\n",
       "    </tr>\n",
       "    <tr>\n",
       "      <th>8</th>\n",
       "      <td>6</td>\n",
       "      <td>DOWNLOAD</td>\n",
       "      <td>1664876423</td>\n",
       "      <td>0.00000</td>\n",
       "      <td>0.011120</td>\n",
       "      <td>0.000000</td>\n",
       "      <td>0</td>\n",
       "      <td>0.000000</td>\n",
       "      <td>NaN</td>\n",
       "      <td>100</td>\n",
       "      <td>4</td>\n",
       "      <td>17</td>\n",
       "      <td>5167328</td>\n",
       "      <td>47838.233327</td>\n",
       "      <td>Alpha</td>\n",
       "    </tr>\n",
       "    <tr>\n",
       "      <th>9</th>\n",
       "      <td>7</td>\n",
       "      <td>DOWNLOAD</td>\n",
       "      <td>242461431</td>\n",
       "      <td>0.00000</td>\n",
       "      <td>0.011120</td>\n",
       "      <td>0.000000</td>\n",
       "      <td>0</td>\n",
       "      <td>0.000000</td>\n",
       "      <td>NaN</td>\n",
       "      <td>100</td>\n",
       "      <td>4</td>\n",
       "      <td>17</td>\n",
       "      <td>5167328</td>\n",
       "      <td>47838.233327</td>\n",
       "      <td>Alpha</td>\n",
       "    </tr>\n",
       "  </tbody>\n",
       "</table>\n",
       "</div>"
      ],
      "text/plain": [
       "   OPERATION_ID      TYPE     USER_ID  PRODUCTION   CONSUME  CONSUME_OTHERS  \\\n",
       "0             1  DOWNLOAD    43114731     0.01112  0.000000        0.233515   \n",
       "1             2  DOWNLOAD  1405534545     0.00000  0.022240        0.000000   \n",
       "2             2  DOWNLOAD  1405534545     0.00000  0.022240        0.000000   \n",
       "3             3  DOWNLOAD   640881322     0.00000  0.011120        0.000000   \n",
       "4             4  DOWNLOAD  1416963334     0.00000  0.011120        0.000000   \n",
       "5             5  DOWNLOAD  2189419908     0.00000  0.033359        0.000000   \n",
       "6             5  DOWNLOAD  2189419908     0.00000  0.033359        0.000000   \n",
       "7             5  DOWNLOAD  2189419908     0.00000  0.033359        0.000000   \n",
       "8             6  DOWNLOAD  1664876423     0.00000  0.011120        0.000000   \n",
       "9             7  DOWNLOAD   242461431     0.00000  0.011120        0.000000   \n",
       "\n",
       "   USER_VOLUME  USER_DENSITY USER_ROLE  FILE_ID  FILE_SIZE  TOPIC_ID  \\\n",
       "0         1764      9.966667     Gamma      100          4        17   \n",
       "1            0      0.000000       NaN      100          4        17   \n",
       "2            0      0.000000       NaN      100          4        17   \n",
       "3            0      0.000000       NaN      100          4        17   \n",
       "4            0      0.000000       NaN      100          4        17   \n",
       "5            0      0.000000       NaN      100          4        17   \n",
       "6            0      0.000000       NaN      100          4        17   \n",
       "7            0      0.000000       NaN      100          4        17   \n",
       "8            0      0.000000       NaN      100          4        17   \n",
       "9            0      0.000000       NaN      100          4        17   \n",
       "\n",
       "   TOPIC_VOLUME  TOPIC_DENSITY TOPIC_ROLE  \n",
       "0       5167328   47838.233327      Alpha  \n",
       "1       5167328   47838.233327      Alpha  \n",
       "2       5167328   47838.233327      Alpha  \n",
       "3       5167328   47838.233327      Alpha  \n",
       "4       5167328   47838.233327      Alpha  \n",
       "5       5167328   47838.233327      Alpha  \n",
       "6       5167328   47838.233327      Alpha  \n",
       "7       5167328   47838.233327      Alpha  \n",
       "8       5167328   47838.233327      Alpha  \n",
       "9       5167328   47838.233327      Alpha  "
      ]
     },
     "execution_count": 5,
     "metadata": {},
     "output_type": "execute_result"
    }
   ],
   "source": [
    "df.head(10)"
   ]
  },
  {
   "cell_type": "code",
   "execution_count": null,
   "id": "august-recovery",
   "metadata": {},
   "outputs": [],
   "source": []
  },
  {
   "cell_type": "markdown",
   "id": "vulnerable-street",
   "metadata": {},
   "source": [
    "# Producers"
   ]
  },
  {
   "cell_type": "code",
   "execution_count": 29,
   "id": "black-glory",
   "metadata": {},
   "outputs": [
    {
     "data": {
      "text/html": [
       "<div>\n",
       "<style scoped>\n",
       "    .dataframe tbody tr th:only-of-type {\n",
       "        vertical-align: middle;\n",
       "    }\n",
       "\n",
       "    .dataframe tbody tr th {\n",
       "        vertical-align: top;\n",
       "    }\n",
       "\n",
       "    .dataframe thead th {\n",
       "        text-align: right;\n",
       "    }\n",
       "</style>\n",
       "<table border=\"1\" class=\"dataframe\">\n",
       "  <thead>\n",
       "    <tr style=\"text-align: right;\">\n",
       "      <th></th>\n",
       "      <th>PRODUCTION</th>\n",
       "      <th>CONSUME</th>\n",
       "      <th>CONSUME_OTHERS</th>\n",
       "      <th>USER_VOLUME</th>\n",
       "      <th>USER_DENSITY</th>\n",
       "      <th>USER_ROLE</th>\n",
       "    </tr>\n",
       "  </thead>\n",
       "  <tbody>\n",
       "    <tr>\n",
       "      <th>8993</th>\n",
       "      <td>0.01112</td>\n",
       "      <td>0.00000</td>\n",
       "      <td>0.233515</td>\n",
       "      <td>1764</td>\n",
       "      <td>9.966667</td>\n",
       "      <td>Gamma</td>\n",
       "    </tr>\n",
       "    <tr>\n",
       "      <th>9015</th>\n",
       "      <td>0.01112</td>\n",
       "      <td>0.00000</td>\n",
       "      <td>0.378072</td>\n",
       "      <td>4624</td>\n",
       "      <td>28.850000</td>\n",
       "      <td>Gamma</td>\n",
       "    </tr>\n",
       "    <tr>\n",
       "      <th>9055</th>\n",
       "      <td>0.02224</td>\n",
       "      <td>0.00000</td>\n",
       "      <td>2.001557</td>\n",
       "      <td>97200</td>\n",
       "      <td>11407.200006</td>\n",
       "      <td>Gamma</td>\n",
       "    </tr>\n",
       "    <tr>\n",
       "      <th>9056</th>\n",
       "      <td>0.02224</td>\n",
       "      <td>0.00000</td>\n",
       "      <td>2.001557</td>\n",
       "      <td>97200</td>\n",
       "      <td>11407.200006</td>\n",
       "      <td>Gamma</td>\n",
       "    </tr>\n",
       "    <tr>\n",
       "      <th>9094</th>\n",
       "      <td>0.02224</td>\n",
       "      <td>0.00000</td>\n",
       "      <td>3.335928</td>\n",
       "      <td>450000</td>\n",
       "      <td>18561.783296</td>\n",
       "      <td>Beta</td>\n",
       "    </tr>\n",
       "    <tr>\n",
       "      <th>...</th>\n",
       "      <td>...</td>\n",
       "      <td>...</td>\n",
       "      <td>...</td>\n",
       "      <td>...</td>\n",
       "      <td>...</td>\n",
       "      <td>...</td>\n",
       "    </tr>\n",
       "    <tr>\n",
       "      <th>50058</th>\n",
       "      <td>0.01112</td>\n",
       "      <td>0.00000</td>\n",
       "      <td>1.667964</td>\n",
       "      <td>112500</td>\n",
       "      <td>9755.133298</td>\n",
       "      <td>Gamma</td>\n",
       "    </tr>\n",
       "    <tr>\n",
       "      <th>50207</th>\n",
       "      <td>0.01112</td>\n",
       "      <td>0.00000</td>\n",
       "      <td>1.667964</td>\n",
       "      <td>135000</td>\n",
       "      <td>11792.016643</td>\n",
       "      <td>Alpha</td>\n",
       "    </tr>\n",
       "    <tr>\n",
       "      <th>50355</th>\n",
       "      <td>0.01112</td>\n",
       "      <td>0.00000</td>\n",
       "      <td>1.656844</td>\n",
       "      <td>133206</td>\n",
       "      <td>15091.433395</td>\n",
       "      <td>Beta</td>\n",
       "    </tr>\n",
       "    <tr>\n",
       "      <th>50647</th>\n",
       "      <td>0.01112</td>\n",
       "      <td>0.01112</td>\n",
       "      <td>0.033359</td>\n",
       "      <td>27</td>\n",
       "      <td>175.533327</td>\n",
       "      <td>Gamma</td>\n",
       "    </tr>\n",
       "    <tr>\n",
       "      <th>50651</th>\n",
       "      <td>0.01112</td>\n",
       "      <td>0.00000</td>\n",
       "      <td>1.200934</td>\n",
       "      <td>46656</td>\n",
       "      <td>5859.916686</td>\n",
       "      <td>Gamma</td>\n",
       "    </tr>\n",
       "  </tbody>\n",
       "</table>\n",
       "<p>581 rows × 6 columns</p>\n",
       "</div>"
      ],
      "text/plain": [
       "       PRODUCTION  CONSUME  CONSUME_OTHERS  USER_VOLUME  USER_DENSITY  \\\n",
       "8993      0.01112  0.00000        0.233515         1764      9.966667   \n",
       "9015      0.01112  0.00000        0.378072         4624     28.850000   \n",
       "9055      0.02224  0.00000        2.001557        97200  11407.200006   \n",
       "9056      0.02224  0.00000        2.001557        97200  11407.200006   \n",
       "9094      0.02224  0.00000        3.335928       450000  18561.783296   \n",
       "...           ...      ...             ...          ...           ...   \n",
       "50058     0.01112  0.00000        1.667964       112500   9755.133298   \n",
       "50207     0.01112  0.00000        1.667964       135000  11792.016643   \n",
       "50355     0.01112  0.00000        1.656844       133206  15091.433395   \n",
       "50647     0.01112  0.01112        0.033359           27    175.533327   \n",
       "50651     0.01112  0.00000        1.200934        46656   5859.916686   \n",
       "\n",
       "      USER_ROLE  \n",
       "8993      Gamma  \n",
       "9015      Gamma  \n",
       "9055      Gamma  \n",
       "9056      Gamma  \n",
       "9094       Beta  \n",
       "...         ...  \n",
       "50058     Gamma  \n",
       "50207     Alpha  \n",
       "50355      Beta  \n",
       "50647     Gamma  \n",
       "50651     Gamma  \n",
       "\n",
       "[581 rows x 6 columns]"
      ]
     },
     "execution_count": 29,
     "metadata": {},
     "output_type": "execute_result"
    }
   ],
   "source": [
    "DEFAULT_COLUMNS = [\"PRODUCTION\",\"CONSUME\",\"CONSUME_OTHERS\",\"USER_VOLUME\",\"USER_DENSITY\",\"USER_ROLE\"]\n",
    "PRODUCERS_DF    = df[df[\"TYPE\"]==\"UPLOAD\"]\n",
    "PRODUCERS_ROLES = PRODUCERS_DF[\"USER_ROLE\"]\n",
    "PRODUCERS       = PRODUCERS_DF[DEFAULT_COLUMNS]\n",
    "PRODUCERS"
   ]
  },
  {
   "cell_type": "code",
   "execution_count": 229,
   "id": "insured-avatar",
   "metadata": {},
   "outputs": [
    {
     "data": {
      "text/plain": [
       "<seaborn.axisgrid.PairGrid at 0x7ff6fc3637c0>"
      ]
     },
     "execution_count": 229,
     "metadata": {},
     "output_type": "execute_result"
    },
    {
     "data": {
      "image/png": "[encoded data removed]",
      "text/plain": [
       "<Figure size 975.25x900 with 30 Axes>"
      ]
     },
     "metadata": {
      "needs_background": "light"
     },
     "output_type": "display_data"
    }
   ],
   "source": [
    "g = SB.PairGrid(PRODUCERS,hue=\"USER_ROLE\")\n",
    "g.map_diag(SB.histplot)\n",
    "g.map_offdiag(SB.scatterplot)\n",
    "g.add_legend()"
   ]
  },
  {
   "cell_type": "code",
   "execution_count": 230,
   "id": "unlimited-phase",
   "metadata": {},
   "outputs": [
    {
     "data": {
      "image/png": "[encoded data removed]",
      "text/plain": [
       "<Figure size 432x288 with 2 Axes>"
      ]
     },
     "metadata": {
      "needs_background": "light"
     },
     "output_type": "display_data"
    }
   ],
   "source": [
    "correlation = PRODUCERS.corr()\n",
    "ax= SB.heatmap(\n",
    "    correlation,\n",
    "    vmin=-1,vmax=1,center=0,\n",
    "    square =True\n",
    ")\n",
    "ax.set_xticklabels(\n",
    "    ax.get_xticklabels(),\n",
    "    rotation=45,\n",
    "    horizontalalignment='right'\n",
    ");"
   ]
  },
  {
   "cell_type": "markdown",
   "id": "velvet-patent",
   "metadata": {},
   "source": [
    "#### Split data into random train and test subsets"
   ]
  },
  {
   "cell_type": "code",
   "execution_count": 231,
   "id": "generic-light",
   "metadata": {},
   "outputs": [
    {
     "data": {
      "text/plain": [
       "<AxesSubplot:xlabel='USER_VOLUME', ylabel='USER_DENSITY'>"
      ]
     },
     "execution_count": 231,
     "metadata": {},
     "output_type": "execute_result"
    },
    {
     "data": {
      "image/png": "[encoded data removed]",
      "text/plain": [
       "<Figure size 432x288 with 1 Axes>"
      ]
     },
     "metadata": {
      "needs_background": "light"
     },
     "output_type": "display_data"
    }
   ],
   "source": [
    "CLEAN_PRODUCERS = PRODUCERS[[\"USER_VOLUME\",\"USER_DENSITY\"]]\n",
    "SB.scatterplot(data=CLEAN_PRODUCERS,x=\"USER_VOLUME\",y=\"USER_DENSITY\")"
   ]
  },
  {
   "cell_type": "code",
   "execution_count": 232,
   "id": "norman-valuation",
   "metadata": {},
   "outputs": [],
   "source": [
    "X_train,X_test,y_train,y_test = train_test_split(CLEAN_PRODUCERS,PRODUCERS_ROLES,test_size=0.3)"
   ]
  },
  {
   "cell_type": "code",
   "execution_count": 233,
   "id": "thorough-volume",
   "metadata": {},
   "outputs": [
    {
     "data": {
      "text/plain": [
       "0.9085714285714286"
      ]
     },
     "execution_count": 233,
     "metadata": {},
     "output_type": "execute_result"
    }
   ],
   "source": [
    "knn_clf  = KNeighborsClassifier()\n",
    "knn_clf.fit(X_train,y_train)\n",
    "knn_clf.score(X_test,y_test)"
   ]
  },
  {
   "cell_type": "code",
   "execution_count": 234,
   "id": "terminal-bicycle",
   "metadata": {},
   "outputs": [],
   "source": [
    "bagging = BaggingClassifier(KNeighborsClassifier(),max_samples=0.5, max_features=0.5)"
   ]
  },
  {
   "cell_type": "code",
   "execution_count": 235,
   "id": "rough-mauritius",
   "metadata": {},
   "outputs": [
    {
     "data": {
      "text/plain": [
       "BaggingClassifier(base_estimator=KNeighborsClassifier(), max_features=0.5,\n",
       "                  max_samples=0.5)"
      ]
     },
     "execution_count": 235,
     "metadata": {},
     "output_type": "execute_result"
    }
   ],
   "source": [
    "bagging.fit(X_train,y_train)"
   ]
  },
  {
   "cell_type": "code",
   "execution_count": 236,
   "id": "geographic-combine",
   "metadata": {},
   "outputs": [
    {
     "data": {
      "text/plain": [
       "0.9314285714285714"
      ]
     },
     "execution_count": 236,
     "metadata": {},
     "output_type": "execute_result"
    }
   ],
   "source": [
    "bagging.score(X_test,y_test)"
   ]
  },
  {
   "cell_type": "code",
   "execution_count": 36,
   "id": "norwegian-threshold",
   "metadata": {},
   "outputs": [],
   "source": [
    "ALPHA_DF = PRODUCERS_DF[PRODUCERS_DF[\"USER_ROLE\"]==\"Alpha\"]\n",
    "BETA_DF  = PRODUCERS_DF[PRODUCERS_DF[\"USER_ROLE\"]==\"Beta\"]\n",
    "GAMMA_DF = PRODUCERS_DF[PRODUCERS_DF[\"USER_ROLE\"]==\"Gamma\"]"
   ]
  },
  {
   "cell_type": "code",
   "execution_count": 45,
   "id": "federal-biography",
   "metadata": {},
   "outputs": [],
   "source": [
    "role_counter = [\n",
    "    N.unique( GAMMA_DF.drop_duplicates([\"USER_ID\"])[\"USER_ID\"]).shape[0],\n",
    "    N.unique( BETA_DF.drop_duplicates([\"USER_ID\"])[\"USER_ID\"]).shape[0],\n",
    "    N.unique( ALPHA_DF.drop_duplicates([\"USER_ID\"])[\"USER_ID\"]).shape[0]\n",
    "]\n",
    "role_counter_df = P.DataFrame(\n",
    "{\n",
    "    \"count\":role_counter,\n",
    "    \"role\":[\"GAMMA\",\"BETA\",\"ALPHA\"]\n",
    "}\n",
    ")"
   ]
  },
  {
   "cell_type": "markdown",
   "id": "detected-bolivia",
   "metadata": {},
   "source": [
    "#### Inbalanced classes"
   ]
  },
  {
   "cell_type": "code",
   "execution_count": 49,
   "id": "compact-payment",
   "metadata": {},
   "outputs": [
    {
     "data": {
      "text/plain": [
       "<AxesSubplot:xlabel='role', ylabel='count'>"
      ]
     },
     "execution_count": 49,
     "metadata": {},
     "output_type": "execute_result"
    },
    {
     "data": {
      "image/png": "[encoded data removed]",
      "text/plain": [
       "<Figure size 432x288 with 1 Axes>"
      ]
     },
     "metadata": {
      "needs_background": "light"
     },
     "output_type": "display_data"
    }
   ],
   "source": [
    "SB.barplot(data=role_counter_df,x=\"role\",y=\"count\")"
   ]
  },
  {
   "cell_type": "code",
   "execution_count": 242,
   "id": "changing-christopher",
   "metadata": {},
   "outputs": [
    {
     "data": {
      "text/plain": [
       "<AxesSubplot:xlabel='USER_DENSITY', ylabel='Density'>"
      ]
     },
     "execution_count": 242,
     "metadata": {},
     "output_type": "execute_result"
    },
    {
     "data": {
      "image/png": "[encoded data removed]",
      "text/plain": [
       "<Figure size 432x288 with 1 Axes>"
      ]
     },
     "metadata": {
      "needs_background": "light"
     },
     "output_type": "display_data"
    }
   ],
   "source": [
    "SB.kdeplot(data=PRODUCERS,x=\"USER_DENSITY\")\n",
    "# SB.kdeplot(data=PRODUCERS,x=\"USER_VOLUME\")"
   ]
  },
  {
   "cell_type": "code",
   "execution_count": 143,
   "id": "confirmed-finding",
   "metadata": {},
   "outputs": [
    {
     "data": {
      "text/plain": [
       "(array([      7870,      65800,      95982,     116480,     138723,\n",
       "            146992,     157925,     165018,     181431,     253028,\n",
       "            599410,     620226,     767976,     787132,     816371,\n",
       "            986542,    1014516,    1118221,    1130055,    1160067,\n",
       "           1258618,    1450621,    1565565,    1574083,    1878832,\n",
       "           1906837,    1921298,    1996363,    2015506,    2397494,\n",
       "           2450320,    2720271,    2898021,    3052048,    3416684,\n",
       "           3442433,    3849553,    4042283,    4140744,    4616106,\n",
       "           4721025,    4803655,    5087794,    5405651,    5514235,\n",
       "           6590609,    6620212,    6849281,    6860189,    8789137,\n",
       "           9187952,    9473172,    9675477,    9777455,   10581097,\n",
       "          11145219,   11206038,   11285087,   11360919,   11522830,\n",
       "          11762801,   12456888,   12485872,   12602307,   12900868,\n",
       "          12995776,   14155630,   14598218,   15503147,   16516077,\n",
       "          16653526,   16926557,   17104316,   17789355,   18719531,\n",
       "          18918467,   19769622,   21418335,   21652557,   23678829,\n",
       "          23793248,   25096719,   26669533,   28902942,   29421778,\n",
       "          29809055,   29849632,   30976373,   31320010,   32337339,\n",
       "          33123285,   34870044,   36045182,   36170336,   37312375,\n",
       "          37510126,   39329697,   39444431,   40238620,   41981804,\n",
       "          43512986,   44902119,   48804988,   50804348,   54315777,\n",
       "         104887415,  144605776,  144646783,  144751146,  145821237,\n",
       "         173560420,  174143945,  178377460,  178522459,  179801071,\n",
       "         181306552,  182144062,  184692323,  186904952,  187619120,\n",
       "         187797298,  189379530,  191780822,  192271144,  193288192,\n",
       "         193991323,  195270438,  195976455,  197656340,  198016434,\n",
       "         199230400,  200743279,  202453899,  208560325,  209363741,\n",
       "         212411978,  217867189,  220885929,  230447982,  232463295,\n",
       "         241997151,  247944034,  251478729,  255974367,  259220806,\n",
       "         264042583,  267150258,  270099873,  276192188,  280526827,\n",
       "         282843766,  288951729,  290023231,  297139370,  301763305,\n",
       "         314790477,  326118493,  326765160,  337872647,  350781937,\n",
       "         361386289,  386277730,  435909874,  462812351,  474640424,\n",
       "         475652177,  491917617,  511234658,  511681663,  519360384,\n",
       "         519941099,  527660389,  528002193,  528817151,  550072490,\n",
       "         550563120,  600168571,  611906850,  615435612,  636462485,\n",
       "         648832327,  664015240,  742756569,  775740654,  828854686,\n",
       "         901987650,  928716745,  986959732, 1056975626, 1110719435,\n",
       "        1187423599, 1189085124, 1269033626, 1444265401, 1450620409,\n",
       "        1463412041, 1482175840, 1484713846, 1487923224, 1521781441,\n",
       "        1527511289, 1544389063, 1545137312, 1576246743, 1578859187,\n",
       "        1601920308, 1619356484, 1624593034, 1632038167, 1652014018,\n",
       "        1690074597, 1703863925, 1742460701, 1746185888, 1758777116,\n",
       "        1785849650, 1818892636, 1925734333, 2010578211, 2084606212,\n",
       "        2175920487, 2205301520, 2243532154, 2249273665, 2252052890,\n",
       "        2255160176, 2266314608, 2299493736, 2300108650, 2306821321,\n",
       "        2308620132, 2346415096, 2349894421, 2357503665]),\n",
       " array([1, 1, 1, 1, 1, 1, 1, 2, 1, 1, 1, 1, 1, 4, 2, 1, 1, 1, 1, 1, 1, 3,\n",
       "        2, 8, 1, 2, 1, 3, 1, 1, 1, 1, 1, 2, 2, 1, 1, 1, 3, 1, 1, 1, 1, 1,\n",
       "        1, 2, 1, 1, 1, 1, 3, 1, 1, 1, 1, 1, 3, 2, 2, 1, 2, 3, 1, 1, 1, 2,\n",
       "        1, 1, 1, 1, 1, 3, 1, 1, 1, 1, 4, 2, 1, 1, 1, 1, 1, 1, 2, 1, 1, 1,\n",
       "        1, 6, 1, 2, 1, 1, 1, 1, 1, 1, 1, 2, 1, 2, 1, 1, 1, 3, 1, 2, 1, 1,\n",
       "        2, 1, 1, 3, 1, 3, 1, 2, 1, 2, 1, 1, 1, 1, 4, 1, 2, 1, 1, 1, 1, 3,\n",
       "        1, 2, 1, 1, 1, 3, 1, 1, 1, 4, 2, 1, 8, 1, 1, 1, 3, 3, 1, 1, 2, 2,\n",
       "        2, 2, 1, 1, 2, 3, 1, 1, 1, 1, 4, 1, 1, 1, 1, 2, 1, 1, 2, 1, 1, 1,\n",
       "        3, 1, 1, 1, 1, 1, 3, 1, 1, 1, 1, 1, 1, 1, 1, 1, 1, 1, 2, 1, 1, 2,\n",
       "        1, 1, 2, 1, 3, 2, 1, 1, 1, 2, 2, 2, 1, 3, 1, 2, 1, 2, 1, 1, 1, 3,\n",
       "        2, 1, 2, 1, 3, 1, 1, 1, 1, 1, 1, 1, 3, 1]))"
      ]
     },
     "execution_count": 143,
     "metadata": {},
     "output_type": "execute_result"
    }
   ],
   "source": [
    "N.unique(PRODUCERS[\"USER_ID\"],return_counts=True)"
   ]
  },
  {
   "cell_type": "code",
   "execution_count": 146,
   "id": "painted-continent",
   "metadata": {},
   "outputs": [
    {
     "data": {
      "text/plain": [
       "(array([      7870,      65800,      95982,     116480,     138723,\n",
       "            146992,     157925,     165018,     181431,     253028,\n",
       "            599410,     620226,     767976,     787132,     816371,\n",
       "            986542,    1014516,    1118221,    1130055,    1160067,\n",
       "           1258618,    1450621,    1565565,    1574083,    1878832,\n",
       "           1906837,    1921298,    1996363,    2015506,    2397494,\n",
       "           2450320,    2720271,    2898021,    3052048,    3416684,\n",
       "           3442433,    3849553,    4042283,    4140744,    4616106,\n",
       "           4721025,    4803655,    5087794,    5405651,    5514235,\n",
       "           6590609,    6620212,    6849281,    6860189,    8789137,\n",
       "           9187952,    9473172,    9675477,    9777455,   10581097,\n",
       "          11145219,   11206038,   11285087,   11360919,   11522830,\n",
       "          11762801,   12456888,   12485872,   12602307,   12900868,\n",
       "          12995776,   14155630,   14598218,   15503147,   16516077,\n",
       "          16653526,   16926557,   17104316,   17789355,   18719531,\n",
       "          18918467,   19769622,   21418335,   21652557,   23678829,\n",
       "          23793248,   25096719,   26669533,   28902942,   29421778,\n",
       "          29809055,   29849632,   30976373,   31320010,   32337339,\n",
       "          33123285,   34870044,   36045182,   36170336,   37312375,\n",
       "          37510126,   39329697,   39444431,   40238620,   41981804,\n",
       "          43512986,   44902119,   48804988,   50804348,   54315777,\n",
       "         104887415,  144605776,  144646783,  144751146,  145821237,\n",
       "         173560420,  174143945,  178377460,  178522459,  179801071,\n",
       "         181306552,  182144062,  184692323,  186904952,  187619120,\n",
       "         187797298,  189379530,  191780822,  192271144,  193288192,\n",
       "         193991323,  195270438,  195976455,  197656340,  198016434,\n",
       "         199230400,  200743279,  202453899,  208560325,  209363741,\n",
       "         212411978,  217867189,  220885929,  230447982,  232463295,\n",
       "         241997151,  247944034,  251478729,  255974367,  259220806,\n",
       "         264042583,  267150258,  270099873,  276192188,  280526827,\n",
       "         282843766,  288951729,  290023231,  297139370,  301763305,\n",
       "         314790477,  326118493,  326765160,  337872647,  350781937,\n",
       "         361386289,  386277730,  435909874,  462812351,  474640424,\n",
       "         475652177,  491917617,  511234658,  511681663,  519360384,\n",
       "         519941099,  527660389,  528002193,  528817151,  550072490,\n",
       "         550563120,  600168571,  611906850,  615435612,  636462485,\n",
       "         648832327,  664015240,  742756569,  775740654,  828854686,\n",
       "         901987650,  928716745,  986959732, 1056975626, 1110719435,\n",
       "        1187423599, 1189085124, 1269033626, 1444265401, 1450620409,\n",
       "        1463412041, 1482175840, 1484713846, 1487923224, 1521781441,\n",
       "        1527511289, 1544389063, 1545137312, 1576246743, 1578859187,\n",
       "        1601920308, 1619356484, 1624593034, 1632038167, 1652014018,\n",
       "        1690074597, 1703863925, 1742460701, 1746185888, 1758777116,\n",
       "        1785849650, 1818892636, 1925734333, 2010578211, 2084606212,\n",
       "        2175920487, 2205301520, 2243532154, 2249273665, 2252052890,\n",
       "        2255160176, 2266314608, 2299493736, 2300108650, 2306821321,\n",
       "        2308620132, 2346415096, 2349894421, 2357503665]),\n",
       " array([1, 1, 1, 1, 1, 1, 1, 1, 1, 1, 1, 1, 1, 1, 1, 1, 1, 1, 1, 1, 1, 1,\n",
       "        1, 1, 1, 1, 1, 1, 1, 1, 1, 1, 1, 1, 1, 1, 1, 1, 1, 1, 1, 1, 1, 1,\n",
       "        1, 1, 1, 1, 1, 1, 1, 1, 1, 1, 1, 1, 1, 1, 1, 1, 1, 1, 1, 1, 1, 1,\n",
       "        1, 1, 1, 1, 1, 1, 1, 1, 1, 1, 1, 1, 1, 1, 1, 1, 1, 1, 1, 1, 1, 1,\n",
       "        1, 1, 1, 1, 1, 1, 1, 1, 1, 1, 1, 1, 1, 1, 1, 1, 1, 1, 1, 1, 1, 1,\n",
       "        1, 1, 1, 1, 1, 1, 1, 1, 1, 1, 1, 1, 1, 1, 1, 1, 1, 1, 1, 1, 1, 1,\n",
       "        1, 1, 1, 1, 1, 1, 1, 1, 1, 1, 1, 1, 1, 1, 1, 1, 1, 1, 1, 1, 1, 1,\n",
       "        1, 1, 1, 1, 1, 1, 1, 1, 1, 1, 1, 1, 1, 1, 1, 1, 1, 1, 1, 1, 1, 1,\n",
       "        1, 1, 1, 1, 1, 1, 1, 1, 1, 1, 1, 1, 1, 1, 1, 1, 1, 1, 1, 1, 1, 1,\n",
       "        1, 1, 1, 1, 1, 1, 1, 1, 1, 1, 1, 1, 1, 1, 1, 1, 1, 1, 1, 1, 1, 1,\n",
       "        1, 1, 1, 1, 1, 1, 1, 1, 1, 1, 1, 1, 1, 1]))"
      ]
     },
     "execution_count": 146,
     "metadata": {},
     "output_type": "execute_result"
    }
   ],
   "source": [
    "NEW_PRODUCERS = PRODUCERS.drop_duplicates([\"USER_ID\"])\n",
    "N.unique(NEW_PRODUCERS[\"USER_ID\"],return_counts=True)"
   ]
  },
  {
   "cell_type": "code",
   "execution_count": 156,
   "id": "assisted-franchise",
   "metadata": {},
   "outputs": [
    {
     "data": {
      "text/plain": [
       "100.0"
      ]
     },
     "execution_count": 156,
     "metadata": {},
     "output_type": "execute_result"
    }
   ],
   "source": [
    "# NEW_PRODUCERS[\"CONSUME_OTHERS\"].sum()\n",
    "(NEW_PRODUCERS[\"PRODUCTION\"]+NEW_PRODUCERS[\"CONSUME_OTHERS\"]).sum()"
   ]
  },
  {
   "cell_type": "markdown",
   "id": "boolean-basin",
   "metadata": {},
   "source": [
    "# Consumers"
   ]
  },
  {
   "cell_type": "code",
   "execution_count": 6,
   "id": "tired-ticket",
   "metadata": {},
   "outputs": [],
   "source": [
    "CONSUMERS = df[df[\"TYPE\"]==\"DOWNLOAD\"]"
   ]
  },
  {
   "cell_type": "code",
   "execution_count": 10,
   "id": "acute-disease",
   "metadata": {},
   "outputs": [],
   "source": [
    "CONSUMERS_DF = CONSUMERS.drop_duplicates([\"USER_ID\"])"
   ]
  },
  {
   "cell_type": "code",
   "execution_count": 31,
   "id": "professional-restoration",
   "metadata": {},
   "outputs": [],
   "source": [
    "classes_counter = [\n",
    "    N.unique(PRODUCERS_DF[\"USER_ID\"]).shape[0],\n",
    "    N.unique(CONSUMERS_DF[\"USER_ID\"]).shape[0]\n",
    "]\n",
    "classes_counter_df = P.DataFrame(\n",
    " {\n",
    "     \"count\":classes_counter,\n",
    "     \"role\":[\"PRODUCER\",\"CONSUMER\"]\n",
    " }\n",
    ") "
   ]
  },
  {
   "cell_type": "code",
   "execution_count": null,
   "id": "higher-quantum",
   "metadata": {},
   "outputs": [],
   "source": []
  },
  {
   "cell_type": "code",
   "execution_count": 34,
   "id": "adjacent-shirt",
   "metadata": {},
   "outputs": [
    {
     "data": {
      "text/plain": [
       "<AxesSubplot:xlabel='role', ylabel='count'>"
      ]
     },
     "execution_count": 34,
     "metadata": {},
     "output_type": "execute_result"
    },
    {
     "data": {
      "image/png": "[encoded data removed]",
      "text/plain": [
       "<Figure size 432x288 with 1 Axes>"
      ]
     },
     "metadata": {
      "needs_background": "light"
     },
     "output_type": "display_data"
    }
   ],
   "source": [
    "SB.barplot(data=classes_counter_df,x=\"role\",y=\"count\")"
   ]
  },
  {
   "cell_type": "code",
   "execution_count": null,
   "id": "creative-meter",
   "metadata": {},
   "outputs": [],
   "source": []
  }
 ],
 "metadata": {
  "kernelspec": {
   "display_name": "Python 3",
   "language": "python",
   "name": "python3"
  },
  "language_info": {
   "codemirror_mode": {
    "name": "ipython",
    "version": 3
   },
   "file_extension": ".py",
   "mimetype": "text/x-python",
   "name": "python",
   "nbconvert_exporter": "python",
   "pygments_lexer": "ipython3",
   "version": "3.8.10"
  }
 },
 "nbformat": 4,
 "nbformat_minor": 5
}
