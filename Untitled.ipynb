{
 "cells": [
  {
   "cell_type": "code",
   "execution_count": 251,
   "id": "physical-disclosure",
   "metadata": {},
   "outputs": [],
   "source": [
    "import os\n",
    "import numpy as N\n",
    "import pandas as P\n",
    "import matplotlib.pyplot as M\n",
    "import seaborn as SB\n",
    "from sklearn.metrics import average_precision_score,precision_recall_curve,precision_score,recall_score,f1_score\n",
    "from sklearn.preprocessing import StandardScaler\n",
    "from sklearn.model_selection import train_test_split\n",
    "from sklearn.ensemble import BaggingClassifier,AdaBoostClassifier,GradientBoostingClassifier,RandomForestClassifier\n",
    "from sklearn.neighbors import KNeighborsClassifier\n",
    "from sklearn.linear_model import LogisticRegression,Perceptron\n",
    "from imblearn.over_sampling import RandomOverSampler,SMOTE,KMeansSMOTE\n",
    "from imblearn.under_sampling import RandomUnderSampler\n",
    "from sklearn.pipeline import Pipeline,make_pipeline\n",
    "from sklearn.compose import ColumnTransformer\n",
    "from sklearn.svm import SVC\n",
    "from sklearn.tree import DecisionTreeClassifier\n",
    "from sklearn.feature_selection import RFE\n",
    "from sklearn.model_selection import cross_val_score\n",
    "from sklearn.model_selection import RepeatedStratifiedKFold\n",
    "import pickle\n",
    "from collections import Counter"
   ]
  },
  {
   "cell_type": "markdown",
   "id": "subject-sustainability",
   "metadata": {},
   "source": [
    "# Load dataset"
   ]
  },
  {
   "cell_type": "code",
   "execution_count": 39,
   "id": "supported-payday",
   "metadata": {},
   "outputs": [],
   "source": [
    "df = P.read_csv(\"./data/data1.csv\")\n",
    "df[\"USER_ROLE\"] = df[\"USER_ROLE\"].astype(\"category\")"
   ]
  },
  {
   "cell_type": "markdown",
   "id": "protective-steal",
   "metadata": {},
   "source": [
    "### Basic info about dataset"
   ]
  },
  {
   "cell_type": "code",
   "execution_count": 36,
   "id": "revised-freeware",
   "metadata": {},
   "outputs": [
    {
     "name": "stdout",
     "output_type": "stream",
     "text": [
      "<class 'pandas.core.frame.DataFrame'>\n",
      "RangeIndex: 50757 entries, 0 to 50756\n",
      "Data columns (total 11 columns):\n",
      " #   Column          Non-Null Count  Dtype   \n",
      "---  ------          --------------  -----   \n",
      " 0   OPERATION_ID    50757 non-null  int64   \n",
      " 1   TYPE            50757 non-null  object  \n",
      " 2   USER_ID         50757 non-null  int64   \n",
      " 3   PRODUCTION      50757 non-null  float64 \n",
      " 4   CONSUME         50757 non-null  float64 \n",
      " 5   CONSUME_OTHERS  50757 non-null  float64 \n",
      " 6   USER_VOLUME     50757 non-null  int64   \n",
      " 7   USER_DENSITY    50757 non-null  float64 \n",
      " 8   USER_ROLE       1779 non-null   category\n",
      " 9   FILE_ID         50757 non-null  int64   \n",
      " 10  FILE_SIZE       50757 non-null  int64   \n",
      "dtypes: category(1), float64(4), int64(5), object(1)\n",
      "memory usage: 3.9+ MB\n"
     ]
    }
   ],
   "source": [
    "df.info()"
   ]
  },
  {
   "cell_type": "markdown",
   "id": "metallic-documentation",
   "metadata": {},
   "source": [
    "Dataset stats description on numerical features"
   ]
  },
  {
   "cell_type": "code",
   "execution_count": 40,
   "id": "affiliated-mandate",
   "metadata": {},
   "outputs": [
    {
     "data": {
      "text/html": [
       "<div>\n",
       "<style scoped>\n",
       "    .dataframe tbody tr th:only-of-type {\n",
       "        vertical-align: middle;\n",
       "    }\n",
       "\n",
       "    .dataframe tbody tr th {\n",
       "        vertical-align: top;\n",
       "    }\n",
       "\n",
       "    .dataframe thead th {\n",
       "        text-align: right;\n",
       "    }\n",
       "</style>\n",
       "<table border=\"1\" class=\"dataframe\">\n",
       "  <thead>\n",
       "    <tr style=\"text-align: right;\">\n",
       "      <th></th>\n",
       "      <th>PRODUCTION</th>\n",
       "      <th>CONSUME</th>\n",
       "      <th>CONSUME_OTHERS</th>\n",
       "      <th>USER_VOLUME</th>\n",
       "      <th>USER_DENSITY</th>\n",
       "      <th>FILE_SIZE</th>\n",
       "    </tr>\n",
       "  </thead>\n",
       "  <tbody>\n",
       "    <tr>\n",
       "      <th>count</th>\n",
       "      <td>50757.000000</td>\n",
       "      <td>50757.000000</td>\n",
       "      <td>50757.000000</td>\n",
       "      <td>5.075700e+04</td>\n",
       "      <td>50757.000000</td>\n",
       "      <td>50757.000000</td>\n",
       "    </tr>\n",
       "    <tr>\n",
       "      <th>mean</th>\n",
       "      <td>0.000391</td>\n",
       "      <td>0.013809</td>\n",
       "      <td>0.025569</td>\n",
       "      <td>6.822392e+03</td>\n",
       "      <td>447.983285</td>\n",
       "      <td>5.099080</td>\n",
       "    </tr>\n",
       "    <tr>\n",
       "      <th>std</th>\n",
       "      <td>0.002695</td>\n",
       "      <td>0.030600</td>\n",
       "      <td>0.270463</td>\n",
       "      <td>1.530099e+05</td>\n",
       "      <td>7667.915318</td>\n",
       "      <td>1.977525</td>\n",
       "    </tr>\n",
       "    <tr>\n",
       "      <th>min</th>\n",
       "      <td>0.000000</td>\n",
       "      <td>0.000000</td>\n",
       "      <td>0.000000</td>\n",
       "      <td>0.000000e+00</td>\n",
       "      <td>0.000000</td>\n",
       "      <td>1.000000</td>\n",
       "    </tr>\n",
       "    <tr>\n",
       "      <th>25%</th>\n",
       "      <td>0.000000</td>\n",
       "      <td>0.004206</td>\n",
       "      <td>0.000000</td>\n",
       "      <td>0.000000e+00</td>\n",
       "      <td>0.000000</td>\n",
       "      <td>4.000000</td>\n",
       "    </tr>\n",
       "    <tr>\n",
       "      <th>50%</th>\n",
       "      <td>0.000000</td>\n",
       "      <td>0.011120</td>\n",
       "      <td>0.000000</td>\n",
       "      <td>0.000000e+00</td>\n",
       "      <td>0.000000</td>\n",
       "      <td>5.000000</td>\n",
       "    </tr>\n",
       "    <tr>\n",
       "      <th>75%</th>\n",
       "      <td>0.000000</td>\n",
       "      <td>0.011120</td>\n",
       "      <td>0.000000</td>\n",
       "      <td>0.000000e+00</td>\n",
       "      <td>0.000000</td>\n",
       "      <td>6.000000</td>\n",
       "    </tr>\n",
       "    <tr>\n",
       "      <th>max</th>\n",
       "      <td>0.066719</td>\n",
       "      <td>0.478150</td>\n",
       "      <td>10.007784</td>\n",
       "      <td>7.740000e+06</td>\n",
       "      <td>487858.567604</td>\n",
       "      <td>10.000000</td>\n",
       "    </tr>\n",
       "  </tbody>\n",
       "</table>\n",
       "</div>"
      ],
      "text/plain": [
       "         PRODUCTION       CONSUME  CONSUME_OTHERS   USER_VOLUME  \\\n",
       "count  50757.000000  50757.000000    50757.000000  5.075700e+04   \n",
       "mean       0.000391      0.013809        0.025569  6.822392e+03   \n",
       "std        0.002695      0.030600        0.270463  1.530099e+05   \n",
       "min        0.000000      0.000000        0.000000  0.000000e+00   \n",
       "25%        0.000000      0.004206        0.000000  0.000000e+00   \n",
       "50%        0.000000      0.011120        0.000000  0.000000e+00   \n",
       "75%        0.000000      0.011120        0.000000  0.000000e+00   \n",
       "max        0.066719      0.478150       10.007784  7.740000e+06   \n",
       "\n",
       "        USER_DENSITY     FILE_SIZE  \n",
       "count   50757.000000  50757.000000  \n",
       "mean      447.983285      5.099080  \n",
       "std      7667.915318      1.977525  \n",
       "min         0.000000      1.000000  \n",
       "25%         0.000000      4.000000  \n",
       "50%         0.000000      5.000000  \n",
       "75%         0.000000      6.000000  \n",
       "max    487858.567604     10.000000  "
      ]
     },
     "execution_count": 40,
     "metadata": {},
     "output_type": "execute_result"
    }
   ],
   "source": [
    "IDS_COLUMNS = [\"OPERATION_ID\",\"USER_ID\",\"FILE_ID\"]\n",
    "df.drop(columns=IDS_COLUMNS).describe()"
   ]
  },
  {
   "cell_type": "markdown",
   "id": "rocky-fifty",
   "metadata": {},
   "source": [
    " Display 10 rows"
   ]
  },
  {
   "cell_type": "code",
   "execution_count": 41,
   "id": "raising-instrument",
   "metadata": {},
   "outputs": [
    {
     "data": {
      "text/html": [
       "<div>\n",
       "<style scoped>\n",
       "    .dataframe tbody tr th:only-of-type {\n",
       "        vertical-align: middle;\n",
       "    }\n",
       "\n",
       "    .dataframe tbody tr th {\n",
       "        vertical-align: top;\n",
       "    }\n",
       "\n",
       "    .dataframe thead th {\n",
       "        text-align: right;\n",
       "    }\n",
       "</style>\n",
       "<table border=\"1\" class=\"dataframe\">\n",
       "  <thead>\n",
       "    <tr style=\"text-align: right;\">\n",
       "      <th></th>\n",
       "      <th>OPERATION_ID</th>\n",
       "      <th>TYPE</th>\n",
       "      <th>USER_ID</th>\n",
       "      <th>PRODUCTION</th>\n",
       "      <th>CONSUME</th>\n",
       "      <th>CONSUME_OTHERS</th>\n",
       "      <th>USER_VOLUME</th>\n",
       "      <th>USER_DENSITY</th>\n",
       "      <th>USER_ROLE</th>\n",
       "      <th>FILE_ID</th>\n",
       "      <th>FILE_SIZE</th>\n",
       "    </tr>\n",
       "  </thead>\n",
       "  <tbody>\n",
       "    <tr>\n",
       "      <th>0</th>\n",
       "      <td>1</td>\n",
       "      <td>DOWNLOAD</td>\n",
       "      <td>43114731</td>\n",
       "      <td>0.01112</td>\n",
       "      <td>0.000000</td>\n",
       "      <td>0.233515</td>\n",
       "      <td>1764</td>\n",
       "      <td>9.966667</td>\n",
       "      <td>Gamma</td>\n",
       "      <td>100</td>\n",
       "      <td>4</td>\n",
       "    </tr>\n",
       "    <tr>\n",
       "      <th>1</th>\n",
       "      <td>2</td>\n",
       "      <td>DOWNLOAD</td>\n",
       "      <td>1405534545</td>\n",
       "      <td>0.00000</td>\n",
       "      <td>0.022240</td>\n",
       "      <td>0.000000</td>\n",
       "      <td>0</td>\n",
       "      <td>0.000000</td>\n",
       "      <td>NaN</td>\n",
       "      <td>100</td>\n",
       "      <td>4</td>\n",
       "    </tr>\n",
       "    <tr>\n",
       "      <th>2</th>\n",
       "      <td>2</td>\n",
       "      <td>DOWNLOAD</td>\n",
       "      <td>1405534545</td>\n",
       "      <td>0.00000</td>\n",
       "      <td>0.022240</td>\n",
       "      <td>0.000000</td>\n",
       "      <td>0</td>\n",
       "      <td>0.000000</td>\n",
       "      <td>NaN</td>\n",
       "      <td>100</td>\n",
       "      <td>4</td>\n",
       "    </tr>\n",
       "    <tr>\n",
       "      <th>3</th>\n",
       "      <td>3</td>\n",
       "      <td>DOWNLOAD</td>\n",
       "      <td>640881322</td>\n",
       "      <td>0.00000</td>\n",
       "      <td>0.011120</td>\n",
       "      <td>0.000000</td>\n",
       "      <td>0</td>\n",
       "      <td>0.000000</td>\n",
       "      <td>NaN</td>\n",
       "      <td>100</td>\n",
       "      <td>4</td>\n",
       "    </tr>\n",
       "    <tr>\n",
       "      <th>4</th>\n",
       "      <td>4</td>\n",
       "      <td>DOWNLOAD</td>\n",
       "      <td>1416963334</td>\n",
       "      <td>0.00000</td>\n",
       "      <td>0.011120</td>\n",
       "      <td>0.000000</td>\n",
       "      <td>0</td>\n",
       "      <td>0.000000</td>\n",
       "      <td>NaN</td>\n",
       "      <td>100</td>\n",
       "      <td>4</td>\n",
       "    </tr>\n",
       "    <tr>\n",
       "      <th>5</th>\n",
       "      <td>5</td>\n",
       "      <td>DOWNLOAD</td>\n",
       "      <td>2189419908</td>\n",
       "      <td>0.00000</td>\n",
       "      <td>0.033359</td>\n",
       "      <td>0.000000</td>\n",
       "      <td>0</td>\n",
       "      <td>0.000000</td>\n",
       "      <td>NaN</td>\n",
       "      <td>100</td>\n",
       "      <td>4</td>\n",
       "    </tr>\n",
       "    <tr>\n",
       "      <th>6</th>\n",
       "      <td>5</td>\n",
       "      <td>DOWNLOAD</td>\n",
       "      <td>2189419908</td>\n",
       "      <td>0.00000</td>\n",
       "      <td>0.033359</td>\n",
       "      <td>0.000000</td>\n",
       "      <td>0</td>\n",
       "      <td>0.000000</td>\n",
       "      <td>NaN</td>\n",
       "      <td>100</td>\n",
       "      <td>4</td>\n",
       "    </tr>\n",
       "    <tr>\n",
       "      <th>7</th>\n",
       "      <td>5</td>\n",
       "      <td>DOWNLOAD</td>\n",
       "      <td>2189419908</td>\n",
       "      <td>0.00000</td>\n",
       "      <td>0.033359</td>\n",
       "      <td>0.000000</td>\n",
       "      <td>0</td>\n",
       "      <td>0.000000</td>\n",
       "      <td>NaN</td>\n",
       "      <td>100</td>\n",
       "      <td>4</td>\n",
       "    </tr>\n",
       "    <tr>\n",
       "      <th>8</th>\n",
       "      <td>6</td>\n",
       "      <td>DOWNLOAD</td>\n",
       "      <td>1664876423</td>\n",
       "      <td>0.00000</td>\n",
       "      <td>0.011120</td>\n",
       "      <td>0.000000</td>\n",
       "      <td>0</td>\n",
       "      <td>0.000000</td>\n",
       "      <td>NaN</td>\n",
       "      <td>100</td>\n",
       "      <td>4</td>\n",
       "    </tr>\n",
       "    <tr>\n",
       "      <th>9</th>\n",
       "      <td>7</td>\n",
       "      <td>DOWNLOAD</td>\n",
       "      <td>242461431</td>\n",
       "      <td>0.00000</td>\n",
       "      <td>0.011120</td>\n",
       "      <td>0.000000</td>\n",
       "      <td>0</td>\n",
       "      <td>0.000000</td>\n",
       "      <td>NaN</td>\n",
       "      <td>100</td>\n",
       "      <td>4</td>\n",
       "    </tr>\n",
       "  </tbody>\n",
       "</table>\n",
       "</div>"
      ],
      "text/plain": [
       "   OPERATION_ID      TYPE     USER_ID  PRODUCTION   CONSUME  CONSUME_OTHERS  \\\n",
       "0             1  DOWNLOAD    43114731     0.01112  0.000000        0.233515   \n",
       "1             2  DOWNLOAD  1405534545     0.00000  0.022240        0.000000   \n",
       "2             2  DOWNLOAD  1405534545     0.00000  0.022240        0.000000   \n",
       "3             3  DOWNLOAD   640881322     0.00000  0.011120        0.000000   \n",
       "4             4  DOWNLOAD  1416963334     0.00000  0.011120        0.000000   \n",
       "5             5  DOWNLOAD  2189419908     0.00000  0.033359        0.000000   \n",
       "6             5  DOWNLOAD  2189419908     0.00000  0.033359        0.000000   \n",
       "7             5  DOWNLOAD  2189419908     0.00000  0.033359        0.000000   \n",
       "8             6  DOWNLOAD  1664876423     0.00000  0.011120        0.000000   \n",
       "9             7  DOWNLOAD   242461431     0.00000  0.011120        0.000000   \n",
       "\n",
       "   USER_VOLUME  USER_DENSITY USER_ROLE  FILE_ID  FILE_SIZE  \n",
       "0         1764      9.966667     Gamma      100          4  \n",
       "1            0      0.000000       NaN      100          4  \n",
       "2            0      0.000000       NaN      100          4  \n",
       "3            0      0.000000       NaN      100          4  \n",
       "4            0      0.000000       NaN      100          4  \n",
       "5            0      0.000000       NaN      100          4  \n",
       "6            0      0.000000       NaN      100          4  \n",
       "7            0      0.000000       NaN      100          4  \n",
       "8            0      0.000000       NaN      100          4  \n",
       "9            0      0.000000       NaN      100          4  "
      ]
     },
     "execution_count": 41,
     "metadata": {},
     "output_type": "execute_result"
    }
   ],
   "source": [
    "df.head(10)"
   ]
  },
  {
   "cell_type": "markdown",
   "id": "vulnerable-street",
   "metadata": {},
   "source": [
    "# Producers"
   ]
  },
  {
   "cell_type": "code",
   "execution_count": 42,
   "id": "black-glory",
   "metadata": {},
   "outputs": [
    {
     "data": {
      "text/html": [
       "<div>\n",
       "<style scoped>\n",
       "    .dataframe tbody tr th:only-of-type {\n",
       "        vertical-align: middle;\n",
       "    }\n",
       "\n",
       "    .dataframe tbody tr th {\n",
       "        vertical-align: top;\n",
       "    }\n",
       "\n",
       "    .dataframe thead th {\n",
       "        text-align: right;\n",
       "    }\n",
       "</style>\n",
       "<table border=\"1\" class=\"dataframe\">\n",
       "  <thead>\n",
       "    <tr style=\"text-align: right;\">\n",
       "      <th></th>\n",
       "      <th>PRODUCTION</th>\n",
       "      <th>CONSUME</th>\n",
       "      <th>CONSUME_OTHERS</th>\n",
       "      <th>USER_VOLUME</th>\n",
       "      <th>USER_DENSITY</th>\n",
       "      <th>USER_ROLE</th>\n",
       "    </tr>\n",
       "  </thead>\n",
       "  <tbody>\n",
       "    <tr>\n",
       "      <th>8993</th>\n",
       "      <td>0.01112</td>\n",
       "      <td>0.00000</td>\n",
       "      <td>0.233515</td>\n",
       "      <td>1764</td>\n",
       "      <td>9.966667</td>\n",
       "      <td>Gamma</td>\n",
       "    </tr>\n",
       "    <tr>\n",
       "      <th>9015</th>\n",
       "      <td>0.01112</td>\n",
       "      <td>0.00000</td>\n",
       "      <td>0.378072</td>\n",
       "      <td>4624</td>\n",
       "      <td>28.850000</td>\n",
       "      <td>Gamma</td>\n",
       "    </tr>\n",
       "    <tr>\n",
       "      <th>9055</th>\n",
       "      <td>0.02224</td>\n",
       "      <td>0.00000</td>\n",
       "      <td>2.001557</td>\n",
       "      <td>97200</td>\n",
       "      <td>11407.200006</td>\n",
       "      <td>Gamma</td>\n",
       "    </tr>\n",
       "    <tr>\n",
       "      <th>9056</th>\n",
       "      <td>0.02224</td>\n",
       "      <td>0.00000</td>\n",
       "      <td>2.001557</td>\n",
       "      <td>97200</td>\n",
       "      <td>11407.200006</td>\n",
       "      <td>Gamma</td>\n",
       "    </tr>\n",
       "    <tr>\n",
       "      <th>9094</th>\n",
       "      <td>0.02224</td>\n",
       "      <td>0.00000</td>\n",
       "      <td>3.335928</td>\n",
       "      <td>450000</td>\n",
       "      <td>18561.783296</td>\n",
       "      <td>Beta</td>\n",
       "    </tr>\n",
       "    <tr>\n",
       "      <th>...</th>\n",
       "      <td>...</td>\n",
       "      <td>...</td>\n",
       "      <td>...</td>\n",
       "      <td>...</td>\n",
       "      <td>...</td>\n",
       "      <td>...</td>\n",
       "    </tr>\n",
       "    <tr>\n",
       "      <th>50058</th>\n",
       "      <td>0.01112</td>\n",
       "      <td>0.00000</td>\n",
       "      <td>1.667964</td>\n",
       "      <td>112500</td>\n",
       "      <td>9755.133298</td>\n",
       "      <td>Gamma</td>\n",
       "    </tr>\n",
       "    <tr>\n",
       "      <th>50207</th>\n",
       "      <td>0.01112</td>\n",
       "      <td>0.00000</td>\n",
       "      <td>1.667964</td>\n",
       "      <td>135000</td>\n",
       "      <td>11792.016643</td>\n",
       "      <td>Alpha</td>\n",
       "    </tr>\n",
       "    <tr>\n",
       "      <th>50355</th>\n",
       "      <td>0.01112</td>\n",
       "      <td>0.00000</td>\n",
       "      <td>1.656844</td>\n",
       "      <td>133206</td>\n",
       "      <td>15091.433395</td>\n",
       "      <td>Beta</td>\n",
       "    </tr>\n",
       "    <tr>\n",
       "      <th>50647</th>\n",
       "      <td>0.01112</td>\n",
       "      <td>0.01112</td>\n",
       "      <td>0.033359</td>\n",
       "      <td>27</td>\n",
       "      <td>175.533327</td>\n",
       "      <td>Gamma</td>\n",
       "    </tr>\n",
       "    <tr>\n",
       "      <th>50651</th>\n",
       "      <td>0.01112</td>\n",
       "      <td>0.00000</td>\n",
       "      <td>1.200934</td>\n",
       "      <td>46656</td>\n",
       "      <td>5859.916686</td>\n",
       "      <td>Gamma</td>\n",
       "    </tr>\n",
       "  </tbody>\n",
       "</table>\n",
       "<p>581 rows × 6 columns</p>\n",
       "</div>"
      ],
      "text/plain": [
       "       PRODUCTION  CONSUME  CONSUME_OTHERS  USER_VOLUME  USER_DENSITY  \\\n",
       "8993      0.01112  0.00000        0.233515         1764      9.966667   \n",
       "9015      0.01112  0.00000        0.378072         4624     28.850000   \n",
       "9055      0.02224  0.00000        2.001557        97200  11407.200006   \n",
       "9056      0.02224  0.00000        2.001557        97200  11407.200006   \n",
       "9094      0.02224  0.00000        3.335928       450000  18561.783296   \n",
       "...           ...      ...             ...          ...           ...   \n",
       "50058     0.01112  0.00000        1.667964       112500   9755.133298   \n",
       "50207     0.01112  0.00000        1.667964       135000  11792.016643   \n",
       "50355     0.01112  0.00000        1.656844       133206  15091.433395   \n",
       "50647     0.01112  0.01112        0.033359           27    175.533327   \n",
       "50651     0.01112  0.00000        1.200934        46656   5859.916686   \n",
       "\n",
       "      USER_ROLE  \n",
       "8993      Gamma  \n",
       "9015      Gamma  \n",
       "9055      Gamma  \n",
       "9056      Gamma  \n",
       "9094       Beta  \n",
       "...         ...  \n",
       "50058     Gamma  \n",
       "50207     Alpha  \n",
       "50355      Beta  \n",
       "50647     Gamma  \n",
       "50651     Gamma  \n",
       "\n",
       "[581 rows x 6 columns]"
      ]
     },
     "execution_count": 42,
     "metadata": {},
     "output_type": "execute_result"
    }
   ],
   "source": [
    "DEFAULT_COLUMNS = [\"PRODUCTION\",\"CONSUME\",\"CONSUME_OTHERS\",\"USER_VOLUME\",\"USER_DENSITY\",\"USER_ROLE\"]\n",
    "PRODUCERS_DF    = df[df[\"TYPE\"]==\"UPLOAD\"]\n",
    "PRODUCERS_ROLES = PRODUCERS_DF[\"USER_ROLE\"]\n",
    "PRODUCERS       = PRODUCERS_DF[DEFAULT_COLUMNS]\n",
    "PRODUCERS"
   ]
  },
  {
   "cell_type": "markdown",
   "id": "complete-albuquerque",
   "metadata": {},
   "source": [
    "### Pairplot"
   ]
  },
  {
   "cell_type": "code",
   "execution_count": 43,
   "id": "insured-avatar",
   "metadata": {},
   "outputs": [
    {
     "data": {
      "text/plain": [
       "<seaborn.axisgrid.PairGrid at 0x7f3a05e4ddc0>"
      ]
     },
     "execution_count": 43,
     "metadata": {},
     "output_type": "execute_result"
    },
    {
     "data": {
      "image/png": "[encoded data removed]",
      "text/plain": [
       "<Figure size 975.25x900 with 30 Axes>"
      ]
     },
     "metadata": {
      "needs_background": "light"
     },
     "output_type": "display_data"
    }
   ],
   "source": [
    "g = SB.PairGrid(PRODUCERS,hue=\"USER_ROLE\")\n",
    "g.map_diag(SB.histplot)\n",
    "g.map_offdiag(SB.scatterplot)\n",
    "g.add_legend()"
   ]
  },
  {
   "cell_type": "markdown",
   "id": "ambient-centre",
   "metadata": {},
   "source": [
    "### Correlation matrix  - Heatman"
   ]
  },
  {
   "cell_type": "code",
   "execution_count": 44,
   "id": "unlimited-phase",
   "metadata": {},
   "outputs": [
    {
     "data": {
      "image/png": "[encoded data removed]",
      "text/plain": [
       "<Figure size 720x720 with 2 Axes>"
      ]
     },
     "metadata": {
      "needs_background": "light"
     },
     "output_type": "display_data"
    }
   ],
   "source": [
    "correlation = PRODUCERS.corr()\n",
    "_,ax = M.subplots(figsize = (10,10))\n",
    "SB.heatmap(\n",
    "    correlation,\n",
    "    vmin=-1,vmax=1,\n",
    "    annot=True,\n",
    "#     center=0,\n",
    "    square =True,\n",
    "    ax=ax\n",
    ")\n",
    "ax.set_xticklabels(\n",
    "    ax.get_xticklabels(),\n",
    "    rotation=45,\n",
    "    horizontalalignment='right'\n",
    ");"
   ]
  },
  {
   "cell_type": "markdown",
   "id": "indoor-dictionary",
   "metadata": {},
   "source": [
    "### Feature selection"
   ]
  },
  {
   "cell_type": "code",
   "execution_count": 45,
   "id": "acquired-window",
   "metadata": {},
   "outputs": [],
   "source": [
    "SELECTED_FEATURES = [\"USER_VOLUME\",\"USER_DENSITY\",\"PRODUCTION\",\"CONSUME_OTHERS\"]"
   ]
  },
  {
   "cell_type": "markdown",
   "id": "eleven-timeline",
   "metadata": {},
   "source": [
    "### Pairplot"
   ]
  },
  {
   "cell_type": "code",
   "execution_count": 46,
   "id": "ultimate-preserve",
   "metadata": {},
   "outputs": [
    {
     "data": {
      "text/plain": [
       "<seaborn.axisgrid.PairGrid at 0x7f3a07498550>"
      ]
     },
     "execution_count": 46,
     "metadata": {},
     "output_type": "execute_result"
    },
    {
     "data": {
      "image/png": "[encoded data removed]",
      "text/plain": [
       "<Figure size 795.25x720 with 20 Axes>"
      ]
     },
     "metadata": {
      "needs_background": "light"
     },
     "output_type": "display_data"
    }
   ],
   "source": [
    "g = SB.PairGrid(PRODUCERS[SELECTED_FEATURES+[\"USER_ROLE\"]],hue=\"USER_ROLE\")\n",
    "g.map_diag(SB.histplot)\n",
    "g.map_offdiag(SB.scatterplot)\n",
    "g.add_legend()"
   ]
  },
  {
   "cell_type": "markdown",
   "id": "handy-cosmetic",
   "metadata": {},
   "source": [
    "Apply log transformation"
   ]
  },
  {
   "cell_type": "code",
   "execution_count": 52,
   "id": "successful-partition",
   "metadata": {},
   "outputs": [
    {
     "data": {
      "text/plain": [
       "<AxesSubplot:xlabel='USER_DENSITY', ylabel='Count'>"
      ]
     },
     "execution_count": 52,
     "metadata": {},
     "output_type": "execute_result"
    },
    {
     "data": {
      "image/png": "[encoded data removed]",
      "text/plain": [
       "<Figure size 432x288 with 1 Axes>"
      ]
     },
     "metadata": {
      "needs_background": "light"
     },
     "output_type": "display_data"
    }
   ],
   "source": [
    "from sklearn.preprocessing  import PowerTransformer\n",
    "SB.histplot(data=PRODUCERS, x= \"USER_DENSITY\")"
   ]
  },
  {
   "cell_type": "markdown",
   "id": "manual-insulin",
   "metadata": {},
   "source": [
    "Visualize transformed data"
   ]
  },
  {
   "cell_type": "code",
   "execution_count": 249,
   "id": "smoking-preparation",
   "metadata": {},
   "outputs": [
    {
     "data": {
      "text/plain": [
       "<AxesSubplot:ylabel='Density'>"
      ]
     },
     "execution_count": 249,
     "metadata": {},
     "output_type": "execute_result"
    },
    {
     "data": {
      "image/png": "[encoded data removed]",
      "text/plain": [
       "<Figure size 720x720 with 1 Axes>"
      ]
     },
     "metadata": {
      "needs_background": "light"
     },
     "output_type": "display_data"
    }
   ],
   "source": [
    "pt = PowerTransformer()\n",
    "_,ax = M.subplots(figsize = (10,10))\n",
    "PRODUCERS_LOG = pt.fit_transform(PRODUCERS[SELECTED_FEATURES] )\n",
    "PRODUCERS_LOG = P.DataFrame(PRODUCERS_LOG)\n",
    "PRODUCERS_LOG.columns = SELECTED_FEATURES\n",
    "SB.histplot(data=PRODUCERS_LOG,bins=10,stat=\"density\")"
   ]
  },
  {
   "cell_type": "code",
   "execution_count": 54,
   "id": "generic-light",
   "metadata": {},
   "outputs": [],
   "source": [
    "CLEAN_PRODUCERS = PRODUCERS[SELECTED_FEATURES]"
   ]
  },
  {
   "cell_type": "markdown",
   "id": "serial-surge",
   "metadata": {},
   "source": [
    "#### Split data into random train and test subsets"
   ]
  },
  {
   "cell_type": "code",
   "execution_count": 55,
   "id": "norman-valuation",
   "metadata": {},
   "outputs": [],
   "source": [
    "X_train0,X_test0,y_train0,y_test0 = train_test_split(CLEAN_PRODUCERS,PRODUCERS_ROLES,test_size=0.3)\n",
    "X_train_log0,X_test_log0,y_train_log0,y_test_log0 = train_test_split(PRODUCERS_LOG,PRODUCERS_ROLES,test_size=0.3)"
   ]
  },
  {
   "cell_type": "markdown",
   "id": "architectural-cylinder",
   "metadata": {},
   "source": [
    "### Imbalanced classification problem"
   ]
  },
  {
   "cell_type": "code",
   "execution_count": 58,
   "id": "informational-transition",
   "metadata": {},
   "outputs": [
    {
     "data": {
      "image/png": "[encoded data removed]",
      "text/plain": [
       "<Figure size 720x504 with 1 Axes>"
      ]
     },
     "metadata": {
      "needs_background": "light"
     },
     "output_type": "display_data"
    }
   ],
   "source": [
    "_,ax = M.subplots(figsize=(10,7))\n",
    "classes_counter0 = sorted(Counter(PRODUCERS_DF[\"USER_ROLE\"] ).items())\n",
    "classes_counter0\n",
    "role_counter_df0 = P.DataFrame(classes_counter0,columns=[\"USER_ROLE\",\"COUNT\"])\n",
    "# role_counter_df0\n",
    "bars = SB.barplot(data=role_counter_df0,x=\"USER_ROLE\",y=\"COUNT\",color=\"black\" ,ax=ax)\n",
    "annotateBarPlot(bars,color=\"white\",fontsize=20)"
   ]
  },
  {
   "cell_type": "markdown",
   "id": "expanded-south",
   "metadata": {},
   "source": [
    "# Sampling"
   ]
  },
  {
   "cell_type": "markdown",
   "id": "overall-little",
   "metadata": {},
   "source": [
    "#### #1 Random Under-sampling"
   ]
  },
  {
   "cell_type": "code",
   "execution_count": 59,
   "id": "sensitive-courtesy",
   "metadata": {},
   "outputs": [
    {
     "data": {
      "image/png": "[encoded data removed]",
      "text/plain": [
       "<Figure size 720x504 with 1 Axes>"
      ]
     },
     "metadata": {
      "needs_background": "light"
     },
     "output_type": "display_data"
    }
   ],
   "source": [
    "undersample = RandomUnderSampler(random_state=12312412)\n",
    "X_resampled1 , y_resampled1 = undersample.fit_resample(PRODUCERS[SELECTED_FEATURES].values,PRODUCERS[\"USER_ROLE\"].values)\n",
    "X_resampled_log1 , y_resampled_log1 = undersample.fit_resample(PRODUCERS_LOG.values,PRODUCERS[\"USER_ROLE\"].values)\n",
    "classes_counter1 = sorted(Counter(y_resampled1).items())\n",
    "role_counter_df1 = P.DataFrame(classes_counter1,columns=[\"USER_ROLE\",\"COUNT\"])\n",
    "_,ax = M.subplots(figsize=(10,7))\n",
    "plots = SB.barplot(data=role_counter_df1,x=\"USER_ROLE\",y=\"COUNT\",ax=ax,color=\"black\")\n",
    "annotateBarPlot(plots,color=\"white\",fontsize=30)"
   ]
  },
  {
   "cell_type": "markdown",
   "id": "difficult-prescription",
   "metadata": {},
   "source": [
    "#### #2 Random Over-sampling"
   ]
  },
  {
   "cell_type": "code",
   "execution_count": 60,
   "id": "recent-coverage",
   "metadata": {},
   "outputs": [],
   "source": [
    "oversample = RandomOverSampler(random_state=123123)\n",
    "X_resampled2 , y_resampled2 = oversample.fit_resample(PRODUCERS[SELECTED_FEATURES].values,PRODUCERS[\"USER_ROLE\"].values)\n",
    "X_resampled_log2 , y_resampled_log2 = oversample.fit_resample(PRODUCERS_LOG,PRODUCERS[\"USER_ROLE\"].values)"
   ]
  },
  {
   "cell_type": "code",
   "execution_count": 61,
   "id": "improved-optimization",
   "metadata": {},
   "outputs": [
    {
     "data": {
      "image/png": "[encoded data removed]",
      "text/plain": [
       "<Figure size 720x504 with 1 Axes>"
      ]
     },
     "metadata": {
      "needs_background": "light"
     },
     "output_type": "display_data"
    }
   ],
   "source": [
    "classes_counter2 = sorted(Counter(y_resampled2).items())\n",
    "role_counter_df2 = P.DataFrame(classes_counter2,columns=[\"USER_ROLE\",\"COUNT\"])\n",
    "_,ax = M.subplots(figsize=(10,7))\n",
    "bars = SB.barplot(data=role_counter_df2,x=\"USER_ROLE\",y=\"COUNT\",ax=ax,color=\"black\")\n",
    "annotateBarPlot(bars,color=\"white\",fontsize=30)"
   ]
  },
  {
   "cell_type": "markdown",
   "id": "european-captain",
   "metadata": {},
   "source": [
    "#### #3 SMOTE"
   ]
  },
  {
   "cell_type": "code",
   "execution_count": 62,
   "id": "secure-genius",
   "metadata": {},
   "outputs": [
    {
     "data": {
      "image/png": "[encoded data removed]",
      "text/plain": [
       "<Figure size 720x504 with 1 Axes>"
      ]
     },
     "metadata": {
      "needs_background": "light"
     },
     "output_type": "display_data"
    }
   ],
   "source": [
    "# sm = SMOTE(random_state=42)\n",
    "sm = KMeansSMOTE(random_state=42)\n",
    "X_resampled3, y_resampled3 = sm.fit_resample(PRODUCERS[SELECTED_FEATURES].values, PRODUCERS[\"USER_ROLE\"].values)\n",
    "X_resampled_log3, y_resampled_log3 = sm.fit_resample(PRODUCERS_LOG, PRODUCERS[\"USER_ROLE\"].values)\n",
    "classes_counter3 = sorted(Counter(y_resampled3).items())\n",
    "role_counter_df3 = P.DataFrame(classes_counter3,columns=[\"USER_ROLE\",\"COUNT\"])\n",
    "_,ax = M.subplots(figsize=(10,7))\n",
    "bars = SB.barplot(data=role_counter_df2,x=\"USER_ROLE\",y=\"COUNT\",color=\"black\",ax=ax)\n",
    "annotateBarPlot(bars,color=\"white\",fontsize=30)"
   ]
  },
  {
   "cell_type": "markdown",
   "id": "integrated-richards",
   "metadata": {},
   "source": [
    "## Classification"
   ]
  },
  {
   "cell_type": "code",
   "execution_count": 165,
   "id": "underlying-physiology",
   "metadata": {},
   "outputs": [],
   "source": [
    "X_train1,X_test1,y_train1,y_test1 = train_test_split(X_resampled1,y_resampled1,test_size=0.2)\n",
    "X_train2,X_test2,y_train2,y_test2 = train_test_split(X_resampled2,y_resampled2,test_size=0.2)\n",
    "X_train3,X_test3,y_train3,y_test3 = train_test_split(X_resampled3,y_resampled3,test_size=0.2)\n",
    "# LOG\n",
    "X_train_log1,X_test_log1,y_train_log1,y_test_log1 = train_test_split(X_resampled_log1,y_resampled_log1,test_size=0.2)\n",
    "X_train_log2,X_test_log2,y_train_log2,y_test_log2 = train_test_split(X_resampled_log2,y_resampled_log2,test_size=0.2)\n",
    "# X_train_log3,X_test_log3,y_train_log3,y_test_log3 = train_test_split(X_resampled_log3,y_resampled_log3,test_size=0.2)\n",
    "# X_train2,X_test2,y_train2,y_test2 = train_test_split(X_resampled2,y_resampled2,test_size=0.2)\n",
    "# X_train3,X_test3,y_train3,y_test3 = train_test_split(X_resampled3,y_resampled3,test_size=0.2)\n",
    "# X\n",
    "# ________________________________________________\n",
    "def changeColumns(x):\n",
    "    y = P.DataFrame(x)\n",
    "    y.columns = SELECTED_FEATURES\n",
    "    return y\n",
    "X_trains     = [X_train0, X_train1,X_train2,]\n",
    "#                 X_train3\n",
    "X_trains     =  list(map(changeColumns,X_trains))\n",
    "X_trains_log = [X_train_log0,X_train_log1,X_train_log2,]\n",
    "#                 X_train_log3\n",
    "X_trains_log =  list(map(changeColumns,X_trains_log))\n",
    "# \n",
    "y_trains     = [y_train0,y_train1,y_train2]\n",
    "#                 y_train3\n",
    "y_trains_log = [y_train_log0,y_train_log1,y_train_log2,]\n",
    "#                 y_train_log3\n",
    "# y_trains_log = list(map(changeColumns,y_trains_log))\n",
    "# \n",
    "X_tests     = [X_test0,X_test1,X_test2]\n",
    "#                X_test3\n",
    "X_tests     =  list(map(changeColumns,X_tests))\n",
    "X_tests_log = [X_test_log0,X_test_log1,X_test_log2]\n",
    "#                X_test_log3\n",
    "X_tests_log = list(map(changeColumns,X_tests_log))\n",
    "# \n",
    "y_tests     = [y_test0,y_test1,y_test2]\n",
    "#                y_test3\n",
    "y_tests_log = [y_test_log0,y_test_log1,y_test_log2]\n",
    "#                y_test_log3\n",
    "# y_tests_log = list(map(changeColumns,y_tests_log))\n",
    "\n",
    "MODEL_NAMES = [\n",
    "    \"DEFAULT\",\"UNDER-S\",\"OVER-S\"]\n",
    "MODEL_NAMES_LOG = list(map( lambda x:x+\"_LOG\", MODEL_NAMES))"
   ]
  },
  {
   "cell_type": "markdown",
   "id": "norman-skill",
   "metadata": {},
   "source": [
    "# AdaBoosting"
   ]
  },
  {
   "cell_type": "code",
   "execution_count": 253,
   "id": "instant-chosen",
   "metadata": {},
   "outputs": [
    {
     "data": {
      "text/html": [
       "<div>\n",
       "<style scoped>\n",
       "    .dataframe tbody tr th:only-of-type {\n",
       "        vertical-align: middle;\n",
       "    }\n",
       "\n",
       "    .dataframe tbody tr th {\n",
       "        vertical-align: top;\n",
       "    }\n",
       "\n",
       "    .dataframe thead th {\n",
       "        text-align: right;\n",
       "    }\n",
       "</style>\n",
       "<table border=\"1\" class=\"dataframe\">\n",
       "  <thead>\n",
       "    <tr style=\"text-align: right;\">\n",
       "      <th></th>\n",
       "      <th>MODEL</th>\n",
       "      <th>SCORE</th>\n",
       "    </tr>\n",
       "  </thead>\n",
       "  <tbody>\n",
       "    <tr>\n",
       "      <th>0</th>\n",
       "      <td>ADAC_DEFAULT</td>\n",
       "      <td>0.853008</td>\n",
       "    </tr>\n",
       "    <tr>\n",
       "      <th>1</th>\n",
       "      <td>ADAC_UNDER-S</td>\n",
       "      <td>0.704776</td>\n",
       "    </tr>\n",
       "    <tr>\n",
       "      <th>2</th>\n",
       "      <td>ADAC_OVER-S</td>\n",
       "      <td>0.672793</td>\n",
       "    </tr>\n",
       "  </tbody>\n",
       "</table>\n",
       "</div>"
      ],
      "text/plain": [
       "          MODEL     SCORE\n",
       "0  ADAC_DEFAULT  0.853008\n",
       "1  ADAC_UNDER-S  0.704776\n",
       "2   ADAC_OVER-S  0.672793"
      ]
     },
     "execution_count": 253,
     "metadata": {},
     "output_type": "execute_result"
    }
   ],
   "source": [
    "sc      = StandardScaler()\n",
    "model    = AdaBoostClassifier(n_estimators=10,random_state=0 )  \n",
    "pipeline = Pipeline([(\"SC\",sc),(\"MODEL\",model) ] )\n",
    "\n",
    "scores2 = getScores(pipeline = pipeline,prefix=\"ADAC\")  \n",
    "scores2 = P.DataFrame(scores2,columns=[\"MODEL\",\"SCORE\"])\n",
    "scores2"
   ]
  },
  {
   "cell_type": "code",
   "execution_count": 254,
   "id": "compound-spouse",
   "metadata": {},
   "outputs": [
    {
     "data": {
      "image/png": "[encoded data removed]",
      "text/plain": [
       "<Figure size 720x504 with 1 Axes>"
      ]
     },
     "metadata": {
      "needs_background": "light"
     },
     "output_type": "display_data"
    }
   ],
   "source": [
    "_,ax= M.subplots(figsize=(10,7))\n",
    "bars = SB.barplot(data=scores2,x=\"MODEL\",y=\"SCORE\",ax=ax,color=\"black\")\n",
    "annotateBarPlot(bars,color =\"white\",fontsize=30)"
   ]
  },
  {
   "cell_type": "markdown",
   "id": "canadian-happening",
   "metadata": {},
   "source": [
    "- A macro-average will compute the metric independently for each class and then take the average (hence treating all classes equally)\n",
    "\n",
    "- micro-average will aggregate the contributions of all classes to compute the average metric\n",
    "\n",
    "- The F1 score can be interpreted as a weighted average of the precision and recall, where an F1 score reaches its best value at 1 and worst score at 0"
   ]
  },
  {
   "cell_type": "code",
   "execution_count": 293,
   "id": "english-spyware",
   "metadata": {},
   "outputs": [
    {
     "name": "stdout",
     "output_type": "stream",
     "text": [
      "DEFAULT\n",
      "Micro-Avarage[Precision] = 0.8457142857142858\n",
      "F1-Avarage: 0.8457142857142858\n",
      "Micro-Avarage[Recall]:0.8457142857142858\n",
      "____________________________________________________________________________________________________\n",
      "UNDER-S\n",
      "Micro-Avarage[Precision] = 0.6170212765957447\n",
      "F1-Avarage: 0.6170212765957447\n",
      "Micro-Avarage[Recall]:0.6170212765957447\n",
      "____________________________________________________________________________________________________\n",
      "OVER-S\n",
      "Micro-Avarage[Precision] = 0.7113821138211383\n",
      "F1-Avarage: 0.7113821138211383\n",
      "Micro-Avarage[Recall]:0.7113821138211383\n",
      "____________________________________________________________________________________________________\n"
     ]
    },
    {
     "data": {
      "text/plain": [
       "([0.8457142857142858, 0.6170212765957447, 0.7113821138211383],\n",
       " [0.8457142857142858, 0.6170212765957447, 0.7113821138211383],\n",
       " [0.8457142857142858, 0.6170212765957447, 0.7113821138211383])"
      ]
     },
     "execution_count": 293,
     "metadata": {},
     "output_type": "execute_result"
    }
   ],
   "source": [
    "# scores_df = P.DataFrame({\"MICRO\":[],\"MACRO\":[],\"WEIGHTED\":[],\"MODEL\":[]  })\n",
    "micros  = []\n",
    "recalls = []\n",
    "# macros = []\n",
    "f1s = []\n",
    "for i,(X_train,y_train,X_test,y_test) in enumerate(zip(X_trains,y_trains,X_tests,y_tests)):\n",
    "    pipeline.fit(X_train,y_train)\n",
    "    y_predict = pipeline.predict(X_test)\n",
    "    n_classes = pipeline.classes_.shape[0]\n",
    "    micro    = precision_score(y_test,y_predict,average='micro')\n",
    "    micros.append(micro)\n",
    "#     macro    = precision_score(y_test,y_predict,average='macro')\n",
    "#     macros.append(macro)\n",
    "    f1 = f1_score(y_test,y_predict,average='micro')\n",
    "    recall = recall_score(y_test,y_predict,average=\"micro\")\n",
    "    recalls.append(recall)\n",
    "#     weighted = precision_score(y_test,y_predict,average='weighted')\n",
    "    f1s.append(f1)\n",
    "    print(MODEL_NAMES[i])\n",
    "    print(\n",
    "      \"Micro-Avarage[Precision] = {}\\nF1-Avarage: {}\\nMicro-Avarage[Recall]:{}\".format(micro,f1,recall)\n",
    "    )\n",
    "    print(\"_\"*100)\n",
    "micros,f1s,recalls"
   ]
  },
  {
   "cell_type": "markdown",
   "id": "centered-casting",
   "metadata": {},
   "source": [
    "## Logistic Regression"
   ]
  },
  {
   "cell_type": "code",
   "execution_count": 228,
   "id": "attended-pickup",
   "metadata": {},
   "outputs": [
    {
     "data": {
      "text/html": [
       "<div>\n",
       "<style scoped>\n",
       "    .dataframe tbody tr th:only-of-type {\n",
       "        vertical-align: middle;\n",
       "    }\n",
       "\n",
       "    .dataframe tbody tr th {\n",
       "        vertical-align: top;\n",
       "    }\n",
       "\n",
       "    .dataframe thead th {\n",
       "        text-align: right;\n",
       "    }\n",
       "</style>\n",
       "<table border=\"1\" class=\"dataframe\">\n",
       "  <thead>\n",
       "    <tr style=\"text-align: right;\">\n",
       "      <th></th>\n",
       "      <th>MODEL</th>\n",
       "      <th>SCORE</th>\n",
       "    </tr>\n",
       "  </thead>\n",
       "  <tbody>\n",
       "    <tr>\n",
       "      <th>0</th>\n",
       "      <td>LR_DEFAULT</td>\n",
       "      <td>0.945081</td>\n",
       "    </tr>\n",
       "    <tr>\n",
       "      <th>1</th>\n",
       "      <td>LR_UNDER-S</td>\n",
       "      <td>0.926998</td>\n",
       "    </tr>\n",
       "    <tr>\n",
       "      <th>2</th>\n",
       "      <td>LR_OVER-S</td>\n",
       "      <td>0.958198</td>\n",
       "    </tr>\n",
       "  </tbody>\n",
       "</table>\n",
       "</div>"
      ],
      "text/plain": [
       "        MODEL     SCORE\n",
       "0  LR_DEFAULT  0.945081\n",
       "1  LR_UNDER-S  0.926998\n",
       "2   LR_OVER-S  0.958198"
      ]
     },
     "execution_count": 228,
     "metadata": {},
     "output_type": "execute_result"
    }
   ],
   "source": [
    "\n",
    "column_transformer = ColumnTransformer(\n",
    "   transformers = [\n",
    "       (\"LOGT\",make_pipeline(PowerTransformer()) , SELECTED_FEATURES )\n",
    "   ]\n",
    ")\n",
    "\n",
    "pipeline = Pipeline( [ \n",
    "    (\"data_preparation\", column_transformer  ), \n",
    "    (\"logistic_r\", LogisticRegression())   \n",
    "])\n",
    "\n",
    "scores0_log = getScores(pipeline = pipeline,\n",
    "                        data= zip(X_trains_log,y_trains_log,X_tests_log,y_tests_log),\n",
    "                        prefix = \"LR\"\n",
    "                       )\n",
    "\n",
    "scores0_log = P.DataFrame(scores0_log,columns=[\"MODEL\",\"SCORE\"])\n",
    "scores0_log"
   ]
  },
  {
   "cell_type": "code",
   "execution_count": 229,
   "id": "greatest-mouse",
   "metadata": {},
   "outputs": [
    {
     "data": {
      "image/png": "[encoded data removed]",
      "text/plain": [
       "<Figure size 720x504 with 1 Axes>"
      ]
     },
     "metadata": {
      "needs_background": "light"
     },
     "output_type": "display_data"
    }
   ],
   "source": [
    "_,ax= M.subplots(figsize=(10,7))\n",
    "bars = SB.barplot(data=scores0_log,x=\"MODEL\",y=\"SCORE\",ax=ax,color=\"black\")\n",
    "annotateBarPlot(bars,color =\"white\",fontsize=30)"
   ]
  },
  {
   "cell_type": "code",
   "execution_count": 294,
   "id": "driving-candle",
   "metadata": {},
   "outputs": [
    {
     "name": "stdout",
     "output_type": "stream",
     "text": [
      "DEFAULT\n",
      "Micro - Avarage[Precision] = 0.8742857142857143\n",
      "Micro - Avarage[Recall]: 0.8742857142857143\n",
      "F1-score: 0.8742857142857143\n",
      "____________________________________________________________________________________________________\n",
      "UNDER-S\n",
      "Micro - Avarage[Precision] = 0.6382978723404256\n",
      "Micro - Avarage[Recall]: 0.6382978723404256\n",
      "F1-score: 0.6382978723404256\n",
      "____________________________________________________________________________________________________\n",
      "OVER-S\n",
      "Micro - Avarage[Precision] = 0.6991869918699187\n",
      "Micro - Avarage[Recall]: 0.6991869918699187\n",
      "F1-score: 0.6991869918699187\n",
      "____________________________________________________________________________________________________\n"
     ]
    }
   ],
   "source": [
    "micros_log    = []\n",
    "recalls_log   = []\n",
    "f1s_log = []\n",
    "for i,(X_train,y_train,X_test,y_test) in enumerate(zip(X_trains_log,y_trains_log,X_tests_log,y_tests_log)):\n",
    "    pipeline.fit(X_train,y_train)\n",
    "    y_predict = pipeline.predict(X_test)\n",
    "    n_classes = pipeline.classes_.shape[0]\n",
    "    micro    = precision_score(y_test,y_predict,average='micro')\n",
    "    micros_log.append(micro)\n",
    "#     macro    = precision_score(y_test,y_predict,average='macro')\n",
    "#     macros.append(macro)\n",
    "    recall = recall_score(y_test,y_predict,average='micro')\n",
    "    recalls_log.append(recall)\n",
    "#     \n",
    "    f1 = f1_score(y_test,y_predict,average=\"micro\")\n",
    "    f1s_log.append(f1)\n",
    "    print(MODEL_NAMES[i])\n",
    "    print(\n",
    "      \"Micro - Avarage[Precision] = {}\\nMicro - Avarage[Recall]: {}\\nF1-score: {}\".format(micro,recall,f1)\n",
    "    )\n",
    "    print(\"_\"*100)\n",
    "#     print(n_classes)\n",
    "# y_score"
   ]
  },
  {
   "cell_type": "code",
   "execution_count": 290,
   "id": "indoor-three",
   "metadata": {},
   "outputs": [
    {
     "data": {
      "text/html": [
       "<div>\n",
       "<style scoped>\n",
       "    .dataframe tbody tr th:only-of-type {\n",
       "        vertical-align: middle;\n",
       "    }\n",
       "\n",
       "    .dataframe tbody tr th {\n",
       "        vertical-align: top;\n",
       "    }\n",
       "\n",
       "    .dataframe thead th {\n",
       "        text-align: right;\n",
       "    }\n",
       "</style>\n",
       "<table border=\"1\" class=\"dataframe\">\n",
       "  <thead>\n",
       "    <tr style=\"text-align: right;\">\n",
       "      <th></th>\n",
       "      <th>SCORE</th>\n",
       "      <th>MODEL_NAME</th>\n",
       "      <th>MODEL</th>\n",
       "    </tr>\n",
       "  </thead>\n",
       "  <tbody>\n",
       "    <tr>\n",
       "      <th>0</th>\n",
       "      <td>0.845714</td>\n",
       "      <td>DEFAULT</td>\n",
       "      <td>ADA</td>\n",
       "    </tr>\n",
       "    <tr>\n",
       "      <th>1</th>\n",
       "      <td>0.617021</td>\n",
       "      <td>UNDER-S</td>\n",
       "      <td>ADA</td>\n",
       "    </tr>\n",
       "    <tr>\n",
       "      <th>2</th>\n",
       "      <td>0.711382</td>\n",
       "      <td>OVER-S</td>\n",
       "      <td>ADA</td>\n",
       "    </tr>\n",
       "    <tr>\n",
       "      <th>3</th>\n",
       "      <td>0.874286</td>\n",
       "      <td>DEFAULT</td>\n",
       "      <td>LOGISTIC</td>\n",
       "    </tr>\n",
       "    <tr>\n",
       "      <th>4</th>\n",
       "      <td>0.638298</td>\n",
       "      <td>UNDER-S</td>\n",
       "      <td>LOGISTIC</td>\n",
       "    </tr>\n",
       "    <tr>\n",
       "      <th>5</th>\n",
       "      <td>0.699187</td>\n",
       "      <td>OVER-S</td>\n",
       "      <td>LOGISTIC</td>\n",
       "    </tr>\n",
       "  </tbody>\n",
       "</table>\n",
       "</div>"
      ],
      "text/plain": [
       "      SCORE MODEL_NAME     MODEL\n",
       "0  0.845714    DEFAULT       ADA\n",
       "1  0.617021    UNDER-S       ADA\n",
       "2  0.711382     OVER-S       ADA\n",
       "3  0.874286    DEFAULT  LOGISTIC\n",
       "4  0.638298    UNDER-S  LOGISTIC\n",
       "5  0.699187     OVER-S  LOGISTIC"
      ]
     },
     "execution_count": 290,
     "metadata": {},
     "output_type": "execute_result"
    }
   ],
   "source": [
    "micros_df = P.DataFrame({\n",
    "    \"SCORE\": \n",
    "#     f1s+f1s_log,\n",
    "#     recalls+recalls_log,\n",
    "    micros+micros_log,\n",
    "#     weighteds+weighteds_log, \n",
    "#     \"SCORE\":micros+micros_log,\n",
    "#     micros+micros_log,\n",
    "#     +weighteds+micros_log+weighteds_log,\n",
    "#     \"TYPE_AVG\":(([\"MICRO\"]*3)) *2 ,\n",
    "#     \"TYPE_AVG\":(([\"MICRO\"]*3)+([\"WEIGHTED\"]*3)) *2 ,\n",
    "    \"MODEL_NAME\":MODEL_NAMES+MODEL_NAMES,\n",
    "    \"MODEL\":([\"ADA\"]*3 )+([\"LOGISTIC\"]*3)\n",
    "#     \"MODEL\":MODEL_NAMES+MODEL_NAMES+MODEL_NAMES_LOG+MODEL_NAMES_LOG\n",
    "})\n",
    "micros_df\n",
    "# micros,micros_log"
   ]
  },
  {
   "cell_type": "code",
   "execution_count": 292,
   "id": "patent-charles",
   "metadata": {},
   "outputs": [
    {
     "data": {
      "text/plain": [
       "<seaborn.axisgrid.FacetGrid at 0x7f3a00781640>"
      ]
     },
     "execution_count": 292,
     "metadata": {},
     "output_type": "execute_result"
    },
    {
     "data": {
      "image/png": "[encoded data removed]",
      "text/plain": [
       "<Figure size 585.5x504 with 1 Axes>"
      ]
     },
     "metadata": {
      "needs_background": "light"
     },
     "output_type": "display_data"
    }
   ],
   "source": [
    "# Draw a nested barplot by species and sex\n",
    "# _,ax = M.subplots(figsize=(10,10))\n",
    "g = SB.catplot(\n",
    "    data=micros_df, kind=\"bar\",\n",
    "    x=\"MODEL_NAME\", y=\"SCORE\",hue =\"MODEL\",\n",
    "    ci=\"sd\", palette=\"dark\", alpha=.6, height=7,\n",
    ")\n",
    "g.despine(left=True)\n",
    "# plt.figsize=(10,10)\n",
    "g.set_axis_labels(\"\", \"Presicion\")\n",
    "# g.set_axis_labels(\"\", \"Recall\")\n",
    "# g.set_axis_labels(\"\", \"F1 - score\")\n",
    "# g.legend.set_title(\"\")"
   ]
  },
  {
   "cell_type": "code",
   "execution_count": 243,
   "id": "ordinary-might",
   "metadata": {},
   "outputs": [
    {
     "data": {
      "text/html": [
       "<div>\n",
       "<style scoped>\n",
       "    .dataframe tbody tr th:only-of-type {\n",
       "        vertical-align: middle;\n",
       "    }\n",
       "\n",
       "    .dataframe tbody tr th {\n",
       "        vertical-align: top;\n",
       "    }\n",
       "\n",
       "    .dataframe thead th {\n",
       "        text-align: right;\n",
       "    }\n",
       "</style>\n",
       "<table border=\"1\" class=\"dataframe\">\n",
       "  <thead>\n",
       "    <tr style=\"text-align: right;\">\n",
       "      <th></th>\n",
       "      <th>USER_VOLUME</th>\n",
       "      <th>USER_DENSITY</th>\n",
       "      <th>PRODUCTION</th>\n",
       "      <th>CONSUME_OTHERS</th>\n",
       "    </tr>\n",
       "  </thead>\n",
       "  <tbody>\n",
       "    <tr>\n",
       "      <th>21916</th>\n",
       "      <td>400</td>\n",
       "      <td>220.649997</td>\n",
       "      <td>0.004206</td>\n",
       "      <td>0.042056</td>\n",
       "    </tr>\n",
       "    <tr>\n",
       "      <th>43676</th>\n",
       "      <td>3816</td>\n",
       "      <td>471.266669</td>\n",
       "      <td>0.022240</td>\n",
       "      <td>0.266874</td>\n",
       "    </tr>\n",
       "    <tr>\n",
       "      <th>26111</th>\n",
       "      <td>145152</td>\n",
       "      <td>23943.450027</td>\n",
       "      <td>0.004206</td>\n",
       "      <td>0.605602</td>\n",
       "    </tr>\n",
       "    <tr>\n",
       "      <th>11296</th>\n",
       "      <td>332488</td>\n",
       "      <td>7033.649979</td>\n",
       "      <td>0.022240</td>\n",
       "      <td>3.091293</td>\n",
       "    </tr>\n",
       "    <tr>\n",
       "      <th>11488</th>\n",
       "      <td>37647</td>\n",
       "      <td>2307.299986</td>\n",
       "      <td>0.044479</td>\n",
       "      <td>0.989659</td>\n",
       "    </tr>\n",
       "    <tr>\n",
       "      <th>36172</th>\n",
       "      <td>2500</td>\n",
       "      <td>4464.533295</td>\n",
       "      <td>0.004206</td>\n",
       "      <td>0.105139</td>\n",
       "    </tr>\n",
       "    <tr>\n",
       "      <th>19451</th>\n",
       "      <td>1034120</td>\n",
       "      <td>29865.233344</td>\n",
       "      <td>0.012617</td>\n",
       "      <td>1.732694</td>\n",
       "    </tr>\n",
       "    <tr>\n",
       "      <th>22567</th>\n",
       "      <td>557050</td>\n",
       "      <td>19709.266751</td>\n",
       "      <td>0.016822</td>\n",
       "      <td>1.366810</td>\n",
       "    </tr>\n",
       "    <tr>\n",
       "      <th>8993</th>\n",
       "      <td>1764</td>\n",
       "      <td>9.966667</td>\n",
       "      <td>0.011120</td>\n",
       "      <td>0.233515</td>\n",
       "    </tr>\n",
       "    <tr>\n",
       "      <th>26843</th>\n",
       "      <td>495000</td>\n",
       "      <td>76366.599831</td>\n",
       "      <td>0.008411</td>\n",
       "      <td>1.261670</td>\n",
       "    </tr>\n",
       "  </tbody>\n",
       "</table>\n",
       "</div>"
      ],
      "text/plain": [
       "       USER_VOLUME  USER_DENSITY  PRODUCTION  CONSUME_OTHERS\n",
       "21916          400    220.649997    0.004206        0.042056\n",
       "43676         3816    471.266669    0.022240        0.266874\n",
       "26111       145152  23943.450027    0.004206        0.605602\n",
       "11296       332488   7033.649979    0.022240        3.091293\n",
       "11488        37647   2307.299986    0.044479        0.989659\n",
       "36172         2500   4464.533295    0.004206        0.105139\n",
       "19451      1034120  29865.233344    0.012617        1.732694\n",
       "22567       557050  19709.266751    0.016822        1.366810\n",
       "8993          1764      9.966667    0.011120        0.233515\n",
       "26843       495000  76366.599831    0.008411        1.261670"
      ]
     },
     "execution_count": 243,
     "metadata": {},
     "output_type": "execute_result"
    }
   ],
   "source": [
    "# XXX = X_tests[3][:20]\n",
    "X_tests[0][:10]\n",
    "# pipeline.fit(X_trains[0],y_trains[0])\n",
    "# pickle.dump(pipeline,open(\"./UI/models/{}.sav\".format(\"LOGISTIC\"), \"wb\") )"
   ]
  },
  {
   "cell_type": "code",
   "execution_count": 242,
   "id": "statewide-overhead",
   "metadata": {},
   "outputs": [
    {
     "data": {
      "text/plain": [
       "21916    Gamma\n",
       "43676    Gamma\n",
       "26111    Gamma\n",
       "11296    Alpha\n",
       "11488    Gamma\n",
       "36172    Gamma\n",
       "19451    Alpha\n",
       "22567    Alpha\n",
       "8993     Gamma\n",
       "26843     Beta\n",
       "Name: USER_ROLE, dtype: category\n",
       "Categories (3, object): ['Alpha', 'Beta', 'Gamma']"
      ]
     },
     "execution_count": 242,
     "metadata": {},
     "output_type": "execute_result"
    }
   ],
   "source": [
    "y_tests[0][:10]"
   ]
  },
  {
   "cell_type": "code",
   "execution_count": 418,
   "id": "lightweight-saver",
   "metadata": {},
   "outputs": [],
   "source": [
    "# pipeline.fit(X_train_log3,y_train_log3)\n",
    "# pipeline.predict_proba(X_test_log3)"
   ]
  },
  {
   "cell_type": "code",
   "execution_count": 457,
   "id": "starting-subcommittee",
   "metadata": {},
   "outputs": [],
   "source": [
    "pickle.dump(pipeline,open(\"./UI/models/{}.sav\".format(\"LOG\"), \"wb\") )"
   ]
  },
  {
   "cell_type": "markdown",
   "id": "ultimate-front",
   "metadata": {},
   "source": [
    "# DEPRECATED"
   ]
  },
  {
   "cell_type": "code",
   "execution_count": null,
   "id": "eastern-treatment",
   "metadata": {},
   "outputs": [],
   "source": []
  },
  {
   "cell_type": "code",
   "execution_count": null,
   "id": "large-burst",
   "metadata": {},
   "outputs": [],
   "source": []
  },
  {
   "cell_type": "code",
   "execution_count": null,
   "id": "adjacent-timeline",
   "metadata": {},
   "outputs": [],
   "source": []
  },
  {
   "cell_type": "code",
   "execution_count": null,
   "id": "lonely-wyoming",
   "metadata": {},
   "outputs": [],
   "source": []
  },
  {
   "cell_type": "code",
   "execution_count": null,
   "id": "sapphire-eight",
   "metadata": {},
   "outputs": [],
   "source": []
  },
  {
   "cell_type": "code",
   "execution_count": null,
   "id": "numerous-chicago",
   "metadata": {},
   "outputs": [],
   "source": []
  },
  {
   "cell_type": "code",
   "execution_count": null,
   "id": "medical-location",
   "metadata": {},
   "outputs": [],
   "source": []
  },
  {
   "cell_type": "code",
   "execution_count": null,
   "id": "gothic-guyana",
   "metadata": {},
   "outputs": [],
   "source": []
  },
  {
   "cell_type": "code",
   "execution_count": 211,
   "id": "heard-directory",
   "metadata": {},
   "outputs": [
    {
     "name": "stdout",
     "output_type": "stream",
     "text": [
      "CPU times: user 1e+03 ns, sys: 1 µs, total: 2 µs\n",
      "Wall time: 5.01 µs\n"
     ]
    },
    {
     "data": {
      "text/html": [
       "<div>\n",
       "<style scoped>\n",
       "    .dataframe tbody tr th:only-of-type {\n",
       "        vertical-align: middle;\n",
       "    }\n",
       "\n",
       "    .dataframe tbody tr th {\n",
       "        vertical-align: top;\n",
       "    }\n",
       "\n",
       "    .dataframe thead th {\n",
       "        text-align: right;\n",
       "    }\n",
       "</style>\n",
       "<table border=\"1\" class=\"dataframe\">\n",
       "  <thead>\n",
       "    <tr style=\"text-align: right;\">\n",
       "      <th></th>\n",
       "      <th>MODEL</th>\n",
       "      <th>SCORE</th>\n",
       "    </tr>\n",
       "  </thead>\n",
       "  <tbody>\n",
       "    <tr>\n",
       "      <th>0</th>\n",
       "      <td>RF_DEFAULT</td>\n",
       "      <td>0.994309</td>\n",
       "    </tr>\n",
       "    <tr>\n",
       "      <th>1</th>\n",
       "      <td>RF_UNDER-S</td>\n",
       "      <td>0.990838</td>\n",
       "    </tr>\n",
       "    <tr>\n",
       "      <th>2</th>\n",
       "      <td>RF_OVER-S</td>\n",
       "      <td>1.000000</td>\n",
       "    </tr>\n",
       "    <tr>\n",
       "      <th>3</th>\n",
       "      <td>RF_SMOTE</td>\n",
       "      <td>0.997963</td>\n",
       "    </tr>\n",
       "  </tbody>\n",
       "</table>\n",
       "</div>"
      ],
      "text/plain": [
       "        MODEL     SCORE\n",
       "0  RF_DEFAULT  0.994309\n",
       "1  RF_UNDER-S  0.990838\n",
       "2   RF_OVER-S  1.000000\n",
       "3    RF_SMOTE  0.997963"
      ]
     },
     "execution_count": 211,
     "metadata": {},
     "output_type": "execute_result"
    }
   ],
   "source": [
    "%time\n",
    "sc      = StandardScaler()\n",
    "# selector = RFE(model,n_features_to_select=4,step=1,verbose=True)\n",
    "pipeline = Pipeline([(\"SC\",sc),(\"MODEL\",RandomForestClassifier())])\n",
    "scores0 = getScores(pipeline = pipeline)\n",
    "scores0 = P.DataFrame(scores0,columns=[\"MODEL\",\"SCORE\"])\n",
    "scores0"
   ]
  },
  {
   "cell_type": "code",
   "execution_count": 212,
   "id": "hawaiian-trauma",
   "metadata": {},
   "outputs": [
    {
     "data": {
      "image/png": "[encoded data removed]",
      "text/plain": [
       "<Figure size 720x504 with 1 Axes>"
      ]
     },
     "metadata": {
      "needs_background": "light"
     },
     "output_type": "display_data"
    }
   ],
   "source": [
    "_,ax= M.subplots(figsize=(10,7))\n",
    "bars = SB.barplot(data=scores0,x=\"MODEL\",y=\"SCORE\",ax=ax,color=\"black\")\n",
    "annotateBarPlot(bars,color =\"white\",fontsize=30)"
   ]
  },
  {
   "cell_type": "code",
   "execution_count": 213,
   "id": "attempted-collapse",
   "metadata": {},
   "outputs": [
    {
     "name": "stdout",
     "output_type": "stream",
     "text": [
      "CPU times: user 2 µs, sys: 0 ns, total: 2 µs\n",
      "Wall time: 4.77 µs\n"
     ]
    },
    {
     "data": {
      "text/html": [
       "<div>\n",
       "<style scoped>\n",
       "    .dataframe tbody tr th:only-of-type {\n",
       "        vertical-align: middle;\n",
       "    }\n",
       "\n",
       "    .dataframe tbody tr th {\n",
       "        vertical-align: top;\n",
       "    }\n",
       "\n",
       "    .dataframe thead th {\n",
       "        text-align: right;\n",
       "    }\n",
       "</style>\n",
       "<table border=\"1\" class=\"dataframe\">\n",
       "  <thead>\n",
       "    <tr style=\"text-align: right;\">\n",
       "      <th></th>\n",
       "      <th>MODEL</th>\n",
       "      <th>SCORE</th>\n",
       "    </tr>\n",
       "  </thead>\n",
       "  <tbody>\n",
       "    <tr>\n",
       "      <th>0</th>\n",
       "      <td>BGC_DEFAULT</td>\n",
       "      <td>0.991829</td>\n",
       "    </tr>\n",
       "    <tr>\n",
       "      <th>1</th>\n",
       "      <td>BGC_UNDER-S</td>\n",
       "      <td>0.972612</td>\n",
       "    </tr>\n",
       "    <tr>\n",
       "      <th>2</th>\n",
       "      <td>BGC_OVER-S</td>\n",
       "      <td>1.000000</td>\n",
       "    </tr>\n",
       "    <tr>\n",
       "      <th>3</th>\n",
       "      <td>BGC_SMOTE</td>\n",
       "      <td>0.996609</td>\n",
       "    </tr>\n",
       "  </tbody>\n",
       "</table>\n",
       "</div>"
      ],
      "text/plain": [
       "         MODEL     SCORE\n",
       "0  BGC_DEFAULT  0.991829\n",
       "1  BGC_UNDER-S  0.972612\n",
       "2   BGC_OVER-S  1.000000\n",
       "3    BGC_SMOTE  0.996609"
      ]
     },
     "execution_count": 213,
     "metadata": {},
     "output_type": "execute_result"
    }
   ],
   "source": [
    "%time\n",
    "# selector = RFE(model,n_features_to_select=4,step=1,verbose=True)\n",
    "sc      = StandardScaler()\n",
    "model    = BaggingClassifier(base_estimator= RandomForestClassifier(),n_estimators=10,random_state=0 )  \n",
    "pipeline = Pipeline([\n",
    "        (\"SC\",sc),\n",
    "        (\"MODEL\",model) \n",
    "     ] \n",
    ")\n",
    "\n",
    "scores1 = getScores(pipeline = pipeline,prefix=\"BGC\")\n",
    "scores1 = P.DataFrame(scores1,columns=[\"MODEL\",\"SCORE\"])\n",
    "scores1"
   ]
  },
  {
   "cell_type": "code",
   "execution_count": 214,
   "id": "patient-michigan",
   "metadata": {},
   "outputs": [
    {
     "data": {
      "image/png": "[encoded data removed]",
      "text/plain": [
       "<Figure size 720x504 with 1 Axes>"
      ]
     },
     "metadata": {
      "needs_background": "light"
     },
     "output_type": "display_data"
    }
   ],
   "source": [
    "_,ax= M.subplots(figsize=(10,7))\n",
    "bars = SB.barplot(data=scores1,x=\"MODEL\",y=\"SCORE\",ax=ax,color=\"black\")\n",
    "annotateBarPlot(bars,color =\"white\",fontsize=30)"
   ]
  },
  {
   "cell_type": "code",
   "execution_count": 340,
   "id": "dirty-animation",
   "metadata": {},
   "outputs": [
    {
     "name": "stdout",
     "output_type": "stream",
     "text": [
      "36172    Gamma\n",
      "20147    Gamma\n",
      "22974    Alpha\n",
      "25755    Gamma\n",
      "10359    Gamma\n",
      "         ...  \n",
      "9419     Gamma\n",
      "42444    Alpha\n",
      "20158    Alpha\n",
      "10254    Gamma\n",
      "14308    Gamma\n",
      "Name: USER_ROLE, Length: 406, dtype: category\n",
      "Categories (3, object): ['Alpha', 'Beta', 'Gamma']\n",
      "___\n",
      "['Alpha' 'Gamma' 'Gamma' 'Beta' 'Gamma' 'Gamma' 'Gamma' 'Alpha' 'Gamma'\n",
      " 'Alpha' 'Beta' 'Beta' 'Alpha' 'Alpha' 'Beta' 'Gamma' 'Gamma' 'Alpha'\n",
      " 'Gamma' 'Beta' 'Beta' 'Gamma' 'Alpha' 'Alpha' 'Beta' 'Alpha' 'Gamma'\n",
      " 'Gamma' 'Alpha' 'Alpha' 'Gamma' 'Gamma' 'Alpha' 'Alpha' 'Beta' 'Gamma'\n",
      " 'Beta' 'Beta' 'Gamma' 'Alpha' 'Alpha' 'Alpha' 'Beta' 'Gamma' 'Alpha'\n",
      " 'Gamma' 'Gamma' 'Beta' 'Beta' 'Beta' 'Beta' 'Beta' 'Beta' 'Alpha' 'Beta'\n",
      " 'Alpha' 'Beta' 'Beta' 'Gamma' 'Alpha' 'Alpha' 'Gamma' 'Gamma' 'Gamma'\n",
      " 'Beta' 'Beta' 'Gamma' 'Beta' 'Alpha' 'Beta' 'Gamma' 'Beta' 'Alpha'\n",
      " 'Gamma' 'Beta' 'Alpha' 'Gamma' 'Alpha' 'Gamma' 'Beta' 'Beta' 'Alpha'\n",
      " 'Beta' 'Gamma' 'Alpha' 'Alpha' 'Alpha' 'Beta' 'Alpha' 'Gamma' 'Gamma'\n",
      " 'Gamma' 'Alpha' 'Alpha' 'Beta' 'Gamma' 'Beta' 'Beta' 'Gamma' 'Beta'\n",
      " 'Gamma' 'Beta' 'Beta' 'Beta' 'Beta' 'Alpha' 'Alpha' 'Beta' 'Beta' 'Alpha'\n",
      " 'Alpha' 'Alpha' 'Beta' 'Gamma' 'Beta' 'Gamma' 'Gamma' 'Gamma' 'Beta'\n",
      " 'Gamma' 'Beta' 'Gamma' 'Gamma' 'Gamma' 'Alpha' 'Gamma' 'Gamma' 'Alpha'\n",
      " 'Gamma' 'Alpha' 'Alpha' 'Alpha' 'Beta' 'Beta' 'Gamma' 'Gamma' 'Beta'\n",
      " 'Beta' 'Beta' 'Gamma' 'Alpha' 'Beta' 'Gamma' 'Beta' 'Alpha' 'Alpha'\n",
      " 'Beta' 'Beta' 'Gamma' 'Gamma' 'Gamma' 'Gamma' 'Beta' 'Alpha' 'Alpha'\n",
      " 'Alpha' 'Gamma' 'Gamma' 'Beta' 'Gamma' 'Beta' 'Beta' 'Gamma' 'Alpha'\n",
      " 'Gamma' 'Alpha' 'Alpha' 'Beta' 'Gamma' 'Beta' 'Alpha' 'Alpha' 'Beta'\n",
      " 'Alpha' 'Alpha' 'Gamma' 'Gamma' 'Beta' 'Gamma' 'Gamma' 'Gamma' 'Beta'\n",
      " 'Gamma' 'Alpha']\n",
      "___\n",
      "['Gamma' 'Alpha' 'Alpha' 'Alpha' 'Beta' 'Gamma' 'Beta' 'Gamma' 'Gamma'\n",
      " 'Beta' 'Alpha' 'Gamma' 'Beta' 'Gamma' 'Alpha' 'Beta' 'Gamma' 'Alpha'\n",
      " 'Alpha' 'Gamma' 'Beta' 'Beta' 'Gamma' 'Beta' 'Gamma' 'Gamma' 'Alpha'\n",
      " 'Beta' 'Alpha' 'Gamma' 'Beta' 'Gamma' 'Alpha' 'Alpha' 'Gamma' 'Beta'\n",
      " 'Alpha' 'Gamma' 'Beta' 'Beta' 'Alpha' 'Gamma' 'Alpha' 'Gamma' 'Beta'\n",
      " 'Gamma' 'Gamma' 'Alpha' 'Gamma' 'Gamma' 'Alpha' 'Gamma' 'Alpha' 'Beta'\n",
      " 'Gamma' 'Alpha' 'Alpha' 'Beta' 'Alpha' 'Alpha' 'Beta' 'Gamma' 'Gamma'\n",
      " 'Beta' 'Beta' 'Alpha' 'Alpha' 'Beta' 'Alpha' 'Gamma' 'Gamma' 'Beta'\n",
      " 'Gamma' 'Gamma' 'Beta' 'Beta' 'Beta' 'Gamma' 'Gamma' 'Alpha' 'Beta'\n",
      " 'Beta' 'Alpha' 'Alpha' 'Alpha' 'Beta' 'Beta' 'Alpha' 'Gamma' 'Beta'\n",
      " 'Alpha' 'Beta' 'Gamma' 'Beta' 'Beta' 'Gamma' 'Alpha' 'Beta' 'Alpha'\n",
      " 'Alpha' 'Alpha' 'Gamma' 'Beta' 'Alpha' 'Gamma' 'Alpha' 'Alpha' 'Alpha'\n",
      " 'Alpha' 'Alpha' 'Gamma' 'Beta' 'Alpha' 'Alpha' 'Beta' 'Gamma' 'Beta'\n",
      " 'Beta' 'Beta' 'Beta' 'Alpha' 'Beta' 'Gamma' 'Beta' 'Alpha' 'Beta' 'Gamma'\n",
      " 'Alpha' 'Alpha' 'Alpha' 'Beta' 'Alpha' 'Beta' 'Alpha' 'Alpha' 'Alpha'\n",
      " 'Alpha' 'Gamma' 'Gamma' 'Gamma' 'Alpha' 'Beta' 'Gamma' 'Gamma' 'Beta'\n",
      " 'Alpha' 'Gamma' 'Alpha' 'Beta' 'Gamma' 'Alpha' 'Beta' 'Beta' 'Alpha'\n",
      " 'Beta' 'Beta' 'Beta' 'Gamma' 'Alpha' 'Gamma' 'Beta' 'Gamma' 'Beta'\n",
      " 'Gamma' 'Gamma' 'Gamma' 'Alpha' 'Gamma' 'Gamma' 'Gamma' 'Gamma' 'Gamma'\n",
      " 'Gamma' 'Alpha' 'Alpha' 'Alpha' 'Beta' 'Beta' 'Gamma' 'Beta' 'Gamma'\n",
      " 'Beta' 'Gamma' 'Alpha' 'Gamma' 'Alpha' 'Beta' 'Beta' 'Gamma' 'Gamma'\n",
      " 'Alpha' 'Alpha' 'Alpha' 'Gamma' 'Beta' 'Alpha' 'Beta' 'Gamma' 'Gamma'\n",
      " 'Beta' 'Alpha' 'Gamma' 'Beta' 'Gamma' 'Beta' 'Alpha' 'Beta' 'Beta'\n",
      " 'Gamma' 'Alpha' 'Beta' 'Gamma' 'Beta' 'Beta' 'Gamma' 'Beta' 'Alpha'\n",
      " 'Beta' 'Alpha' 'Gamma' 'Beta' 'Alpha' 'Beta' 'Beta' 'Gamma' 'Alpha'\n",
      " 'Beta' 'Alpha' 'Alpha' 'Gamma' 'Alpha' 'Beta' 'Gamma' 'Gamma' 'Alpha'\n",
      " 'Alpha' 'Alpha' 'Gamma' 'Beta' 'Gamma' 'Beta' 'Gamma' 'Alpha' 'Beta'\n",
      " 'Beta' 'Beta' 'Alpha' 'Beta' 'Alpha' 'Alpha' 'Beta' 'Beta' 'Gamma'\n",
      " 'Alpha' 'Beta' 'Gamma' 'Alpha' 'Alpha' 'Alpha' 'Beta' 'Gamma' 'Gamma'\n",
      " 'Beta' 'Gamma' 'Gamma' 'Beta' 'Beta' 'Alpha' 'Alpha' 'Beta' 'Alpha'\n",
      " 'Beta' 'Gamma' 'Gamma' 'Gamma' 'Beta' 'Beta' 'Beta' 'Beta' 'Beta' 'Gamma'\n",
      " 'Gamma' 'Alpha' 'Gamma' 'Gamma' 'Beta' 'Beta' 'Beta' 'Alpha' 'Beta'\n",
      " 'Gamma' 'Beta' 'Beta' 'Beta' 'Gamma' 'Alpha' 'Beta' 'Beta' 'Gamma'\n",
      " 'Alpha' 'Alpha' 'Alpha' 'Beta' 'Alpha' 'Alpha' 'Gamma' 'Gamma' 'Alpha'\n",
      " 'Alpha' 'Gamma' 'Beta' 'Gamma' 'Alpha' 'Gamma' 'Gamma' 'Gamma' 'Gamma'\n",
      " 'Alpha' 'Gamma' 'Gamma' 'Alpha' 'Alpha' 'Gamma' 'Beta' 'Alpha' 'Beta'\n",
      " 'Alpha' 'Gamma' 'Beta' 'Alpha' 'Gamma' 'Alpha' 'Alpha' 'Alpha' 'Alpha'\n",
      " 'Alpha' 'Alpha' 'Beta' 'Gamma' 'Beta' 'Beta' 'Gamma' 'Alpha' 'Alpha'\n",
      " 'Gamma' 'Alpha' 'Beta' 'Alpha' 'Gamma' 'Alpha' 'Gamma' 'Gamma' 'Alpha'\n",
      " 'Alpha' 'Beta' 'Beta' 'Beta' 'Alpha' 'Gamma' 'Beta' 'Beta' 'Beta' 'Beta'\n",
      " 'Alpha' 'Alpha' 'Gamma' 'Beta' 'Beta' 'Beta' 'Beta' 'Beta' 'Alpha'\n",
      " 'Alpha' 'Beta' 'Beta' 'Beta' 'Beta' 'Gamma' 'Gamma' 'Gamma' 'Gamma'\n",
      " 'Alpha' 'Alpha' 'Gamma' 'Gamma' 'Gamma' 'Gamma' 'Alpha' 'Beta' 'Beta'\n",
      " 'Gamma' 'Alpha' 'Alpha' 'Alpha' 'Beta' 'Alpha' 'Beta' 'Beta' 'Beta'\n",
      " 'Beta' 'Gamma' 'Beta' 'Alpha' 'Beta' 'Alpha' 'Gamma' 'Gamma' 'Alpha'\n",
      " 'Alpha' 'Gamma' 'Alpha' 'Alpha' 'Beta' 'Gamma' 'Alpha' 'Gamma' 'Gamma'\n",
      " 'Beta' 'Alpha' 'Gamma' 'Beta' 'Gamma' 'Gamma' 'Alpha' 'Gamma' 'Gamma'\n",
      " 'Gamma' 'Beta' 'Gamma' 'Beta' 'Gamma' 'Alpha' 'Beta' 'Gamma' 'Beta'\n",
      " 'Alpha' 'Alpha' 'Beta' 'Beta' 'Alpha' 'Alpha' 'Alpha' 'Beta' 'Beta'\n",
      " 'Gamma' 'Beta' 'Gamma' 'Beta' 'Alpha' 'Gamma' 'Beta' 'Gamma' 'Gamma'\n",
      " 'Alpha' 'Gamma' 'Alpha' 'Beta' 'Alpha' 'Gamma' 'Gamma' 'Beta' 'Alpha'\n",
      " 'Alpha' 'Gamma' 'Beta' 'Alpha' 'Gamma' 'Alpha' 'Alpha' 'Beta' 'Beta'\n",
      " 'Gamma' 'Gamma' 'Alpha' 'Gamma' 'Gamma' 'Beta' 'Beta' 'Gamma' 'Alpha'\n",
      " 'Alpha' 'Beta' 'Alpha' 'Alpha' 'Alpha' 'Gamma' 'Alpha' 'Beta' 'Beta'\n",
      " 'Beta' 'Gamma' 'Gamma' 'Gamma' 'Alpha' 'Alpha' 'Alpha' 'Gamma' 'Alpha'\n",
      " 'Beta' 'Beta' 'Gamma' 'Gamma' 'Beta' 'Gamma' 'Gamma' 'Alpha' 'Beta'\n",
      " 'Beta' 'Beta' 'Gamma' 'Alpha' 'Alpha' 'Beta' 'Gamma' 'Gamma' 'Alpha'\n",
      " 'Beta' 'Alpha' 'Gamma' 'Alpha' 'Beta' 'Beta' 'Gamma' 'Gamma' 'Alpha'\n",
      " 'Beta' 'Alpha' 'Beta' 'Beta' 'Gamma' 'Gamma' 'Gamma' 'Gamma' 'Gamma'\n",
      " 'Beta' 'Beta' 'Beta' 'Gamma' 'Beta' 'Alpha' 'Alpha' 'Alpha' 'Beta'\n",
      " 'Alpha' 'Beta' 'Beta' 'Beta' 'Gamma' 'Beta' 'Gamma' 'Alpha' 'Gamma'\n",
      " 'Gamma' 'Gamma' 'Gamma' 'Beta' 'Beta' 'Beta' 'Beta' 'Beta' 'Gamma' 'Beta'\n",
      " 'Alpha' 'Gamma' 'Beta' 'Alpha' 'Gamma' 'Beta' 'Alpha' 'Gamma' 'Gamma'\n",
      " 'Gamma' 'Beta' 'Beta' 'Gamma' 'Beta' 'Beta' 'Gamma' 'Gamma' 'Gamma'\n",
      " 'Beta' 'Alpha' 'Beta' 'Gamma' 'Gamma' 'Alpha' 'Alpha' 'Alpha' 'Beta'\n",
      " 'Beta' 'Alpha' 'Alpha' 'Gamma' 'Alpha' 'Gamma' 'Beta' 'Gamma' 'Beta'\n",
      " 'Gamma' 'Beta' 'Gamma' 'Alpha' 'Beta' 'Beta' 'Gamma' 'Alpha' 'Beta'\n",
      " 'Beta' 'Alpha' 'Alpha' 'Alpha' 'Beta' 'Alpha' 'Beta' 'Beta' 'Gamma'\n",
      " 'Beta' 'Beta' 'Gamma' 'Gamma' 'Gamma' 'Gamma' 'Alpha' 'Beta' 'Gamma'\n",
      " 'Alpha' 'Alpha' 'Alpha' 'Beta' 'Alpha' 'Beta' 'Gamma' 'Beta' 'Beta'\n",
      " 'Alpha' 'Gamma' 'Beta' 'Beta' 'Alpha' 'Gamma' 'Alpha' 'Alpha' 'Gamma'\n",
      " 'Gamma' 'Alpha' 'Alpha' 'Alpha' 'Beta' 'Beta' 'Beta' 'Gamma' 'Alpha'\n",
      " 'Beta' 'Beta' 'Beta' 'Alpha' 'Alpha' 'Beta' 'Alpha' 'Alpha' 'Beta'\n",
      " 'Alpha' 'Alpha' 'Beta' 'Alpha' 'Gamma' 'Alpha' 'Beta' 'Gamma' 'Beta'\n",
      " 'Alpha' 'Beta' 'Alpha' 'Gamma' 'Gamma' 'Beta' 'Beta' 'Gamma' 'Gamma'\n",
      " 'Gamma' 'Beta' 'Gamma' 'Alpha' 'Alpha' 'Gamma' 'Alpha' 'Gamma' 'Beta'\n",
      " 'Gamma' 'Alpha' 'Beta' 'Beta' 'Beta' 'Beta' 'Alpha' 'Gamma' 'Gamma'\n",
      " 'Alpha' 'Alpha' 'Beta' 'Gamma' 'Beta' 'Beta' 'Gamma' 'Gamma' 'Beta'\n",
      " 'Gamma' 'Alpha' 'Alpha' 'Alpha' 'Gamma' 'Gamma' 'Beta' 'Alpha' 'Beta'\n",
      " 'Alpha' 'Gamma' 'Alpha' 'Gamma' 'Beta' 'Beta' 'Alpha' 'Alpha' 'Gamma'\n",
      " 'Beta' 'Gamma' 'Alpha' 'Beta' 'Alpha' 'Gamma' 'Beta' 'Beta' 'Alpha'\n",
      " 'Alpha' 'Gamma' 'Alpha' 'Gamma' 'Beta' 'Gamma' 'Beta' 'Beta' 'Alpha'\n",
      " 'Beta' 'Gamma' 'Alpha' 'Alpha' 'Gamma' 'Beta' 'Gamma' 'Alpha' 'Beta'\n",
      " 'Alpha' 'Alpha' 'Gamma' 'Alpha' 'Gamma' 'Alpha' 'Gamma' 'Alpha' 'Gamma'\n",
      " 'Gamma' 'Gamma' 'Alpha' 'Alpha' 'Alpha' 'Gamma' 'Alpha' 'Gamma' 'Beta'\n",
      " 'Beta' 'Gamma' 'Alpha' 'Alpha' 'Beta' 'Alpha' 'Alpha' 'Alpha' 'Gamma'\n",
      " 'Alpha' 'Gamma' 'Gamma' 'Gamma' 'Gamma' 'Alpha' 'Alpha' 'Beta' 'Gamma'\n",
      " 'Beta' 'Beta' 'Alpha' 'Alpha' 'Alpha' 'Beta' 'Beta' 'Beta' 'Beta' 'Beta'\n",
      " 'Beta' 'Gamma' 'Beta' 'Gamma' 'Beta' 'Beta' 'Gamma' 'Gamma' 'Gamma'\n",
      " 'Beta' 'Beta' 'Beta' 'Gamma' 'Gamma' 'Alpha' 'Alpha' 'Beta' 'Alpha'\n",
      " 'Gamma' 'Alpha' 'Beta' 'Gamma' 'Alpha' 'Alpha' 'Beta' 'Alpha' 'Alpha'\n",
      " 'Alpha' 'Gamma' 'Beta' 'Gamma' 'Beta' 'Beta' 'Gamma' 'Gamma' 'Gamma'\n",
      " 'Beta' 'Beta' 'Beta' 'Beta' 'Gamma' 'Alpha' 'Gamma' 'Alpha' 'Gamma'\n",
      " 'Alpha' 'Alpha' 'Beta' 'Alpha' 'Gamma' 'Gamma' 'Gamma' 'Alpha' 'Alpha'\n",
      " 'Gamma' 'Gamma' 'Alpha' 'Gamma' 'Alpha' 'Gamma' 'Gamma' 'Alpha' 'Gamma'\n",
      " 'Alpha' 'Alpha' 'Gamma' 'Beta' 'Beta' 'Beta' 'Beta' 'Alpha' 'Beta'\n",
      " 'Alpha' 'Alpha' 'Beta' 'Alpha' 'Beta' 'Alpha' 'Gamma' 'Beta' 'Alpha'\n",
      " 'Alpha' 'Gamma' 'Beta' 'Alpha' 'Beta' 'Beta' 'Alpha' 'Gamma' 'Beta'\n",
      " 'Beta' 'Alpha' 'Gamma' 'Alpha' 'Alpha' 'Beta' 'Alpha' 'Gamma' 'Beta'\n",
      " 'Alpha' 'Gamma' 'Alpha' 'Gamma' 'Gamma' 'Gamma' 'Gamma' 'Alpha' 'Alpha'\n",
      " 'Alpha' 'Beta' 'Gamma' 'Gamma' 'Gamma' 'Alpha' 'Alpha' 'Alpha' 'Beta'\n",
      " 'Gamma' 'Gamma' 'Gamma' 'Gamma' 'Beta' 'Alpha' 'Gamma' 'Gamma' 'Alpha'\n",
      " 'Alpha' 'Gamma' 'Alpha' 'Gamma' 'Gamma' 'Beta' 'Gamma' 'Alpha' 'Gamma'\n",
      " 'Alpha' 'Beta' 'Beta' 'Beta' 'Gamma' 'Alpha' 'Alpha' 'Beta' 'Gamma'\n",
      " 'Gamma' 'Gamma' 'Alpha' 'Beta' 'Beta' 'Gamma' 'Alpha' 'Alpha' 'Gamma'\n",
      " 'Alpha' 'Gamma' 'Beta' 'Alpha' 'Alpha' 'Beta' 'Gamma' 'Beta' 'Beta'\n",
      " 'Beta' 'Gamma' 'Beta' 'Alpha' 'Alpha' 'Beta' 'Gamma' 'Alpha' 'Beta'\n",
      " 'Alpha' 'Beta' 'Beta' 'Beta' 'Alpha' 'Gamma' 'Gamma' 'Alpha' 'Gamma'\n",
      " 'Gamma' 'Beta' 'Alpha' 'Beta']\n",
      "___\n"
     ]
    },
    {
     "name": "stdout",
     "output_type": "stream",
     "text": [
      "['Beta' 'Gamma' 'Alpha' 'Beta' 'Gamma' 'Beta' 'Gamma' 'Alpha' 'Gamma'\n",
      " 'Beta' 'Alpha' 'Gamma' 'Alpha' 'Beta' 'Gamma' 'Alpha' 'Gamma' 'Beta'\n",
      " 'Gamma' 'Alpha' 'Alpha' 'Beta' 'Beta' 'Beta' 'Alpha' 'Beta' 'Gamma'\n",
      " 'Alpha' 'Alpha' 'Alpha' 'Alpha' 'Gamma' 'Alpha' 'Gamma' 'Beta' 'Alpha'\n",
      " 'Beta' 'Alpha' 'Alpha' 'Gamma' 'Beta' 'Beta' 'Alpha' 'Beta' 'Gamma'\n",
      " 'Beta' 'Gamma' 'Beta' 'Alpha' 'Gamma' 'Gamma' 'Beta' 'Beta' 'Beta'\n",
      " 'Alpha' 'Alpha' 'Alpha' 'Gamma' 'Gamma' 'Beta' 'Alpha' 'Alpha' 'Alpha'\n",
      " 'Beta' 'Alpha' 'Gamma' 'Alpha' 'Gamma' 'Beta' 'Beta' 'Gamma' 'Alpha'\n",
      " 'Alpha' 'Gamma' 'Beta' 'Gamma' 'Alpha' 'Alpha' 'Gamma' 'Gamma' 'Gamma'\n",
      " 'Alpha' 'Alpha' 'Beta' 'Alpha' 'Gamma' 'Alpha' 'Alpha' 'Beta' 'Gamma'\n",
      " 'Beta' 'Gamma' 'Gamma' 'Beta' 'Alpha' 'Gamma' 'Gamma' 'Gamma' 'Beta'\n",
      " 'Alpha' 'Gamma' 'Beta' 'Gamma' 'Beta' 'Alpha' 'Gamma' 'Alpha' 'Beta'\n",
      " 'Alpha' 'Gamma' 'Beta' 'Alpha' 'Beta' 'Beta' 'Alpha' 'Gamma' 'Beta'\n",
      " 'Alpha' 'Gamma' 'Gamma' 'Gamma' 'Beta' 'Alpha' 'Alpha' 'Gamma' 'Alpha'\n",
      " 'Gamma' 'Alpha' 'Beta' 'Alpha' 'Gamma' 'Beta' 'Alpha' 'Alpha' 'Gamma'\n",
      " 'Beta' 'Alpha' 'Gamma' 'Alpha' 'Gamma' 'Beta' 'Alpha' 'Beta' 'Alpha'\n",
      " 'Beta' 'Beta' 'Beta' 'Alpha' 'Beta' 'Beta' 'Beta' 'Gamma' 'Gamma' 'Alpha'\n",
      " 'Beta' 'Alpha' 'Beta' 'Alpha' 'Gamma' 'Beta' 'Gamma' 'Alpha' 'Alpha'\n",
      " 'Gamma' 'Alpha' 'Alpha' 'Gamma' 'Alpha' 'Gamma' 'Gamma' 'Beta' 'Gamma'\n",
      " 'Beta' 'Beta' 'Alpha' 'Beta' 'Alpha' 'Gamma' 'Alpha' 'Alpha' 'Beta'\n",
      " 'Alpha' 'Alpha' 'Alpha' 'Gamma' 'Beta' 'Gamma' 'Gamma' 'Beta' 'Beta'\n",
      " 'Beta' 'Beta' 'Beta' 'Alpha' 'Alpha' 'Alpha' 'Gamma' 'Alpha' 'Gamma'\n",
      " 'Gamma' 'Gamma' 'Gamma' 'Beta' 'Beta' 'Beta' 'Beta' 'Beta' 'Gamma' 'Beta'\n",
      " 'Alpha' 'Alpha' 'Gamma' 'Alpha' 'Alpha' 'Beta' 'Gamma' 'Alpha' 'Gamma'\n",
      " 'Alpha' 'Gamma' 'Alpha' 'Alpha' 'Gamma' 'Alpha' 'Alpha' 'Gamma' 'Beta'\n",
      " 'Beta' 'Alpha' 'Beta' 'Alpha' 'Gamma' 'Beta' 'Beta' 'Beta' 'Gamma'\n",
      " 'Gamma' 'Beta' 'Gamma' 'Beta' 'Beta' 'Alpha' 'Alpha' 'Gamma' 'Beta'\n",
      " 'Gamma' 'Beta' 'Alpha' 'Alpha' 'Gamma' 'Gamma' 'Gamma' 'Alpha' 'Beta'\n",
      " 'Gamma' 'Alpha' 'Gamma' 'Beta' 'Gamma' 'Beta' 'Gamma' 'Beta' 'Alpha'\n",
      " 'Alpha' 'Gamma' 'Beta' 'Gamma' 'Gamma' 'Beta' 'Beta' 'Alpha' 'Beta'\n",
      " 'Gamma' 'Alpha' 'Beta' 'Alpha' 'Beta' 'Gamma' 'Beta' 'Beta' 'Gamma'\n",
      " 'Gamma' 'Beta' 'Gamma' 'Gamma' 'Beta' 'Beta' 'Beta' 'Alpha' 'Alpha'\n",
      " 'Gamma' 'Beta' 'Gamma' 'Alpha' 'Alpha' 'Gamma' 'Beta' 'Beta' 'Gamma'\n",
      " 'Alpha' 'Beta' 'Beta' 'Beta' 'Beta' 'Gamma' 'Alpha' 'Gamma' 'Gamma'\n",
      " 'Beta' 'Gamma' 'Gamma' 'Beta' 'Alpha' 'Beta' 'Alpha' 'Beta' 'Alpha'\n",
      " 'Beta' 'Gamma' 'Beta' 'Alpha' 'Gamma' 'Alpha' 'Gamma' 'Beta' 'Beta'\n",
      " 'Alpha' 'Alpha' 'Beta' 'Alpha' 'Beta' 'Gamma' 'Gamma' 'Beta' 'Beta'\n",
      " 'Gamma' 'Beta' 'Alpha' 'Gamma' 'Alpha' 'Alpha' 'Beta' 'Gamma' 'Beta'\n",
      " 'Beta' 'Alpha' 'Beta' 'Alpha' 'Alpha' 'Alpha' 'Alpha' 'Alpha' 'Gamma'\n",
      " 'Alpha' 'Alpha' 'Beta' 'Alpha' 'Beta' 'Alpha' 'Alpha' 'Alpha' 'Gamma'\n",
      " 'Gamma' 'Gamma' 'Alpha' 'Beta' 'Beta' 'Beta' 'Beta' 'Gamma' 'Alpha'\n",
      " 'Gamma' 'Alpha' 'Alpha' 'Beta' 'Gamma' 'Gamma' 'Beta' 'Alpha' 'Beta'\n",
      " 'Gamma' 'Alpha' 'Alpha' 'Beta' 'Alpha' 'Gamma' 'Alpha' 'Alpha' 'Beta'\n",
      " 'Alpha' 'Gamma' 'Beta' 'Alpha' 'Alpha' 'Alpha' 'Gamma' 'Beta' 'Beta'\n",
      " 'Gamma' 'Alpha' 'Gamma' 'Beta' 'Alpha' 'Alpha' 'Alpha' 'Alpha' 'Alpha'\n",
      " 'Alpha' 'Alpha' 'Gamma' 'Alpha' 'Gamma' 'Beta' 'Gamma' 'Beta' 'Beta'\n",
      " 'Alpha' 'Gamma' 'Beta' 'Beta' 'Gamma' 'Beta' 'Gamma' 'Beta' 'Beta' 'Beta'\n",
      " 'Beta' 'Beta' 'Gamma' 'Gamma' 'Beta' 'Beta' 'Beta' 'Gamma' 'Alpha'\n",
      " 'Alpha' 'Alpha' 'Alpha' 'Beta' 'Gamma' 'Gamma' 'Beta' 'Alpha' 'Alpha'\n",
      " 'Gamma' 'Beta' 'Gamma' 'Beta' 'Alpha' 'Beta' 'Beta' 'Alpha' 'Gamma'\n",
      " 'Alpha' 'Alpha' 'Gamma' 'Gamma' 'Alpha' 'Alpha' 'Alpha' 'Alpha' 'Gamma'\n",
      " 'Gamma' 'Gamma' 'Beta' 'Beta' 'Beta' 'Beta' 'Alpha' 'Alpha' 'Beta' 'Beta'\n",
      " 'Beta' 'Gamma' 'Gamma' 'Alpha' 'Gamma' 'Alpha' 'Beta' 'Gamma' 'Gamma'\n",
      " 'Beta' 'Alpha' 'Beta' 'Alpha' 'Beta' 'Gamma' 'Beta' 'Gamma' 'Gamma'\n",
      " 'Alpha' 'Alpha' 'Alpha' 'Beta' 'Alpha' 'Beta' 'Alpha' 'Beta' 'Gamma'\n",
      " 'Alpha' 'Beta' 'Alpha' 'Alpha' 'Gamma' 'Alpha' 'Alpha' 'Gamma' 'Beta'\n",
      " 'Beta' 'Gamma' 'Gamma' 'Gamma' 'Alpha' 'Gamma' 'Alpha' 'Beta' 'Gamma'\n",
      " 'Gamma' 'Gamma' 'Gamma' 'Gamma' 'Gamma' 'Alpha' 'Gamma' 'Gamma' 'Beta'\n",
      " 'Alpha' 'Gamma' 'Alpha' 'Alpha' 'Alpha' 'Gamma' 'Beta' 'Alpha' 'Alpha'\n",
      " 'Gamma' 'Alpha' 'Beta' 'Alpha' 'Beta' 'Alpha' 'Beta' 'Gamma' 'Alpha'\n",
      " 'Alpha' 'Beta' 'Alpha' 'Alpha' 'Gamma' 'Gamma' 'Gamma' 'Alpha' 'Beta'\n",
      " 'Gamma' 'Alpha' 'Beta' 'Beta' 'Beta' 'Beta' 'Alpha' 'Alpha' 'Alpha'\n",
      " 'Beta' 'Alpha' 'Alpha' 'Beta' 'Beta' 'Beta' 'Beta' 'Alpha' 'Alpha' 'Beta'\n",
      " 'Alpha' 'Gamma' 'Beta' 'Alpha' 'Beta' 'Beta' 'Alpha' 'Gamma' 'Beta'\n",
      " 'Beta' 'Beta' 'Gamma' 'Beta' 'Beta' 'Gamma' 'Gamma' 'Gamma' 'Alpha'\n",
      " 'Beta' 'Gamma' 'Beta' 'Alpha' 'Gamma' 'Beta' 'Alpha' 'Gamma' 'Gamma'\n",
      " 'Beta' 'Beta' 'Gamma' 'Beta' 'Gamma' 'Gamma' 'Beta' 'Alpha' 'Beta'\n",
      " 'Alpha' 'Alpha' 'Alpha' 'Gamma' 'Alpha' 'Alpha' 'Alpha' 'Alpha' 'Beta'\n",
      " 'Beta' 'Beta' 'Beta' 'Gamma' 'Beta' 'Gamma' 'Alpha' 'Gamma' 'Beta'\n",
      " 'Alpha' 'Alpha' 'Beta' 'Gamma' 'Gamma' 'Beta' 'Gamma' 'Beta' 'Gamma'\n",
      " 'Alpha' 'Gamma' 'Beta' 'Alpha' 'Beta' 'Gamma' 'Gamma' 'Alpha' 'Alpha'\n",
      " 'Alpha' 'Beta' 'Gamma' 'Alpha' 'Gamma' 'Gamma' 'Beta' 'Alpha' 'Alpha'\n",
      " 'Beta' 'Beta' 'Alpha' 'Alpha' 'Alpha' 'Alpha' 'Beta' 'Alpha' 'Beta'\n",
      " 'Gamma' 'Gamma' 'Gamma' 'Alpha' 'Beta' 'Alpha' 'Beta' 'Beta' 'Alpha'\n",
      " 'Beta' 'Alpha' 'Beta' 'Gamma' 'Alpha' 'Gamma' 'Beta' 'Gamma' 'Beta'\n",
      " 'Beta' 'Gamma' 'Beta' 'Gamma' 'Gamma' 'Beta' 'Gamma' 'Gamma' 'Alpha'\n",
      " 'Alpha' 'Gamma' 'Alpha' 'Beta' 'Beta' 'Alpha' 'Alpha' 'Gamma' 'Beta'\n",
      " 'Alpha' 'Gamma' 'Alpha' 'Beta' 'Beta' 'Beta' 'Gamma' 'Alpha' 'Alpha'\n",
      " 'Beta' 'Alpha' 'Beta' 'Alpha' 'Gamma' 'Beta' 'Alpha' 'Beta' 'Beta'\n",
      " 'Gamma' 'Beta' 'Alpha' 'Gamma' 'Alpha' 'Alpha' 'Alpha' 'Beta' 'Beta'\n",
      " 'Alpha' 'Gamma' 'Gamma' 'Beta' 'Beta' 'Gamma' 'Beta' 'Alpha' 'Alpha'\n",
      " 'Alpha' 'Gamma' 'Alpha' 'Alpha' 'Alpha' 'Gamma' 'Gamma' 'Alpha' 'Beta'\n",
      " 'Beta' 'Alpha' 'Alpha' 'Alpha' 'Gamma' 'Alpha' 'Gamma' 'Alpha' 'Beta'\n",
      " 'Gamma' 'Gamma' 'Alpha' 'Gamma' 'Gamma' 'Gamma' 'Beta' 'Beta' 'Alpha'\n",
      " 'Beta' 'Beta' 'Gamma' 'Beta' 'Alpha' 'Beta' 'Beta' 'Alpha' 'Alpha'\n",
      " 'Alpha' 'Alpha' 'Alpha' 'Gamma' 'Gamma' 'Alpha' 'Gamma' 'Beta' 'Gamma'\n",
      " 'Gamma' 'Alpha' 'Beta' 'Alpha' 'Alpha' 'Beta' 'Beta' 'Alpha' 'Alpha'\n",
      " 'Gamma' 'Beta' 'Beta' 'Gamma' 'Beta' 'Beta' 'Alpha' 'Gamma' 'Alpha'\n",
      " 'Alpha' 'Beta' 'Beta' 'Gamma' 'Beta' 'Beta' 'Alpha' 'Gamma' 'Beta' 'Beta'\n",
      " 'Alpha' 'Gamma' 'Gamma' 'Beta' 'Gamma' 'Gamma' 'Gamma' 'Gamma' 'Beta'\n",
      " 'Beta' 'Gamma' 'Alpha' 'Gamma' 'Gamma' 'Gamma' 'Gamma' 'Gamma' 'Gamma'\n",
      " 'Gamma' 'Beta' 'Beta' 'Alpha' 'Gamma' 'Beta' 'Gamma' 'Beta' 'Beta'\n",
      " 'Alpha' 'Gamma' 'Gamma' 'Alpha' 'Beta' 'Gamma' 'Beta' 'Gamma' 'Gamma'\n",
      " 'Alpha' 'Alpha' 'Gamma' 'Alpha' 'Alpha' 'Gamma' 'Gamma' 'Gamma' 'Alpha'\n",
      " 'Gamma' 'Gamma' 'Alpha' 'Beta' 'Alpha' 'Beta' 'Gamma' 'Beta' 'Gamma'\n",
      " 'Beta' 'Beta' 'Gamma' 'Alpha' 'Beta' 'Gamma' 'Alpha' 'Alpha' 'Beta'\n",
      " 'Alpha' 'Alpha' 'Alpha' 'Beta' 'Gamma' 'Beta' 'Alpha' 'Beta' 'Beta'\n",
      " 'Beta' 'Alpha' 'Gamma' 'Gamma' 'Beta' 'Gamma' 'Gamma' 'Gamma' 'Gamma'\n",
      " 'Alpha' 'Beta' 'Beta' 'Alpha' 'Alpha' 'Beta' 'Alpha' 'Beta' 'Beta'\n",
      " 'Alpha' 'Gamma' 'Gamma' 'Alpha' 'Gamma' 'Alpha' 'Alpha' 'Gamma' 'Gamma'\n",
      " 'Gamma' 'Alpha' 'Alpha' 'Beta' 'Alpha' 'Beta' 'Gamma' 'Beta' 'Gamma'\n",
      " 'Beta' 'Alpha' 'Gamma' 'Alpha' 'Gamma' 'Gamma' 'Gamma' 'Beta' 'Beta'\n",
      " 'Gamma' 'Alpha' 'Gamma' 'Alpha' 'Beta' 'Beta' 'Beta' 'Gamma' 'Beta'\n",
      " 'Gamma' 'Alpha' 'Alpha' 'Gamma' 'Beta' 'Alpha' 'Alpha' 'Alpha' 'Beta'\n",
      " 'Beta' 'Alpha' 'Beta' 'Alpha' 'Gamma' 'Beta' 'Beta' 'Alpha' 'Beta'\n",
      " 'Alpha' 'Gamma' 'Gamma' 'Gamma' 'Alpha' 'Alpha' 'Alpha' 'Gamma' 'Gamma'\n",
      " 'Gamma' 'Alpha' 'Beta' 'Gamma' 'Beta' 'Beta' 'Gamma' 'Beta' 'Beta'\n",
      " 'Alpha' 'Alpha' 'Beta' 'Gamma' 'Gamma' 'Beta' 'Alpha' 'Beta' 'Alpha'\n",
      " 'Alpha' 'Alpha' 'Beta' 'Gamma' 'Gamma' 'Alpha']\n",
      "___\n"
     ]
    },
    {
     "data": {
      "text/html": [
       "<div>\n",
       "<style scoped>\n",
       "    .dataframe tbody tr th:only-of-type {\n",
       "        vertical-align: middle;\n",
       "    }\n",
       "\n",
       "    .dataframe tbody tr th {\n",
       "        vertical-align: top;\n",
       "    }\n",
       "\n",
       "    .dataframe thead th {\n",
       "        text-align: right;\n",
       "    }\n",
       "</style>\n",
       "<table border=\"1\" class=\"dataframe\">\n",
       "  <thead>\n",
       "    <tr style=\"text-align: right;\">\n",
       "      <th></th>\n",
       "      <th>MODEL</th>\n",
       "      <th>SCORE</th>\n",
       "    </tr>\n",
       "  </thead>\n",
       "  <tbody>\n",
       "    <tr>\n",
       "      <th>0</th>\n",
       "      <td>ADAC_DEFAULT</td>\n",
       "      <td>0.982825</td>\n",
       "    </tr>\n",
       "    <tr>\n",
       "      <th>1</th>\n",
       "      <td>ADAC_UNDER-S</td>\n",
       "      <td>0.948928</td>\n",
       "    </tr>\n",
       "    <tr>\n",
       "      <th>2</th>\n",
       "      <td>ADAC_OVER-S</td>\n",
       "      <td>0.990153</td>\n",
       "    </tr>\n",
       "    <tr>\n",
       "      <th>3</th>\n",
       "      <td>ADAC_SMOTE</td>\n",
       "      <td>0.993898</td>\n",
       "    </tr>\n",
       "  </tbody>\n",
       "</table>\n",
       "</div>"
      ],
      "text/plain": [
       "          MODEL     SCORE\n",
       "0  ADAC_DEFAULT  0.982825\n",
       "1  ADAC_UNDER-S  0.948928\n",
       "2   ADAC_OVER-S  0.990153\n",
       "3    ADAC_SMOTE  0.993898"
      ]
     },
     "execution_count": 340,
     "metadata": {},
     "output_type": "execute_result"
    }
   ],
   "source": [
    "# selector = RFE(estimator=SVR(),n_features_to_select=4,step=1,verbose=True)\n",
    "sc      = StandardScaler()\n",
    "model    = GradientBoostingClassifier(n_estimators=10,random_state=0 )  \n",
    "pipeline = Pipeline([(\"SC\",sc),(\"MODEL\",model) ] )\n",
    "scores3  = getScores(pipeline = pipeline,prefix=\"ADAC\")  \n",
    "scores3  = P.DataFrame(scores3,columns=[\"MODEL\",\"SCORE\"])\n",
    "scores3"
   ]
  },
  {
   "cell_type": "code",
   "execution_count": 218,
   "id": "judicial-volunteer",
   "metadata": {},
   "outputs": [
    {
     "data": {
      "image/png": "[encoded data removed]",
      "text/plain": [
       "<Figure size 720x504 with 1 Axes>"
      ]
     },
     "metadata": {
      "needs_background": "light"
     },
     "output_type": "display_data"
    }
   ],
   "source": [
    "_,ax= M.subplots(figsize=(10,7))\n",
    "bars = SB.barplot(data=scores3,x=\"MODEL\",y=\"SCORE\",ax=ax,color=\"black\")\n",
    "annotateBarPlot(bars,color =\"white\",fontsize=30)"
   ]
  },
  {
   "cell_type": "markdown",
   "id": "animated-employment",
   "metadata": {},
   "source": [
    "## Utils"
   ]
  },
  {
   "cell_type": "code",
   "execution_count": 57,
   "id": "further-moldova",
   "metadata": {},
   "outputs": [],
   "source": [
    "def annotateBarPlot(plots,**kwargs):\n",
    "    for bar in plots.patches:\n",
    "        plots.annotate(format(bar.get_height(), '.2f'),\n",
    "                       (bar.get_x() + bar.get_width() / 2,\n",
    "                        bar.get_y() + bar.get_height() /2 ), ha='center', va='center',\n",
    "                       size=15, xytext=(0, 8),textcoords='offset points', **kwargs)\n",
    "def getScores(**kwargs):\n",
    "    scores0 = []\n",
    "    data     = kwargs.get('data',zip(X_trains,y_trains,X_tests,y_tests))\n",
    "    pipeline = kwargs.get('pipeline',None)\n",
    "    prefix   = kwargs.get(\"prefix\",\"RF\")\n",
    "    cv       = RepeatedStratifiedKFold(n_splits=10, n_repeats=3, random_state=1)\n",
    "    for i,(X_train,y_train,X_test,y_test) in enumerate(data):\n",
    "#         print(y_train )\n",
    "#         print(\"_\"*3)\n",
    "        n_scores = cross_val_score(pipeline, \n",
    "                                   X_train, y_train, \n",
    "                                   scoring     ='accuracy',\n",
    "                                   cv          = cv, \n",
    "                                   n_jobs      = 6, \n",
    "                                   error_score ='raise'\n",
    "                                  )\n",
    "        mean_score = N.mean(n_scores)\n",
    "        std_score  = N.std(n_scores) \n",
    "        score = (\"{}_{}\".format(prefix,MODEL_NAMES[i]), mean_score)\n",
    "        scores0.append(score)\n",
    "    return scores0\n",
    "# getScores(pipeline=pipeline)"
   ]
  },
  {
   "cell_type": "code",
   "execution_count": 630,
   "id": "processed-thirty",
   "metadata": {},
   "outputs": [
    {
     "data": {
      "text/html": [
       "<div>\n",
       "<style scoped>\n",
       "    .dataframe tbody tr th:only-of-type {\n",
       "        vertical-align: middle;\n",
       "    }\n",
       "\n",
       "    .dataframe tbody tr th {\n",
       "        vertical-align: top;\n",
       "    }\n",
       "\n",
       "    .dataframe thead th {\n",
       "        text-align: right;\n",
       "    }\n",
       "</style>\n",
       "<table border=\"1\" class=\"dataframe\">\n",
       "  <thead>\n",
       "    <tr style=\"text-align: right;\">\n",
       "      <th></th>\n",
       "      <th>MODEL_NAME</th>\n",
       "      <th>PROBABILITY</th>\n",
       "      <th>PREDICTION</th>\n",
       "    </tr>\n",
       "  </thead>\n",
       "  <tbody>\n",
       "    <tr>\n",
       "      <th>0</th>\n",
       "      <td>MODEL-0</td>\n",
       "      <td>0.0</td>\n",
       "      <td>GAMMA</td>\n",
       "    </tr>\n",
       "    <tr>\n",
       "      <th>1</th>\n",
       "      <td>MODEL-0</td>\n",
       "      <td>0.4</td>\n",
       "      <td>BETA</td>\n",
       "    </tr>\n",
       "    <tr>\n",
       "      <th>2</th>\n",
       "      <td>MODEL-0</td>\n",
       "      <td>0.6</td>\n",
       "      <td>ALPHA</td>\n",
       "    </tr>\n",
       "    <tr>\n",
       "      <th>3</th>\n",
       "      <td>MODEL-1</td>\n",
       "      <td>0.2</td>\n",
       "      <td>GAMMA</td>\n",
       "    </tr>\n",
       "    <tr>\n",
       "      <th>4</th>\n",
       "      <td>MODEL-1</td>\n",
       "      <td>0.1</td>\n",
       "      <td>BETA</td>\n",
       "    </tr>\n",
       "    <tr>\n",
       "      <th>5</th>\n",
       "      <td>MODEL-1</td>\n",
       "      <td>0.7</td>\n",
       "      <td>ALPHA</td>\n",
       "    </tr>\n",
       "  </tbody>\n",
       "</table>\n",
       "</div>"
      ],
      "text/plain": [
       "  MODEL_NAME  PROBABILITY PREDICTION\n",
       "0    MODEL-0          0.0      GAMMA\n",
       "1    MODEL-0          0.4       BETA\n",
       "2    MODEL-0          0.6      ALPHA\n",
       "3    MODEL-1          0.2      GAMMA\n",
       "4    MODEL-1          0.1       BETA\n",
       "5    MODEL-1          0.7      ALPHA"
      ]
     },
     "execution_count": 630,
     "metadata": {},
     "output_type": "execute_result"
    }
   ],
   "source": [
    "model0       =[\"MODEL-0\",\"MODEL-0\",\"MODEL-0\"]\n",
    "model0_proba = [0,.4,.6]\n",
    "model0_pred  = [\"GAMMA\",\"BETA\",\"ALPHA\"]\n",
    "# \n",
    "model1       =[\"MODEL-1\",\"MODEL-1\",\"MODEL-1\"]\n",
    "model1_proba = [.2,.1,.7]\n",
    "model1_pred  = [\"GAMMA\",\"BETA\",\"ALPHA\"]\n",
    "P.DataFrame({\n",
    "    \"MODEL_NAME\":model0+model1,\n",
    "    \"PROBABILITY\":model0_proba+model1_proba,\n",
    "    \"PREDICTION\":model0_pred+model1_pred\n",
    "})"
   ]
  },
  {
   "cell_type": "code",
   "execution_count": 646,
   "id": "treated-battle",
   "metadata": {},
   "outputs": [],
   "source": [
    "# y_train5"
   ]
  },
  {
   "cell_type": "code",
   "execution_count": 650,
   "id": "designing-biodiversity",
   "metadata": {},
   "outputs": [],
   "source": [
    "pipeline0 = Pipeline([\n",
    "    (\"scaler\",StandardScaler()),\n",
    "    (\"clf\",LogisticRegression())\n",
    "])\n",
    "pipeline1 = Pipeline([\n",
    "    (\"scaler\",StandardScaler()),\n",
    "    (\"clf\",BaggingClassifier(base_estimator=LogisticRegression(),n_estimators=10, random_state=0))\n",
    "])\n",
    "pipeline2 = Pipeline([\n",
    "    (\"scaler\",StandardScaler()),\n",
    "    (\"clf\",AdaBoostClassifier(n_estimators=10, random_state=0))\n",
    "])\n",
    "pipeline3 = Pipeline([\n",
    "    (\"scaler\",StandardScaler()),\n",
    "    (\"clf\",GradientBoostingClassifier(n_estimators=10, random_state=0))\n",
    "])\n",
    "pipeline4 = Pipeline([\n",
    "    (\"scaler\",StandardScaler()),\n",
    "    (\"clf\",RandomForestClassifier(n_estimators=10, random_state=0))\n",
    "])\n",
    "pipelines = [pipeline0,pipeline1,pipeline2,pipeline3,pipeline4]"
   ]
  },
  {
   "cell_type": "code",
   "execution_count": 651,
   "id": "political-cache",
   "metadata": {},
   "outputs": [],
   "source": [
    "for pipeline in pipelines:\n",
    "    pipeline.fit(X_train5,y_train5)"
   ]
  },
  {
   "cell_type": "code",
   "execution_count": 692,
   "id": "republican-empty",
   "metadata": {},
   "outputs": [],
   "source": [
    "model_names = [\"LOGISTIC\",\"BAGGING\",\"ADA\",\"GRADIENT\",\"RANDOM_F\"]\n",
    "for filename,pipeline in zip(model_names,pipelines):\n",
    "    pickle.dump(pipeline,open(\"./UI/models/{}.sav\".format(filename), \"wb\") )\n",
    "# pickle.dump(clf5, open(\"./UI/models/ADAC_3.sav\", 'wb'))"
   ]
  },
  {
   "cell_type": "code",
   "execution_count": 696,
   "id": "motivated-fever",
   "metadata": {},
   "outputs": [
    {
     "data": {
      "text/plain": [
       "{'LOGISTIC': Pipeline(steps=[('scaler', StandardScaler()), ('clf', LogisticRegression())]),\n",
       " 'RANDOM_F': Pipeline(steps=[('scaler', StandardScaler()),\n",
       "                 ('clf',\n",
       "                  RandomForestClassifier(n_estimators=10, random_state=0))]),\n",
       " 'ADA': Pipeline(steps=[('scaler', StandardScaler()),\n",
       "                 ('clf', AdaBoostClassifier(n_estimators=10, random_state=0))]),\n",
       " 'GRADIENT': Pipeline(steps=[('scaler', StandardScaler()),\n",
       "                 ('clf',\n",
       "                  GradientBoostingClassifier(n_estimators=10, random_state=0))]),\n",
       " 'BAGGING': Pipeline(steps=[('scaler', StandardScaler()),\n",
       "                 ('clf',\n",
       "                  BaggingClassifier(base_estimator=LogisticRegression(),\n",
       "                                    random_state=0))])}"
      ]
     },
     "execution_count": 696,
     "metadata": {},
     "output_type": "execute_result"
    }
   ],
   "source": [
    "models  = os.listdir(\"./UI/models\")\n",
    "MODELS = {}\n",
    "for model in models:\n",
    "    modelName = model.split(\".\")[0]\n",
    "    MODELS[modelName] = None\n",
    "    pipeline = pickle.load(open(\"./UI/models/{}\".format(model),\"rb\" ))\n",
    "    MODELS[modelName]=pipeline\n",
    "MODELS\n",
    "# models"
   ]
  },
  {
   "cell_type": "code",
   "execution_count": 698,
   "id": "second-refund",
   "metadata": {},
   "outputs": [
    {
     "name": "stdout",
     "output_type": "stream",
     "text": [
      "[[1 1]]\n"
     ]
    },
    {
     "data": {
      "text/html": [
       "<div>\n",
       "<style scoped>\n",
       "    .dataframe tbody tr th:only-of-type {\n",
       "        vertical-align: middle;\n",
       "    }\n",
       "\n",
       "    .dataframe tbody tr th {\n",
       "        vertical-align: top;\n",
       "    }\n",
       "\n",
       "    .dataframe thead th {\n",
       "        text-align: right;\n",
       "    }\n",
       "</style>\n",
       "<table border=\"1\" class=\"dataframe\">\n",
       "  <thead>\n",
       "    <tr style=\"text-align: right;\">\n",
       "      <th></th>\n",
       "      <th>MODEL_NAME</th>\n",
       "      <th>PROBABILITY</th>\n",
       "      <th>PREDICTION</th>\n",
       "    </tr>\n",
       "  </thead>\n",
       "  <tbody>\n",
       "    <tr>\n",
       "      <th>0</th>\n",
       "      <td>BAGGING</td>\n",
       "      <td>7.570439e-02</td>\n",
       "      <td>Alpha</td>\n",
       "    </tr>\n",
       "    <tr>\n",
       "      <th>1</th>\n",
       "      <td>BAGGING</td>\n",
       "      <td>2.401960e-04</td>\n",
       "      <td>Beta</td>\n",
       "    </tr>\n",
       "    <tr>\n",
       "      <th>2</th>\n",
       "      <td>BAGGING</td>\n",
       "      <td>9.240554e-01</td>\n",
       "      <td>Gamma</td>\n",
       "    </tr>\n",
       "    <tr>\n",
       "      <th>0</th>\n",
       "      <td>GRADIENT</td>\n",
       "      <td>9.951799e-02</td>\n",
       "      <td>Alpha</td>\n",
       "    </tr>\n",
       "    <tr>\n",
       "      <th>1</th>\n",
       "      <td>GRADIENT</td>\n",
       "      <td>1.023352e-01</td>\n",
       "      <td>Beta</td>\n",
       "    </tr>\n",
       "    <tr>\n",
       "      <th>2</th>\n",
       "      <td>GRADIENT</td>\n",
       "      <td>7.981468e-01</td>\n",
       "      <td>Gamma</td>\n",
       "    </tr>\n",
       "    <tr>\n",
       "      <th>0</th>\n",
       "      <td>ADA</td>\n",
       "      <td>6.846176e-03</td>\n",
       "      <td>Alpha</td>\n",
       "    </tr>\n",
       "    <tr>\n",
       "      <th>1</th>\n",
       "      <td>ADA</td>\n",
       "      <td>2.483660e-07</td>\n",
       "      <td>Beta</td>\n",
       "    </tr>\n",
       "    <tr>\n",
       "      <th>2</th>\n",
       "      <td>ADA</td>\n",
       "      <td>9.931536e-01</td>\n",
       "      <td>Gamma</td>\n",
       "    </tr>\n",
       "    <tr>\n",
       "      <th>0</th>\n",
       "      <td>RANDOM_F</td>\n",
       "      <td>0.000000e+00</td>\n",
       "      <td>Alpha</td>\n",
       "    </tr>\n",
       "    <tr>\n",
       "      <th>1</th>\n",
       "      <td>RANDOM_F</td>\n",
       "      <td>0.000000e+00</td>\n",
       "      <td>Beta</td>\n",
       "    </tr>\n",
       "    <tr>\n",
       "      <th>2</th>\n",
       "      <td>RANDOM_F</td>\n",
       "      <td>1.000000e+00</td>\n",
       "      <td>Gamma</td>\n",
       "    </tr>\n",
       "    <tr>\n",
       "      <th>0</th>\n",
       "      <td>LOGISTIC</td>\n",
       "      <td>7.322617e-02</td>\n",
       "      <td>Alpha</td>\n",
       "    </tr>\n",
       "    <tr>\n",
       "      <th>1</th>\n",
       "      <td>LOGISTIC</td>\n",
       "      <td>3.099100e-04</td>\n",
       "      <td>Beta</td>\n",
       "    </tr>\n",
       "    <tr>\n",
       "      <th>2</th>\n",
       "      <td>LOGISTIC</td>\n",
       "      <td>9.264639e-01</td>\n",
       "      <td>Gamma</td>\n",
       "    </tr>\n",
       "  </tbody>\n",
       "</table>\n",
       "</div>"
      ],
      "text/plain": [
       "  MODEL_NAME   PROBABILITY PREDICTION\n",
       "0    BAGGING  7.570439e-02      Alpha\n",
       "1    BAGGING  2.401960e-04       Beta\n",
       "2    BAGGING  9.240554e-01      Gamma\n",
       "0   GRADIENT  9.951799e-02      Alpha\n",
       "1   GRADIENT  1.023352e-01       Beta\n",
       "2   GRADIENT  7.981468e-01      Gamma\n",
       "0        ADA  6.846176e-03      Alpha\n",
       "1        ADA  2.483660e-07       Beta\n",
       "2        ADA  9.931536e-01      Gamma\n",
       "0   RANDOM_F  0.000000e+00      Alpha\n",
       "1   RANDOM_F  0.000000e+00       Beta\n",
       "2   RANDOM_F  1.000000e+00      Gamma\n",
       "0   LOGISTIC  7.322617e-02      Alpha\n",
       "1   LOGISTIC  3.099100e-04       Beta\n",
       "2   LOGISTIC  9.264639e-01      Gamma"
      ]
     },
     "execution_count": 698,
     "metadata": {},
     "output_type": "execute_result"
    }
   ],
   "source": [
    "x =N.array([[1,1]])\n",
    "def getData(**kwargs):\n",
    "    x       = kwargs.get(\"x\",N.array([[0,0]]) )\n",
    "    print(x)\n",
    "    test_df = P.DataFrame()\n",
    "    for i,pipeline in MODELS.items():\n",
    "        classes    = pipeline.classes_ \n",
    "        modelName  = [\"{}\".format(i)]*len(classes)\n",
    "        proba      = pipeline.predict_proba(x)[0]\n",
    "        tmp_df    = P.DataFrame(\n",
    "            {\n",
    "                \"MODEL_NAME\":modelName,\n",
    "                \"PROBABILITY\": proba,\n",
    "                \"PREDICTION\":classes\n",
    "            }\n",
    "        )\n",
    "        test_df = P.concat([tmp_df,test_df])\n",
    "    return test_df\n",
    "getData(x=x)\n",
    "# test_df\n",
    "\n",
    "    \n",
    "    "
   ]
  },
  {
   "cell_type": "code",
   "execution_count": 653,
   "id": "olympic-oklahoma",
   "metadata": {},
   "outputs": [
    {
     "name": "stdout",
     "output_type": "stream",
     "text": [
      "0.9634146341463414\n",
      "0.9634146341463414\n",
      "0.8048780487804879\n",
      "0.983739837398374\n",
      "0.991869918699187\n"
     ]
    }
   ],
   "source": [
    "for pipeline in pipelines:\n",
    "    score = pipeline.score(X_test5,y_test5)\n",
    "    print(score)"
   ]
  },
  {
   "cell_type": "code",
   "execution_count": 388,
   "id": "cellular-mediterranean",
   "metadata": {},
   "outputs": [],
   "source": [
    "scores = P.DataFrame([score1,score2,score3,score4,score5,score6,score7],columns=[\"MODEL\",\"SCORE\"])\n",
    "# scores"
   ]
  },
  {
   "cell_type": "code",
   "execution_count": 389,
   "id": "another-pulse",
   "metadata": {},
   "outputs": [
    {
     "data": {
      "text/plain": [
       "<AxesSubplot:xlabel='MODEL', ylabel='SCORE'>"
      ]
     },
     "execution_count": 389,
     "metadata": {},
     "output_type": "execute_result"
    },
    {
     "data": {
      "image/png": "[encoded data removed]",
      "text/plain": [
       "<Figure size 432x288 with 1 Axes>"
      ]
     },
     "metadata": {
      "needs_background": "light"
     },
     "output_type": "display_data"
    }
   ],
   "source": [
    "SB.barplot(data=scores,x=\"MODEL\",y=\"SCORE\")"
   ]
  },
  {
   "cell_type": "code",
   "execution_count": 407,
   "id": "numerous-thriller",
   "metadata": {},
   "outputs": [
    {
     "data": {
      "text/plain": [
       "array([[3.33494134e-02, 5.43170808e-05, 9.66596270e-01]])"
      ]
     },
     "execution_count": 407,
     "metadata": {},
     "output_type": "execute_result"
    }
   ],
   "source": [
    "x = N.array([[1.0,2.0]])\n",
    "clf5.predict_proba(x)"
   ]
  },
  {
   "cell_type": "code",
   "execution_count": 395,
   "id": "looking-appendix",
   "metadata": {},
   "outputs": [],
   "source": [
    "pickle.dump(clf5, open(\"./UI/models/ADAC_3.sav\", 'wb'))"
   ]
  },
  {
   "cell_type": "code",
   "execution_count": 242,
   "id": "changing-christopher",
   "metadata": {},
   "outputs": [
    {
     "data": {
      "text/plain": [
       "<AxesSubplot:xlabel='USER_DENSITY', ylabel='Density'>"
      ]
     },
     "execution_count": 242,
     "metadata": {},
     "output_type": "execute_result"
    },
    {
     "data": {
      "image/png": "[encoded data removed]",
      "text/plain": [
       "<Figure size 432x288 with 1 Axes>"
      ]
     },
     "metadata": {
      "needs_background": "light"
     },
     "output_type": "display_data"
    }
   ],
   "source": [
    "SB.kdeplot(data=PRODUCERS,x=\"USER_DENSITY\")\n",
    "# SB.kdeplot(data=PRODUCERS,x=\"USER_VOLUME\")"
   ]
  },
  {
   "cell_type": "code",
   "execution_count": 143,
   "id": "confirmed-finding",
   "metadata": {},
   "outputs": [
    {
     "data": {
      "text/plain": [
       "(array([      7870,      65800,      95982,     116480,     138723,\n",
       "            146992,     157925,     165018,     181431,     253028,\n",
       "            599410,     620226,     767976,     787132,     816371,\n",
       "            986542,    1014516,    1118221,    1130055,    1160067,\n",
       "           1258618,    1450621,    1565565,    1574083,    1878832,\n",
       "           1906837,    1921298,    1996363,    2015506,    2397494,\n",
       "           2450320,    2720271,    2898021,    3052048,    3416684,\n",
       "           3442433,    3849553,    4042283,    4140744,    4616106,\n",
       "           4721025,    4803655,    5087794,    5405651,    5514235,\n",
       "           6590609,    6620212,    6849281,    6860189,    8789137,\n",
       "           9187952,    9473172,    9675477,    9777455,   10581097,\n",
       "          11145219,   11206038,   11285087,   11360919,   11522830,\n",
       "          11762801,   12456888,   12485872,   12602307,   12900868,\n",
       "          12995776,   14155630,   14598218,   15503147,   16516077,\n",
       "          16653526,   16926557,   17104316,   17789355,   18719531,\n",
       "          18918467,   19769622,   21418335,   21652557,   23678829,\n",
       "          23793248,   25096719,   26669533,   28902942,   29421778,\n",
       "          29809055,   29849632,   30976373,   31320010,   32337339,\n",
       "          33123285,   34870044,   36045182,   36170336,   37312375,\n",
       "          37510126,   39329697,   39444431,   40238620,   41981804,\n",
       "          43512986,   44902119,   48804988,   50804348,   54315777,\n",
       "         104887415,  144605776,  144646783,  144751146,  145821237,\n",
       "         173560420,  174143945,  178377460,  178522459,  179801071,\n",
       "         181306552,  182144062,  184692323,  186904952,  187619120,\n",
       "         187797298,  189379530,  191780822,  192271144,  193288192,\n",
       "         193991323,  195270438,  195976455,  197656340,  198016434,\n",
       "         199230400,  200743279,  202453899,  208560325,  209363741,\n",
       "         212411978,  217867189,  220885929,  230447982,  232463295,\n",
       "         241997151,  247944034,  251478729,  255974367,  259220806,\n",
       "         264042583,  267150258,  270099873,  276192188,  280526827,\n",
       "         282843766,  288951729,  290023231,  297139370,  301763305,\n",
       "         314790477,  326118493,  326765160,  337872647,  350781937,\n",
       "         361386289,  386277730,  435909874,  462812351,  474640424,\n",
       "         475652177,  491917617,  511234658,  511681663,  519360384,\n",
       "         519941099,  527660389,  528002193,  528817151,  550072490,\n",
       "         550563120,  600168571,  611906850,  615435612,  636462485,\n",
       "         648832327,  664015240,  742756569,  775740654,  828854686,\n",
       "         901987650,  928716745,  986959732, 1056975626, 1110719435,\n",
       "        1187423599, 1189085124, 1269033626, 1444265401, 1450620409,\n",
       "        1463412041, 1482175840, 1484713846, 1487923224, 1521781441,\n",
       "        1527511289, 1544389063, 1545137312, 1576246743, 1578859187,\n",
       "        1601920308, 1619356484, 1624593034, 1632038167, 1652014018,\n",
       "        1690074597, 1703863925, 1742460701, 1746185888, 1758777116,\n",
       "        1785849650, 1818892636, 1925734333, 2010578211, 2084606212,\n",
       "        2175920487, 2205301520, 2243532154, 2249273665, 2252052890,\n",
       "        2255160176, 2266314608, 2299493736, 2300108650, 2306821321,\n",
       "        2308620132, 2346415096, 2349894421, 2357503665]),\n",
       " array([1, 1, 1, 1, 1, 1, 1, 2, 1, 1, 1, 1, 1, 4, 2, 1, 1, 1, 1, 1, 1, 3,\n",
       "        2, 8, 1, 2, 1, 3, 1, 1, 1, 1, 1, 2, 2, 1, 1, 1, 3, 1, 1, 1, 1, 1,\n",
       "        1, 2, 1, 1, 1, 1, 3, 1, 1, 1, 1, 1, 3, 2, 2, 1, 2, 3, 1, 1, 1, 2,\n",
       "        1, 1, 1, 1, 1, 3, 1, 1, 1, 1, 4, 2, 1, 1, 1, 1, 1, 1, 2, 1, 1, 1,\n",
       "        1, 6, 1, 2, 1, 1, 1, 1, 1, 1, 1, 2, 1, 2, 1, 1, 1, 3, 1, 2, 1, 1,\n",
       "        2, 1, 1, 3, 1, 3, 1, 2, 1, 2, 1, 1, 1, 1, 4, 1, 2, 1, 1, 1, 1, 3,\n",
       "        1, 2, 1, 1, 1, 3, 1, 1, 1, 4, 2, 1, 8, 1, 1, 1, 3, 3, 1, 1, 2, 2,\n",
       "        2, 2, 1, 1, 2, 3, 1, 1, 1, 1, 4, 1, 1, 1, 1, 2, 1, 1, 2, 1, 1, 1,\n",
       "        3, 1, 1, 1, 1, 1, 3, 1, 1, 1, 1, 1, 1, 1, 1, 1, 1, 1, 2, 1, 1, 2,\n",
       "        1, 1, 2, 1, 3, 2, 1, 1, 1, 2, 2, 2, 1, 3, 1, 2, 1, 2, 1, 1, 1, 3,\n",
       "        2, 1, 2, 1, 3, 1, 1, 1, 1, 1, 1, 1, 3, 1]))"
      ]
     },
     "execution_count": 143,
     "metadata": {},
     "output_type": "execute_result"
    }
   ],
   "source": [
    "N.unique(PRODUCERS[\"USER_ID\"],return_counts=True)"
   ]
  },
  {
   "cell_type": "code",
   "execution_count": 146,
   "id": "painted-continent",
   "metadata": {},
   "outputs": [
    {
     "data": {
      "text/plain": [
       "(array([      7870,      65800,      95982,     116480,     138723,\n",
       "            146992,     157925,     165018,     181431,     253028,\n",
       "            599410,     620226,     767976,     787132,     816371,\n",
       "            986542,    1014516,    1118221,    1130055,    1160067,\n",
       "           1258618,    1450621,    1565565,    1574083,    1878832,\n",
       "           1906837,    1921298,    1996363,    2015506,    2397494,\n",
       "           2450320,    2720271,    2898021,    3052048,    3416684,\n",
       "           3442433,    3849553,    4042283,    4140744,    4616106,\n",
       "           4721025,    4803655,    5087794,    5405651,    5514235,\n",
       "           6590609,    6620212,    6849281,    6860189,    8789137,\n",
       "           9187952,    9473172,    9675477,    9777455,   10581097,\n",
       "          11145219,   11206038,   11285087,   11360919,   11522830,\n",
       "          11762801,   12456888,   12485872,   12602307,   12900868,\n",
       "          12995776,   14155630,   14598218,   15503147,   16516077,\n",
       "          16653526,   16926557,   17104316,   17789355,   18719531,\n",
       "          18918467,   19769622,   21418335,   21652557,   23678829,\n",
       "          23793248,   25096719,   26669533,   28902942,   29421778,\n",
       "          29809055,   29849632,   30976373,   31320010,   32337339,\n",
       "          33123285,   34870044,   36045182,   36170336,   37312375,\n",
       "          37510126,   39329697,   39444431,   40238620,   41981804,\n",
       "          43512986,   44902119,   48804988,   50804348,   54315777,\n",
       "         104887415,  144605776,  144646783,  144751146,  145821237,\n",
       "         173560420,  174143945,  178377460,  178522459,  179801071,\n",
       "         181306552,  182144062,  184692323,  186904952,  187619120,\n",
       "         187797298,  189379530,  191780822,  192271144,  193288192,\n",
       "         193991323,  195270438,  195976455,  197656340,  198016434,\n",
       "         199230400,  200743279,  202453899,  208560325,  209363741,\n",
       "         212411978,  217867189,  220885929,  230447982,  232463295,\n",
       "         241997151,  247944034,  251478729,  255974367,  259220806,\n",
       "         264042583,  267150258,  270099873,  276192188,  280526827,\n",
       "         282843766,  288951729,  290023231,  297139370,  301763305,\n",
       "         314790477,  326118493,  326765160,  337872647,  350781937,\n",
       "         361386289,  386277730,  435909874,  462812351,  474640424,\n",
       "         475652177,  491917617,  511234658,  511681663,  519360384,\n",
       "         519941099,  527660389,  528002193,  528817151,  550072490,\n",
       "         550563120,  600168571,  611906850,  615435612,  636462485,\n",
       "         648832327,  664015240,  742756569,  775740654,  828854686,\n",
       "         901987650,  928716745,  986959732, 1056975626, 1110719435,\n",
       "        1187423599, 1189085124, 1269033626, 1444265401, 1450620409,\n",
       "        1463412041, 1482175840, 1484713846, 1487923224, 1521781441,\n",
       "        1527511289, 1544389063, 1545137312, 1576246743, 1578859187,\n",
       "        1601920308, 1619356484, 1624593034, 1632038167, 1652014018,\n",
       "        1690074597, 1703863925, 1742460701, 1746185888, 1758777116,\n",
       "        1785849650, 1818892636, 1925734333, 2010578211, 2084606212,\n",
       "        2175920487, 2205301520, 2243532154, 2249273665, 2252052890,\n",
       "        2255160176, 2266314608, 2299493736, 2300108650, 2306821321,\n",
       "        2308620132, 2346415096, 2349894421, 2357503665]),\n",
       " array([1, 1, 1, 1, 1, 1, 1, 1, 1, 1, 1, 1, 1, 1, 1, 1, 1, 1, 1, 1, 1, 1,\n",
       "        1, 1, 1, 1, 1, 1, 1, 1, 1, 1, 1, 1, 1, 1, 1, 1, 1, 1, 1, 1, 1, 1,\n",
       "        1, 1, 1, 1, 1, 1, 1, 1, 1, 1, 1, 1, 1, 1, 1, 1, 1, 1, 1, 1, 1, 1,\n",
       "        1, 1, 1, 1, 1, 1, 1, 1, 1, 1, 1, 1, 1, 1, 1, 1, 1, 1, 1, 1, 1, 1,\n",
       "        1, 1, 1, 1, 1, 1, 1, 1, 1, 1, 1, 1, 1, 1, 1, 1, 1, 1, 1, 1, 1, 1,\n",
       "        1, 1, 1, 1, 1, 1, 1, 1, 1, 1, 1, 1, 1, 1, 1, 1, 1, 1, 1, 1, 1, 1,\n",
       "        1, 1, 1, 1, 1, 1, 1, 1, 1, 1, 1, 1, 1, 1, 1, 1, 1, 1, 1, 1, 1, 1,\n",
       "        1, 1, 1, 1, 1, 1, 1, 1, 1, 1, 1, 1, 1, 1, 1, 1, 1, 1, 1, 1, 1, 1,\n",
       "        1, 1, 1, 1, 1, 1, 1, 1, 1, 1, 1, 1, 1, 1, 1, 1, 1, 1, 1, 1, 1, 1,\n",
       "        1, 1, 1, 1, 1, 1, 1, 1, 1, 1, 1, 1, 1, 1, 1, 1, 1, 1, 1, 1, 1, 1,\n",
       "        1, 1, 1, 1, 1, 1, 1, 1, 1, 1, 1, 1, 1, 1]))"
      ]
     },
     "execution_count": 146,
     "metadata": {},
     "output_type": "execute_result"
    }
   ],
   "source": [
    "NEW_PRODUCERS = PRODUCERS.drop_duplicates([\"USER_ID\"])\n",
    "N.unique(NEW_PRODUCERS[\"USER_ID\"],return_counts=True)"
   ]
  },
  {
   "cell_type": "code",
   "execution_count": 156,
   "id": "assisted-franchise",
   "metadata": {},
   "outputs": [
    {
     "data": {
      "text/plain": [
       "100.0"
      ]
     },
     "execution_count": 156,
     "metadata": {},
     "output_type": "execute_result"
    }
   ],
   "source": [
    "# NEW_PRODUCERS[\"CONSUME_OTHERS\"].sum()\n",
    "(NEW_PRODUCERS[\"PRODUCTION\"]+NEW_PRODUCERS[\"CONSUME_OTHERS\"]).sum()"
   ]
  },
  {
   "cell_type": "markdown",
   "id": "whole-resistance",
   "metadata": {},
   "source": [
    "# Consumers"
   ]
  },
  {
   "cell_type": "code",
   "execution_count": 6,
   "id": "congressional-grade",
   "metadata": {},
   "outputs": [],
   "source": [
    "CONSUMERS = df[df[\"TYPE\"]==\"DOWNLOAD\"]"
   ]
  },
  {
   "cell_type": "code",
   "execution_count": 10,
   "id": "freelance-beijing",
   "metadata": {},
   "outputs": [],
   "source": [
    "CONSUMERS_DF = CONSUMERS.drop_duplicates([\"USER_ID\"])"
   ]
  },
  {
   "cell_type": "code",
   "execution_count": 31,
   "id": "adverse-vaccine",
   "metadata": {},
   "outputs": [],
   "source": [
    "classes_counter = [\n",
    "    N.unique(PRODUCERS_DF[\"USER_ID\"]).shape[0],\n",
    "    N.unique(CONSUMERS_DF[\"USER_ID\"]).shape[0]\n",
    "]\n",
    "classes_counter_df = P.DataFrame(\n",
    " {\n",
    "     \"count\":classes_counter,\n",
    "     \"role\":[\"PRODUCER\",\"CONSUMER\"]\n",
    " }\n",
    ") "
   ]
  },
  {
   "cell_type": "code",
   "execution_count": null,
   "id": "worst-netscape",
   "metadata": {},
   "outputs": [],
   "source": []
  },
  {
   "cell_type": "code",
   "execution_count": 34,
   "id": "driven-honey",
   "metadata": {},
   "outputs": [
    {
     "data": {
      "text/plain": [
       "<AxesSubplot:xlabel='role', ylabel='count'>"
      ]
     },
     "execution_count": 34,
     "metadata": {},
     "output_type": "execute_result"
    },
    {
     "data": {
      "image/png": "[encoded data removed]",
      "text/plain": [
       "<Figure size 432x288 with 1 Axes>"
      ]
     },
     "metadata": {
      "needs_background": "light"
     },
     "output_type": "display_data"
    }
   ],
   "source": [
    "SB.barplot(data=classes_counter_df,x=\"role\",y=\"count\")"
   ]
  },
  {
   "cell_type": "code",
   "execution_count": null,
   "id": "labeled-latvia",
   "metadata": {},
   "outputs": [],
   "source": []
  }
 ],
 "metadata": {
  "kernelspec": {
   "display_name": "Python 3",
   "language": "python",
   "name": "python3"
  },
  "language_info": {
   "codemirror_mode": {
    "name": "ipython",
    "version": 3
   },
   "file_extension": ".py",
   "mimetype": "text/x-python",
   "name": "python",
   "nbconvert_exporter": "python",
   "pygments_lexer": "ipython3",
   "version": "3.8.10"
  }
 },
 "nbformat": 4,
 "nbformat_minor": 5
}
